{
 "cells": [
  {
   "cell_type": "code",
   "execution_count": 6,
   "id": "db833004",
   "metadata": {},
   "outputs": [],
   "source": [
    "OUTPUT_FOLDER = \"./output/DGIDB_BREAST_CANCER/\"\n",
    "# Leave blank for the all drugs\n",
    "SNOMED_DISEASE_CODES = [254837009]"
   ]
  },
  {
   "cell_type": "code",
   "execution_count": 7,
   "id": "95b85f00",
   "metadata": {},
   "outputs": [],
   "source": [
    "import numpy as np\n",
    "import pandas as pd\n",
    "from scipy.sparse import dok_matrix, save_npz\n",
    "import os\n",
    "import json\n",
    "DGIDB = pd.read_csv(\"../Data/DGIDB/DrugToGene.tsv\", sep=\"\\t\")\n",
    "HUMANNET = pd.read_csv(\"../Data/HumanNet/HumanNet-GSP.tsv\", sep=\"\\t\")\n",
    "DDDB = pd.read_csv(\"../Data/DDDB/DrugToDisease.tsv\", sep=\"\\t\")\n",
    "os.makedirs(OUTPUT_FOLDER, exist_ok=True)"
   ]
  },
  {
   "cell_type": "code",
   "execution_count": 8,
   "id": "0f427d0f",
   "metadata": {},
   "outputs": [
    {
     "name": "stdout",
     "output_type": "stream",
     "text": [
      "['GEMCITABINE', 'PREDNISOLONE', 'MELPHALAN', 'GOSERELIN ACETATE', 'MEDROXYPROGESTERONE', 'METHOTREXATE', 'TAMOXIFEN', 'VINCRISTINE', 'EPIRUBICIN', 'OXALIPLATIN']\n"
     ]
    }
   ],
   "source": [
    "specific_disease_drugs = DDDB.loc[DDDB['SNOMED'].isin(SNOMED_DISEASE_CODES), 'ndfrt_preferred_label'].dropna().unique().tolist()\n",
    "print(specific_disease_drugs)"
   ]
  },
  {
   "cell_type": "code",
   "execution_count": 9,
   "id": "03d7c06e",
   "metadata": {},
   "outputs": [
    {
     "name": "stdout",
     "output_type": "stream",
     "text": [
      "Mappings saved to ./output/DGIDB_BREAST_CANCER/gene_to_index.json and ./output/DGIDB_BREAST_CANCER/drug_to_index.json.\n",
      "Weighted incidence matrix saved as ./output/DGIDB_BREAST_CANCER/hypergraph_incidence_matrix_weighted.npz'.\n",
      "Binary incidence matrix saved as ./output/DGIDB_BREAST_CANCER/hypergraph_incidence_matrix_binary.npz'.\n"
     ]
    }
   ],
   "source": [
    "# Calculate gene degrees in HumanNet\n",
    "genes_in_humannet = pd.unique(HUMANNET[['Gene1', 'Gene2']].values.ravel())\n",
    "gene_to_degree = {gene: 0 for gene in genes_in_humannet}\n",
    "\n",
    "for _, row in HUMANNET.iterrows():\n",
    "    gene_to_degree[row[\"Gene1\"]] += 1\n",
    "    gene_to_degree[row[\"Gene2\"]] += 1\n",
    "\n",
    "# Add degrees to DGIDB with fallback to 0.01 for missing genes\n",
    "DGIDB['ncbi_gene_id'] = DGIDB['ncbi_gene_id'].astype(str)\n",
    "gene_to_degree = {str(gene): degree for gene, degree in gene_to_degree.items()}\n",
    "DGIDB['degree'] = DGIDB['ncbi_gene_id'].map(gene_to_degree).fillna(0.01)\n",
    "\n",
    "# Create mappings for vertices and hyperedges\n",
    "genes = DGIDB['ncbi_gene_id'].unique()\n",
    "drugs = DGIDB['drug_name'].unique()\n",
    "gene_to_index = {gene: i for i, gene in enumerate(genes)}\n",
    "drug_to_index = {drug: i for i, drug in enumerate(drugs)}\n",
    "# Define file paths\n",
    "gene_to_index_path = OUTPUT_FOLDER + \"gene_to_index.json\"\n",
    "drug_to_index_path = OUTPUT_FOLDER + \"drug_to_index.json\"\n",
    "\n",
    "# Save gene_to_index mapping\n",
    "with open(gene_to_index_path, 'w') as gene_file:\n",
    "    json.dump(gene_to_index, gene_file, indent=4)\n",
    "\n",
    "# Save drug_to_index mapping\n",
    "with open(drug_to_index_path, 'w') as drug_file:\n",
    "    json.dump(drug_to_index, drug_file, indent=4)\n",
    "\n",
    "print(f\"Mappings saved to {gene_to_index_path} and {drug_to_index_path}.\")\n",
    "\n",
    "\n",
    "# Initialize a sparse incidence matrix\n",
    "incidence_matrix = dok_matrix((len(genes), len(drugs)), dtype=float)\n",
    "binary_incidence_matrix = dok_matrix((len(genes), len(drugs)), dtype=int)\n",
    "\n",
    "# Filter rows only if needed\n",
    "if specific_disease_drugs:\n",
    "    relevant_rows = DGIDB[DGIDB['drug_name'].isin(specific_disease_drugs)]\n",
    "else:\n",
    "    relevant_rows = DGIDB\n",
    "\n",
    "# Populate only the relevant entries\n",
    "for _, row in relevant_rows.iterrows():\n",
    "    gene_idx = gene_to_index[row['ncbi_gene_id']]\n",
    "    drug_idx = drug_to_index[row['drug_name']]\n",
    "    incidence_matrix[gene_idx, drug_idx] = row['degree']\n",
    "    binary_incidence_matrix[gene_idx, drug_idx] = 1\n",
    "\n",
    "# Convert the DOK matrix to CSR format\n",
    "csr_matrix = incidence_matrix.tocsr()\n",
    "binary_csr_matrix = binary_incidence_matrix.tocsr()\n",
    "\n",
    "# Save the matrix as .npz file\n",
    "save_npz(OUTPUT_FOLDER + \"hypergraph_incidence_matrix_weighted.npz\", csr_matrix)\n",
    "save_npz(OUTPUT_FOLDER + \"hypergraph_incidence_matrix_binary.npz\", binary_csr_matrix)\n",
    "\n",
    "# Print confirmation\n",
    "print(f\"Weighted incidence matrix saved as {OUTPUT_FOLDER}hypergraph_incidence_matrix_weighted.npz'.\")\n",
    "print(f\"Binary incidence matrix saved as {OUTPUT_FOLDER}hypergraph_incidence_matrix_binary.npz'.\")"
   ]
  }
 ],
 "metadata": {
  "kernelspec": {
   "display_name": "dgivenv",
   "language": "python",
   "name": "python3"
  },
  "language_info": {
   "codemirror_mode": {
    "name": "ipython",
    "version": 3
   },
   "file_extension": ".py",
   "mimetype": "text/x-python",
   "name": "python",
   "nbconvert_exporter": "python",
   "pygments_lexer": "ipython3",
   "version": "3.7.0"
  }
 },
 "nbformat": 4,
 "nbformat_minor": 5
}
