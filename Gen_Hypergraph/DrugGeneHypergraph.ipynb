{
 "cells": [
  {
   "cell_type": "code",
   "execution_count": 86,
   "id": "db833004",
   "metadata": {},
   "outputs": [],
   "source": [
    "OUTPUT_FOLDER = \"./output/DGIDB_ARTHRITIS/\"\n",
    "# Leave blank for the all drugs\n",
    "SNOMED_DISEASE_CODES = [69896004]"
   ]
  },
  {
   "cell_type": "code",
   "execution_count": 87,
   "id": "95b85f00",
   "metadata": {},
   "outputs": [],
   "source": [
    "import numpy as np\n",
    "import pandas as pd\n",
    "from scipy.sparse import dok_matrix, save_npz\n",
    "import os\n",
    "import json\n",
    "DGIDB = pd.read_csv(\"../Data/DGIDB/DrugToGene.tsv\", sep=\"\\t\")\n",
    "HUMANNET = pd.read_csv(\"../Data/HumanNet/HumanNet-GSP.tsv\", sep=\"\\t\")\n",
    "DDDB = pd.read_csv(\"../Data/DDDB/DrugToDisease.tsv\", sep=\"\\t\")\n",
    "os.makedirs(OUTPUT_FOLDER, exist_ok=True)"
   ]
  },
  {
   "cell_type": "code",
   "execution_count": 88,
   "id": "0f427d0f",
   "metadata": {},
   "outputs": [
    {
     "name": "stdout",
     "output_type": "stream",
     "text": [
      "['Ibuprofen', 'Minocycline', 'TRIAMCINOLONE', 'SULFAMETHOXAZOLE', 'PREDNISONE', 'SULFASALAZINE', 'PREDNISOLONE', 'NAPROXEN', 'DICLOFENAC', 'HYDROXYCHLOROQUINE', 'METHOTREXATE', 'RITUXIMAB', 'INFLIXIMAB', 'LEFLUNOMIDE', 'THALIDOMIDE', 'CELECOXIB', 'MELOXICAM', 'ADALIMUMAB', 'ASPIRIN', 'DEXAMETHASONE', 'CYCLOSPORINE', 'AZATHIOPRINE', 'ETANERCEPT', 'TACROLIMUS', 'FLURBIPROFEN']\n"
     ]
    }
   ],
   "source": [
    "specific_disease_drugs = DDDB.loc[DDDB['SNOMED'].isin(SNOMED_DISEASE_CODES), 'ndfrt_preferred_label'].dropna().unique().tolist()\n",
    "print(specific_disease_drugs)"
   ]
  },
  {
   "cell_type": "code",
   "execution_count": null,
   "id": "03d7c06e",
   "metadata": {},
   "outputs": [
    {
     "name": "stdout",
     "output_type": "stream",
     "text": [
      "Mappings saved to ./output/DGIDB_ARTHRITIS/gene_to_index.json and ./output/DGIDB_ARTHRITIS/drug_to_index.json.\n",
      "Weighted incidence matrix saved as ./output/DGIDB_ARTHRITIS/hypergraph_incidence_matrix_weighted.npz'.\n",
      "Binary incidence matrix saved as ./output/DGIDB_ARTHRITIS/hypergraph_incidence_matrix_binary.npz'.\n"
     ]
    }
   ],
   "source": [
    "# Calculate gene degrees in HumanNet\n",
    "genes_in_humannet = pd.unique(HUMANNET[['Gene1', 'Gene2']].values.ravel())\n",
    "gene_to_degree = {gene: 0 for gene in genes_in_humannet}\n",
    "\n",
    "for _, row in HUMANNET.iterrows():\n",
    "    gene_to_degree[row[\"Gene1\"]] += 1\n",
    "    gene_to_degree[row[\"Gene2\"]] += 1\n",
    "\n",
    "# Add degrees to DGIDB with fallback to 0.01 for missing genes\n",
    "DGIDB['ncbi_gene_id'] = DGIDB['ncbi_gene_id'].astype(str)\n",
    "gene_to_degree = {str(gene): degree for gene, degree in gene_to_degree.items()}\n",
    "DGIDB['degree'] = DGIDB['ncbi_gene_id'].map(gene_to_degree).fillna(0.01)\n",
    "\n",
    "# Create mappings for vertices and hyperedges\n",
    "genes = DGIDB['ncbi_gene_id'].unique()\n",
    "drugs = DGIDB['drug_name'].unique()\n",
    "gene_to_index = {gene: i for i, gene in enumerate(genes)}\n",
    "drug_to_index = {drug: i for i, drug in enumerate(drugs)}\n",
    "# Define file paths\n",
    "gene_to_index_path = OUTPUT_FOLDER + \"gene_to_index.json\"\n",
    "drug_to_index_path = OUTPUT_FOLDER + \"drug_to_index.json\"\n",
    "\n",
    "# Save gene_to_index mapping\n",
    "with open(gene_to_index_path, 'w') as gene_file:\n",
    "    json.dump(gene_to_index, gene_file, indent=4)\n",
    "\n",
    "# Save drug_to_index mapping\n",
    "with open(drug_to_index_path, 'w') as drug_file:\n",
    "    json.dump(drug_to_index, drug_file, indent=4)\n",
    "\n",
    "print(f\"Mappings saved to {gene_to_index_path} and {drug_to_index_path}.\")\n",
    "\n",
    "\n",
    "# Initialize a sparse incidence matrix\n",
    "incidence_matrix = dok_matrix((len(genes), len(drugs)), dtype=float)\n",
    "binary_incidence_matrix = dok_matrix((len(genes), len(drugs)), dtype=int)\n",
    "\n",
    "# Filter rows only if needed\n",
    "if specific_disease_drugs:\n",
    "    relevant_rows = DGIDB[DGIDB['drug_name'].isin(specific_disease_drugs)]\n",
    "else:\n",
    "    relevant_rows = DGIDB\n",
    "\n",
    "# Populate only the relevant entries\n",
    "for _, row in relevant_rows.iterrows():\n",
    "    gene_idx = gene_to_index[row['ncbi_gene_id']]\n",
    "    drug_idx = drug_to_index[row['drug_name']]\n",
    "    incidence_matrix[gene_idx, drug_idx] = row['degree']\n",
    "    binary_incidence_matrix[gene_idx, drug_idx] = 1\n",
    "\n",
    "# Convert the DOK matrix to CSR format\n",
    "csr_matrix = incidence_matrix.tocsr()\n",
    "binary_csr_matrix = binary_incidence_matrix.tocsr()\n",
    "\n",
    "# Save the matrix as .npz file\n",
    "save_npz(OUTPUT_FOLDER + \"hypergraph_incidence_matrix_weighted.npz\", csr_matrix)\n",
    "save_npz(OUTPUT_FOLDER + \"hypergraph_incidence_matrix_binary.npz\", binary_csr_matrix)\n",
    "\n",
    "# Print confirmation\n",
    "print(f\"Weighted incidence matrix saved as {OUTPUT_FOLDER}hypergraph_incidence_matrix_weighted.npz'.\")\n",
    "print(f\"Binary incidence matrix saved as {OUTPUT_FOLDER}hypergraph_incidence_matrix_binary.npz'.\")"
   ]
  },
  {
   "cell_type": "code",
   "execution_count": 90,
   "id": "873f690b",
   "metadata": {},
   "outputs": [
    {
     "name": "stdout",
     "output_type": "stream",
     "text": [
      "Number of non-empty drugs: 17\n",
      "Indices of non-empty drugs: [ 117  261  267  330  417  565  704 1357 1453 2648 2754 2844 2849 3473\n",
      " 5016 5393 7589]\n"
     ]
    }
   ],
   "source": [
    "# Count non-zero entries per column\n",
    "non_empty_drugs = np.array((binary_csr_matrix != 0).sum(axis=0)).flatten()\n",
    "\n",
    "# Get indices of non-empty columns\n",
    "non_empty_drug_indices = np.where(non_empty_drugs > 0)[0]\n",
    "\n",
    "print(f\"Number of non-empty drugs: {len(non_empty_drug_indices)}\")\n",
    "print(\"Indices of non-empty drugs:\", non_empty_drug_indices)\n"
   ]
  },
  {
   "cell_type": "code",
   "execution_count": 91,
   "id": "3d38b67a",
   "metadata": {},
   "outputs": [
    {
     "name": "stdout",
     "output_type": "stream",
     "text": [
      "Drug: Ibuprofen not found in drug_to_index.\n",
      "Drug: Minocycline not found in drug_to_index.\n",
      "Drug: TRIAMCINOLONE, Index: 1453\n",
      "Drug: SULFAMETHOXAZOLE, Index: 267\n",
      "Drug: PREDNISONE, Index: 2754\n",
      "Drug: SULFASALAZINE, Index: 5016\n",
      "Drug: PREDNISOLONE, Index: 2648\n",
      "Drug: NAPROXEN not found in drug_to_index.\n",
      "Drug: DICLOFENAC not found in drug_to_index.\n",
      "Drug: HYDROXYCHLOROQUINE, Index: 2849\n",
      "Drug: METHOTREXATE, Index: 261\n",
      "Drug: RITUXIMAB, Index: 565\n",
      "Drug: INFLIXIMAB not found in drug_to_index.\n",
      "Drug: LEFLUNOMIDE, Index: 1357\n",
      "Drug: THALIDOMIDE, Index: 704\n",
      "Drug: CELECOXIB, Index: 417\n",
      "Drug: MELOXICAM, Index: 5393\n",
      "Drug: ADALIMUMAB not found in drug_to_index.\n",
      "Drug: ASPIRIN, Index: 330\n",
      "Drug: DEXAMETHASONE, Index: 117\n",
      "Drug: CYCLOSPORINE, Index: 2844\n",
      "Drug: AZATHIOPRINE, Index: 7589\n",
      "Drug: ETANERCEPT not found in drug_to_index.\n",
      "Drug: TACROLIMUS not found in drug_to_index.\n",
      "Drug: FLURBIPROFEN, Index: 3473\n"
     ]
    }
   ],
   "source": [
    "for drug in specific_disease_drugs:\n",
    "    if drug in drug_to_index:\n",
    "        idx = drug_to_index[drug]\n",
    "        print(f\"Drug: {drug}, Index: {idx}\")\n",
    "    else:\n",
    "        print(f\"Drug: {drug} not found in drug_to_index.\")\n"
   ]
  },
  {
   "cell_type": "code",
   "execution_count": null,
   "id": "24b1c89d",
   "metadata": {},
   "outputs": [],
   "source": [
    "# # Compute gene-gene adjacency matrix by projecting via shared drugs\n",
    "# adj_matrix = adj_matrix = binary_csr_matrix @ binary_csr_matrix.T  # Matrix multiplication: shared drugs\n",
    "# adj_matrix.setdiag(0)\n",
    "# adj_matrix.eliminate_zeros()\n",
    "\n",
    "# # --- Step 2: Extract Edgelist from Upper Triangle Only ---\n",
    "# # Use sparse coo_matrix to iterate efficiently\n",
    "# from scipy.sparse import triu\n",
    "\n",
    "# adj_matrix_upper = triu(adj_matrix, k=1)  # upper triangle, no diag\n",
    "# adj_coo = adj_matrix_upper.tocoo()\n",
    "\n",
    "# # Optional: if you have gene names\n",
    "# # gene_names = ['TP53', 'EGFR', 'BRCA1', ...]\n",
    "# # Otherwise use indices as names\n",
    "\n",
    "# edges = []\n",
    "# for i, j, v in zip(adj_coo.row, adj_coo.col, adj_coo.data):\n",
    "#     edges.append((i, j, v))  # replace i/j with gene_names[i] if available\n",
    "\n",
    "# # Convert to DataFrame and save\n",
    "# edge_df = pd.DataFrame(edges, columns=[\"Gene1\", \"Gene2\", \"Weight\"])\n",
    "\n",
    "# # If you have gene names, map them:\n",
    "# # edge_df[\"Gene1\"] = edge_df[\"Gene1\"].map(lambda i: gene_names[i])\n",
    "# # edge_df[\"Gene2\"] = edge_df[\"Gene2\"].map(lambda i: gene_names[i])\n",
    "\n",
    "# edge_df.to_csv(\"gene_gene_edgelist.csv\", index=False)"
   ]
  },
  {
   "cell_type": "code",
   "execution_count": 93,
   "id": "6f28975b",
   "metadata": {},
   "outputs": [],
   "source": [
    "# import pandas as pd\n",
    "\n",
    "# if 'NCBI_INFO' not in globals():\n",
    "#     print(\"Reading gene2refseq.gz...\")\n",
    "#     NCBI_INFO = pd.read_csv(\"../Data/ncbi/gene2refseq.gz\", sep='\\t', compression='gzip')\n",
    "# else:\n",
    "#     print(\"NCBI_INFO already loaded.\")"
   ]
  },
  {
   "cell_type": "code",
   "execution_count": 94,
   "id": "2bf3cdc4",
   "metadata": {},
   "outputs": [],
   "source": [
    "# index_to_ncbi = {idx: gene for gene, idx in gene_to_index.items()}\n",
    "# human_gene2refseq = NCBI_INFO[NCBI_INFO['#tax_id'] == 9606]\n",
    "# id_to_gene_claim = pd.Series(human_gene2refseq.Symbol.values, index=human_gene2refseq.GeneID).to_dict()\n",
    "\n",
    "# # Your existing function to get common gene name from ncbi gene id\n",
    "# def get_gene_claim_name(ncbi_gene_id):\n",
    "#     try:\n",
    "#         ncbi_gene_id = int(ncbi_gene_id)\n",
    "#         result = id_to_gene_claim.get(ncbi_gene_id, None)\n",
    "#         return result if result else \"Gene name not found\"\n",
    "#     except:\n",
    "#         return \"Gene name not found\""
   ]
  },
  {
   "cell_type": "code",
   "execution_count": 95,
   "id": "473bec60",
   "metadata": {},
   "outputs": [],
   "source": [
    "# # Step 1: Map index → NCBI gene ID\n",
    "# edge_df['Gene1_ncbi'] = edge_df['Gene1'].map(index_to_ncbi)\n",
    "# edge_df['Gene2_ncbi'] = edge_df['Gene2'].map(index_to_ncbi)\n",
    "\n",
    "# # Step 2: Map NCBI gene ID → gene symbol\n",
    "# edge_df['Gene1'] = edge_df['Gene1_ncbi'].apply(get_gene_claim_name)\n",
    "# edge_df['Gene2'] = edge_df['Gene2_ncbi'].apply(get_gene_claim_name)\n",
    "\n",
    "# # Step 3: Drop temp NCBI ID columns\n",
    "# edge_df = edge_df.drop(columns=['Gene1_ncbi', 'Gene2_ncbi'])\n",
    "\n",
    "# # Optional: Save to CSV\n",
    "# edge_df.to_csv('gene_gene_edgelist_named.csv', index=False)\n"
   ]
  }
 ],
 "metadata": {
  "kernelspec": {
   "display_name": "dgivenv",
   "language": "python",
   "name": "python3"
  },
  "language_info": {
   "codemirror_mode": {
    "name": "ipython",
    "version": 3
   },
   "file_extension": ".py",
   "mimetype": "text/x-python",
   "name": "python",
   "nbconvert_exporter": "python",
   "pygments_lexer": "ipython3",
   "version": "3.7.0"
  }
 },
 "nbformat": 4,
 "nbformat_minor": 5
}
