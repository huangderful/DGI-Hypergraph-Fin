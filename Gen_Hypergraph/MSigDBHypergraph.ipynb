{
 "cells": [
  {
   "cell_type": "code",
   "execution_count": 49,
   "id": "4ca722c9",
   "metadata": {},
   "outputs": [],
   "source": [
    "import pandas as pd\n",
    "import ast\n",
    "import os\n",
    "from scipy.sparse import dok_matrix, save_npz\n",
    "import json\n",
    "import numpy as np\n",
    "OUTPUT_FOLDER = \"./output/MSigDB_FULL/\"\n",
    "os.makedirs(OUTPUT_FOLDER, exist_ok=True)\n",
    "MSIGDB = pd.read_csv(\"../Data/MSigDB/PathwayToGene.tsv\", sep=\"\\t\")\n",
    "HUMANNET = pd.read_csv(\"../Data/HumanNet/HumanNet-GSP.tsv\", sep=\"\\t\")"
   ]
  },
  {
   "cell_type": "code",
   "execution_count": 50,
   "id": "e9962b7c",
   "metadata": {},
   "outputs": [],
   "source": [
    "# Convert stringified lists to actual lists\n",
    "MSIGDB[\"ncbi_gene_ids\"] = MSIGDB[\"ncbi_gene_ids\"].apply(ast.literal_eval)\n",
    "MSIGDB[\"ncbi_gene_ids\"] = MSIGDB[\"ncbi_gene_ids\"].apply(lambda genes: [str(g) for g in genes])"
   ]
  },
  {
   "cell_type": "code",
   "execution_count": 51,
   "id": "cfcdbf7d",
   "metadata": {},
   "outputs": [],
   "source": [
    "\n",
    "# Get unique genes\n",
    "all_genes = sorted(set(gene for gene_list in MSIGDB[\"ncbi_gene_ids\"] for gene in gene_list))\n",
    "# Get unique pathways\n",
    "all_pathways = MSIGDB[\"pathway\"].tolist()"
   ]
  },
  {
   "cell_type": "code",
   "execution_count": 53,
   "id": "9b2c10d7",
   "metadata": {},
   "outputs": [
    {
     "name": "stdout",
     "output_type": "stream",
     "text": [
      "Mappings saved to ./output/MSigDB_FULL/gene_to_index.json and ./output/MSigDB_FULL/pathway_to_index.json.\n"
     ]
    }
   ],
   "source": [
    "\n",
    "# Create mappings\n",
    "gene_to_index = {gene: i for i, gene in enumerate(all_genes)}\n",
    "pathway_to_index = {pathway: j for j, pathway in enumerate(all_pathways)}\n",
    "# Define file paths\n",
    "gene_to_index_path = OUTPUT_FOLDER + \"gene_to_index.json\"\n",
    "pathway_to_index_path = OUTPUT_FOLDER + \"pathway_to_index.json\"\n",
    "\n",
    "# Save gene_to_index mapping\n",
    "with open(gene_to_index_path, 'w') as gene_file:\n",
    "    json.dump(gene_to_index, gene_file, indent=4)\n",
    "\n",
    "# Save drug_to_index mapping\n",
    "with open(pathway_to_index_path, 'w') as pathway_file:\n",
    "    json.dump(pathway_to_index, pathway_file, indent=4)\n",
    "print(f\"Mappings saved to {gene_to_index_path} and {pathway_to_index_path}.\")\n"
   ]
  },
  {
   "cell_type": "code",
   "execution_count": 54,
   "id": "4dd512e8",
   "metadata": {},
   "outputs": [],
   "source": [
    "# Calculate gene degrees in HumanNet\n",
    "genes_in_humannet = pd.unique(HUMANNET[['Gene1', 'Gene2']].values.ravel())\n",
    "gene_to_degree = {gene: 0 for gene in genes_in_humannet}\n",
    "\n",
    "for _, row in HUMANNET.iterrows():\n",
    "    gene_to_degree[row[\"Gene1\"]] += 1\n",
    "    gene_to_degree[row[\"Gene2\"]] += 1\n"
   ]
  },
  {
   "cell_type": "code",
   "execution_count": 56,
   "id": "8c1a63a0",
   "metadata": {},
   "outputs": [
    {
     "name": "stdout",
     "output_type": "stream",
     "text": [
      "Weighted incidence matrix saved as ./output/MSigDB_FULL//hypergraph_incidence_matrix_weighted.npz'.\n",
      "Binary incidence matrix saved as ./output/MSigDB_FULL//hypergraph_incidence_matrix_binary.npz'.\n"
     ]
    }
   ],
   "source": [
    "# Initialize DOK matrix\n",
    "binary_incidence_matrix = dok_matrix((len(all_genes), len(all_pathways)), dtype=np.int8)\n",
    "weighted_incidence_matrix = dok_matrix((len(all_genes), len(all_pathways)), dtype=float)\n",
    "\n",
    "# Populate the matrix\n",
    "for _, row in MSIGDB.iterrows():\n",
    "    j = pathway_to_index[row[\"pathway\"]]\n",
    "    for gene in row[\"ncbi_gene_ids\"]:\n",
    "        i = gene_to_index[gene]  # Row index for gene\n",
    "        binary_incidence_matrix[i, j] = 1  # Binary presence\n",
    "        weighted_incidence_matrix[i, j] = gene_to_degree.get(gene, 0.01)\n",
    "\n",
    "# Convert the DOK matrix to CSR format\n",
    "csr_matrix = weighted_incidence_matrix.tocsr()\n",
    "binary_csr_matrix = binary_incidence_matrix.tocsr()\n",
    "\n",
    "# Save the matrix as .npz file\n",
    "save_npz(OUTPUT_FOLDER + \"hypergraph_incidence_matrix_weighted.npz\", csr_matrix)\n",
    "save_npz(OUTPUT_FOLDER + \"hypergraph_incidence_matrix_binary.npz\", binary_csr_matrix)\n",
    "\n",
    "# Print confirmation\n",
    "print(f\"Weighted incidence matrix saved as {OUTPUT_FOLDER}/hypergraph_incidence_matrix_weighted.npz'.\")\n",
    "print(f\"Binary incidence matrix saved as {OUTPUT_FOLDER}/hypergraph_incidence_matrix_binary.npz'.\")"
   ]
  }
 ],
 "metadata": {
  "kernelspec": {
   "display_name": "dgivenv",
   "language": "python",
   "name": "python3"
  },
  "language_info": {
   "codemirror_mode": {
    "name": "ipython",
    "version": 3
   },
   "file_extension": ".py",
   "mimetype": "text/x-python",
   "name": "python",
   "nbconvert_exporter": "python",
   "pygments_lexer": "ipython3",
   "version": "3.7.0"
  }
 },
 "nbformat": 4,
 "nbformat_minor": 5
}
