{
 "cells": [
  {
   "cell_type": "code",
   "execution_count": 11,
   "id": "b372167a",
   "metadata": {},
   "outputs": [],
   "source": [
    "import pandas as pd\n",
    "import os\n",
    "from scipy.sparse import dok_matrix, save_npz, load_npz\n",
    "\n",
    "K = 10\n",
    "HOP = 1\n",
    "OUTPUT_FOLDER = f\"./output/KHOP/DGIDB_Bipolar/K_{K}_HOP_{HOP}/\"\n",
    "if not os.path.exists(OUTPUT_FOLDER):\n",
    "    os.makedirs(OUTPUT_FOLDER)\n",
    "SCORES = pd.read_csv(\"../Methods/output/DGIDB_Bipolar/rwr_results.csv\")\n",
    "HYPERGRAPH_DIRECTORY = \"../Gen_Hypergraph/output/DGIDB_BIPOLAR/\""
   ]
  },
  {
   "cell_type": "code",
   "execution_count": 9,
   "id": "3da18275",
   "metadata": {},
   "outputs": [],
   "source": [
    "top_k_indices = bipolar_scores[\"Index\"][:K].to_list()\n",
    "binary_full_matrix = load_npz(HYPERGRAPH_DIRECTORY + \"hypergraph_incidence_matrix_binary.npz\")\n",
    "weighted_full_matrix = load_npz(HYPERGRAPH_DIRECTORY + \"hypergraph_incidence_matrix_weighted.npz\")"
   ]
  },
  {
   "cell_type": "code",
   "execution_count": 10,
   "id": "e279b61e",
   "metadata": {},
   "outputs": [],
   "source": [
    "# Initialize a sparse incidence matrix\n",
    "queue = top_k_indices.copy()\n",
    "# Perform BFS up to n hops\n",
    "current_genes = set(top_k_indices)\n",
    "\n",
    "all_genes = set(top_k_indices)\n",
    "all_drugs = set()\n",
    "\n",
    "# BFS for n Hops\n",
    "for hop in range(HOP):\n",
    "    next_genes = set()\n",
    "    next_drugs = set()\n",
    "\n",
    "    # Step 1: Gene → Drug\n",
    "    for gene in current_genes:\n",
    "        connected_drugs = binary_full_matrix[gene, :].nonzero()[1]\n",
    "        for drug in connected_drugs:\n",
    "            next_drugs.add(drug)\n",
    "    \n",
    "    # Step 2: Drug → Gene\n",
    "    for drug in next_drugs:\n",
    "        connected_genes = binary_full_matrix[:, drug].nonzero()[0]\n",
    "        for gene in connected_genes:\n",
    "            next_genes.add(gene)\n",
    "    \n",
    "    # Update the sets for the next hop\n",
    "    all_drugs.update(next_drugs)\n",
    "    all_genes.update(next_genes)\n",
    "    current_genes = next_genes"
   ]
  },
  {
   "cell_type": "code",
   "execution_count": 12,
   "id": "2267af7c",
   "metadata": {},
   "outputs": [],
   "source": [
    "# Initialize filtered incidence matrices\n",
    "binary_incidence_matrix = dok_matrix((binary_full_matrix.shape), dtype=float)\n",
    "weighted_incidence_matrix = dok_matrix((weighted_full_matrix.shape), dtype=float)\n",
    "# Copy relevant nodes and edges\n",
    "for gene in all_genes:\n",
    "    for drug in binary_full_matrix[gene].nonzero()[1]:\n",
    "        if drug in all_drugs:\n",
    "            binary_incidence_matrix[gene, drug] = binary_full_matrix[gene, drug]\n",
    "            weighted_incidence_matrix[gene, drug] = weighted_full_matrix[gene, drug]\n",
    "\n",
    "\n",
    "binary_csr_matrix = binary_incidence_matrix.tocsr()\n",
    "weighted_csr_matrix = weighted_incidence_matrix.tocsr()\n",
    "\n",
    "save_npz(OUTPUT_FOLDER + \"hypergraph_incidence_matrix_binary.npz\", binary_csr_matrix)\n",
    "save_npz(OUTPUT_FOLDER + \"hypergraph_incidence_matrix_weighted.npz\", weighted_csr_matrix)\n"
   ]
  }
 ],
 "metadata": {
  "kernelspec": {
   "display_name": "dgivenv",
   "language": "python",
   "name": "python3"
  },
  "language_info": {
   "codemirror_mode": {
    "name": "ipython",
    "version": 3
   },
   "file_extension": ".py",
   "mimetype": "text/x-python",
   "name": "python",
   "nbconvert_exporter": "python",
   "pygments_lexer": "ipython3",
   "version": "3.7.0"
  }
 },
 "nbformat": 4,
 "nbformat_minor": 5
}
