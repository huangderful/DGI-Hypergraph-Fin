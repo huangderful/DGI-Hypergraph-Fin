{
 "cells": [
  {
   "cell_type": "markdown",
   "id": "b5417299",
   "metadata": {},
   "source": [
    "### Given a Gene (and optionally a disease), Get the drugs associated with it"
   ]
  },
  {
   "cell_type": "code",
   "execution_count": 4,
   "id": "58b1fd6e",
   "metadata": {},
   "outputs": [],
   "source": [
    "import pandas as pd\n",
    "DGIDB = pd.read_csv(\"../Data/DGIDB/DrugToGene.tsv\", sep=\"\\t\")\n"
   ]
  },
  {
   "cell_type": "code",
   "execution_count": null,
   "id": "05806d5d",
   "metadata": {},
   "outputs": [
    {
     "name": "stdout",
     "output_type": "stream",
     "text": [
      "['SELUMETINIB', 'NVP-TAE 226', 'RG-7256', 'CETUXIMAB', 'OSIMERTINIB', 'ALPELISIB', 'DNA-DEPENDENT PROTEIN KINASE-TARGETING SIDNA DT01', 'BRAFV600/PI3K INHIBITOR ASN003', 'HSP90 INHIBITOR XL888', 'MAP855', 'ENZALUTAMIDE', 'RAF-265', 'BINIMETINIB', 'PAN-RAF INHIBITOR LY3009120', 'GEDATOLISIB', 'PEMBROLIZUMAB', 'BI-847325', 'RABEPRAZOLE', 'RAF INHIBITOR BDTX-4933', 'FICERAFUSP ALFA', 'BRAF(V600E) KINASE INHIBITOR ABM-1310', 'PILARALISIB', 'DASATINIB ANHYDROUS', 'SORAFENIB', 'PLX8394', 'ATEZOLIZUMAB', 'PANITUMUMAB', 'CCT196969', 'NAB-PACLITAXEL', 'MOCETINOSTAT', 'TIZATERKIB', 'CFT1946', 'SAPITINIB', 'NIVOLUMAB', 'IRINOTECAN HYDROCHLORIDE', 'ABEMACICLIB', 'MITOGEN-ACTIVATED PROTEIN KINASE KINASE INHIBITOR', 'PYRVINIUM', 'XL281', 'REGORAFENIB', 'U0126', 'REFAMETINIB', 'CRIZOTINIB', 'LENVATINIB', 'TEMSIROLIMUS', 'GEFITINIB', 'AFATINIB', 'YM-254890', 'AKT INHIBITOR MK2206', 'DACTOLISIB', 'ALECTINIB', 'TRAMETINIB DIMETHYL SULFOXIDE', 'OBATOCLAX', 'TOVORAFENIB', 'DABRAFENIB', 'VEMURAFENIB', 'CCT241161', 'ENCORAFENIB', 'COBIMETINIB', 'AZ628', 'GDC-0879', 'RIBOCICLIB', 'KO-947', 'BELVARAFENIB', 'BMS-908662', 'EVEROLIMUS', 'TORIPALIMAB-TPZI', 'ERLOTINIB', 'DOXORUBICIN HYDROCHLORIDE', 'P53-HDM2 INTERACTION INHIBITOR MI-773', 'HYDROXYCHLOROQUINE', 'NAVITOCLAX', 'EXARAFENIB', 'LXH254', 'PLX-4720', 'TAK-733', 'VINBLASTINE', 'AZD6482', 'NVP-AEW541', 'BI-3406', 'CHLOROQUINE', 'LEUCOVORIN CALCIUM', 'FLUOROURACIL', 'TEMUTERKIB', 'PF-04217903', 'SAPANISERTIB', 'CAPECITABINE', 'PANOBINOSTAT', 'ERK INHIBITOR CC-90003', 'RUCAPARIB', 'E6201', 'GANETESPIB', 'BRAF(V600E) KINASE INHIBITOR RO5212054', 'IMATINIB', 'ARQ-736', 'LIFIRAFENIB', 'ZM336372', 'MK-8353', 'OXALIPLATIN', 'BI-2536', 'PIMASERTIB', 'GILTERITINIB', 'AGERAFENIB', 'RAVOXERTINIB', 'NAPORAFENIB', 'LAPATINIB', 'SCH772984', 'PONATINIB', 'TUBASTATIN A', 'P53/HDM2 INTERACTION INHIBITOR CGM097', 'PICTILISIB', 'ROMIDEPSIN', 'CHIR-265', 'MIRANSERTIB', 'PLX-8394', 'XL-281', 'OMIPALISIB', 'DOXORUBICIN LIPOSOME', 'TUNLAMETINIB', 'SB590885', 'TW-37', 'RINETERKIB', 'COMMENSAL BACTERIAL STRAIN FORMULATION VE800', 'ZSTK474', 'VTX-11E', 'BUPARLISIB', 'MIRDAMETINIB', 'ULIXERTINIB', 'BOSUTINIB', 'TGX-221', 'SONOLISIB', 'DEL-22379', 'PALBOCICLIB', 'SARACATINIB', 'MEK INHIBITOR RO4987655', 'SINTILIMAB', 'BRAF INHIBITOR', 'BEVACIZUMAB-AWWB', \"(10R)-10-METHYL-3-(6-METHYLPYRIDIN-3-YL)-9,10,11,12-TETRAHYDRO-8H-[1,4]DIAZEPINO[5',6':4,5]THIENO[3,2-F]QUINOLIN-8-ONE\", 'MEK INHIBITOR IMM-1-104', 'RUXOLITINIB', 'ASTX029', 'VORUCICLIB', 'IPILIMUMAB', 'MILADEMETAN', 'UPROSERTIB', 'TIVOZANIB', 'LY3009120', 'VENETOCLAX', 'LY-3009120', 'PF-00477736', 'ERK1/2 INHIBITOR ERAS-007', 'TINLORAFENIB', 'GEMCITABINE', 'ENTINOSTAT', 'AZD3514', 'AXITINIB', 'SY-5609', 'LORLATINIB', 'GSK-2636771', 'LGX-806', 'VORINOSTAT', 'PAC-1', 'TALAZOPARIB', 'IDELALISIB', 'B-RAF/VEGFR-2 INHIBITOR RAF265', 'CEDIRANIB', 'ERK1/2 INHIBITOR JSI-1187', 'FUTUXIMAB/MODOTUXIMAB MIXTURE', 'AVUTOMETINIB', 'DENOSUMAB', 'RIFAMPIN', 'OLAPARIB', 'NERATINIB', 'PAN-RAF INHIBITOR XP-102', 'CELECOXIB', 'SHP2 INHIBITOR PF-07284892', 'PI3K/BET INHIBITOR LY294002', 'SAR260301', 'GSK2334470', 'NAVTEMADLIN', 'CI-1040', 'SPARTALIZUMAB', 'MEK 1/2 INHIBITOR FCN-159', 'VALPROIC ACID', 'BRAF INHIBITOR BGB-3245', 'TAK-632', 'FUTIBATINIB']\n"
     ]
    }
   ],
   "source": [
    "def get_drugs_for_gene(gene_name):\n",
    "    return DGIDB[DGIDB['gene_name'] == gene_name]['drug_name'].dropna().unique().tolist()\n",
    "print(get_drugs_for_gene(\"BRAF\"))\n",
    "# Good "
   ]
  },
  {
   "cell_type": "code",
   "execution_count": 5,
   "id": "be9a14af",
   "metadata": {},
   "outputs": [],
   "source": [
    "def get_genes_for_drug(drug_name):\n",
    "    return DGIDB[DGIDB['drug_name'] == drug_name]['gene_name'].dropna().unique().tolist()\n",
    "\n",
    "bipolar_drugs = ['CLONAZEPAM', 'BUPROPION', 'SERTRALINE', 'OLANZAPINE', 'ZIPRASIDONE', 'QUETIAPINE', 'CHLORPROMAZINE', 'CARBAMAZEPINE', 'ALLOPURINOL', 'PERPHENAZINE', 'VALPROIC ACID', 'CLOZAPINE', 'LITHIUM', 'RISPERIDONE', 'LAMOTRIGINE', 'ARIPIPRAZOLE']\n"
   ]
  },
  {
   "cell_type": "code",
   "execution_count": 7,
   "id": "13edbfe8",
   "metadata": {},
   "outputs": [
    {
     "name": "stdout",
     "output_type": "stream",
     "text": [
      "['DRD2', 'SRC', 'CYP3A43', 'ABCG2', 'CYP1A1', 'SERPINA3', 'HLA-C', 'AMD1', 'GSTT1', 'HTR2A', 'SH2B1', 'C3', 'UGT2B10', 'ABCC1', 'HLA-DRB5', 'GRIN2B', 'CYP2C18', 'UGT1A1', 'A1BG', 'A2MP1', 'NATP', 'GLP1R', 'GFRA2', 'GDNF', 'MTHFR', 'CYP2C19', 'NT5E', 'HTR1A', 'NFIB', 'HLA-DRB3', 'ABCA4', 'ABCD1', 'ALDH2', 'HTR3A', 'GSTM1', 'CYP2D6', 'AMELX', 'MIR1912', 'FAAH', 'CYP3A4', 'DRD1', 'HTR7', 'MIR1264', 'AOC1', 'CHRM1', 'TRAC', 'ABCB7', 'ALDH3A1', 'PIK3CG', 'HTR2C', 'POLI', 'FASN', 'IL2', 'ELAVL2', 'CCKBR', 'PRKAB2', 'HLA-DPB1', 'MC4R', 'ABCF1', 'SLC1A1', 'LEP', 'ITIH3', 'TBC1D1', 'PRL', 'GCG', 'DTNBP1', 'HLA-B', 'TRAT1', 'RABEP1', 'EPM2A', 'FKBP5', 'SLC6A4', 'NAT2', 'ALDH1A1', 'SLC6A3', 'CYP1A2', 'OXT', 'AADAC', 'CBX1', 'JUND', 'KCNJ3', 'CYP2C9', 'UGT1A4', 'PRKAA2', 'NTRK2', 'HNMT', 'NQO2', 'A2M', 'ALCAM', 'HRH4', 'DRD4', 'HRH1']\n"
     ]
    }
   ],
   "source": [
    "print(get_genes_for_drug(\"CLOZAPINE\"))"
   ]
  },
  {
   "cell_type": "code",
   "execution_count": 9,
   "id": "e54d0fe7",
   "metadata": {},
   "outputs": [
    {
     "name": "stdout",
     "output_type": "stream",
     "text": [
      "Genes uniquely targeted by CLOZAPINE (excluding all others except OLANZAPINE):\n",
      "{'SRC', 'KCNJ3', 'GFRA2', 'GDNF', 'JUND', 'AADAC', 'ITIH3', 'OXT', 'PIK3CG', 'NQO2', 'HNMT', 'POLI', 'TRAT1', 'ELAVL2', 'GSTM1', 'NT5E', 'C3', 'HRH4', 'SLC6A4', 'IL2', 'HLA-DRB5', 'DTNBP1', 'TRAC', 'AMELX', 'HLA-DRB3', 'GSTT1', 'ABCC1', 'HLA-DPB1', 'SLC6A3', 'CYP2C18'}\n"
     ]
    }
   ],
   "source": [
    "bipolar_drugs = [\n",
    "    'CLONAZEPAM', 'BUPROPION', 'SERTRALINE', 'OLANZAPINE', 'ZIPRASIDONE', 'QUETIAPINE',\n",
    "    'CHLORPROMAZINE', 'CARBAMAZEPINE', 'ALLOPURINOL', 'PERPHENAZINE', 'VALPROIC ACID',\n",
    "    'CLOZAPINE', 'LITHIUM', 'RISPERIDONE', 'LAMOTRIGINE', 'ARIPIPRAZOLE'\n",
    "]\n",
    "\n",
    "# Get gene targets for CLOZAPINE\n",
    "clozapine_genes = set(get_genes_for_drug('CLOZAPINE'))\n",
    "\n",
    "# Get combined gene targets for all other drugs except OLANZAPINE and CLOZAPINE\n",
    "other_genes = set()\n",
    "for drug in bipolar_drugs:\n",
    "    if drug not in {'CLOZAPINE'}:\n",
    "        other_genes.update(get_genes_for_drug(drug))\n",
    "\n",
    "# Identify genes uniquely targeted by CLOZAPINE (excluding shared genes)\n",
    "unique_clozapine_targets = clozapine_genes - other_genes\n",
    "\n",
    "print(\"Genes uniquely targeted by CLOZAPINE (excluding all others except OLANZAPINE):\")\n",
    "print(unique_clozapine_targets)"
   ]
  },
  {
   "cell_type": "code",
   "execution_count": 38,
   "id": "955e0c97",
   "metadata": {},
   "outputs": [
    {
     "name": "stdout",
     "output_type": "stream",
     "text": [
      "[17461 17490 15885  9910  1192 15959 17766 15588 11873  6826  4559 15625\n",
      "  9913  3389  9067 13484 13049 16993 11974  9599]\n"
     ]
    }
   ],
   "source": [
    "top_perturbs = pd.read_csv(\"TOP.csv\")\n",
    "filtered = top_perturbs[top_perturbs[\"Drug\"] == \"CLOZAPINE\"]\n",
    "# filtered[\"GeneIndex\"].toarray()\n",
    "print(filtered[\"GeneIndex\"].values)"
   ]
  },
  {
   "cell_type": "code",
   "execution_count": null,
   "id": "3b679d6c",
   "metadata": {},
   "outputs": [
    {
     "name": "stdout",
     "output_type": "stream",
     "text": [
      "Node 14470 has 537 hyperedges.\n",
      "Node 17461 has 252 hyperedges.\n",
      "Nodes 14470 and 17461 share 52 hyperedges.\n",
      "Shared edges are 9.68% of node 14470's total, and 20.63% of node 17461's total.\n",
      "\n",
      "Node 17490 has 329 hyperedges.\n",
      "Nodes 14470 and 17490 share 66 hyperedges.\n",
      "Shared edges are 12.29% of node 14470's total, and 20.06% of node 17490's total.\n",
      "\n",
      "Node 15885 has 121 hyperedges.\n",
      "Nodes 14470 and 15885 share 26 hyperedges.\n",
      "Shared edges are 4.84% of node 14470's total, and 21.49% of node 15885's total.\n",
      "\n",
      "Node 9910 has 191 hyperedges.\n",
      "Nodes 14470 and 9910 share 22 hyperedges.\n",
      "Shared edges are 4.10% of node 14470's total, and 11.52% of node 9910's total.\n",
      "\n",
      "Node 1192 has 157 hyperedges.\n",
      "Nodes 14470 and 1192 share 27 hyperedges.\n",
      "Shared edges are 5.03% of node 14470's total, and 17.20% of node 1192's total.\n",
      "\n",
      "Node 15959 has 172 hyperedges.\n",
      "Nodes 14470 and 15959 share 18 hyperedges.\n",
      "Shared edges are 3.35% of node 14470's total, and 10.47% of node 15959's total.\n",
      "\n",
      "Node 17766 has 150 hyperedges.\n",
      "Nodes 14470 and 17766 share 8 hyperedges.\n",
      "Shared edges are 1.49% of node 14470's total, and 5.33% of node 17766's total.\n",
      "\n",
      "Node 15588 has 247 hyperedges.\n",
      "Nodes 14470 and 15588 share 57 hyperedges.\n",
      "Shared edges are 10.61% of node 14470's total, and 23.08% of node 15588's total.\n",
      "\n",
      "Node 11873 has 394 hyperedges.\n",
      "Nodes 14470 and 11873 share 73 hyperedges.\n",
      "Shared edges are 13.59% of node 14470's total, and 18.53% of node 11873's total.\n",
      "\n",
      "Node 6826 has 110 hyperedges.\n",
      "Nodes 14470 and 6826 share 39 hyperedges.\n",
      "Shared edges are 7.26% of node 14470's total, and 35.45% of node 6826's total.\n",
      "\n",
      "Node 4559 has 142 hyperedges.\n",
      "Nodes 14470 and 4559 share 1 hyperedges.\n",
      "Shared edges are 0.19% of node 14470's total, and 0.70% of node 4559's total.\n",
      "\n",
      "Node 15625 has 73 hyperedges.\n",
      "Nodes 14470 and 15625 share 6 hyperedges.\n",
      "Shared edges are 1.12% of node 14470's total, and 8.22% of node 15625's total.\n",
      "\n",
      "Node 9913 has 135 hyperedges.\n",
      "Nodes 14470 and 9913 share 27 hyperedges.\n",
      "Shared edges are 5.03% of node 14470's total, and 20.00% of node 9913's total.\n",
      "\n",
      "Node 3389 has 184 hyperedges.\n",
      "Nodes 14470 and 3389 share 23 hyperedges.\n",
      "Shared edges are 4.28% of node 14470's total, and 12.50% of node 3389's total.\n",
      "\n",
      "Node 9067 has 179 hyperedges.\n",
      "Nodes 14470 and 9067 share 36 hyperedges.\n",
      "Shared edges are 6.70% of node 14470's total, and 20.11% of node 9067's total.\n",
      "\n",
      "Node 13484 has 114 hyperedges.\n",
      "Nodes 14470 and 13484 share 15 hyperedges.\n",
      "Shared edges are 2.79% of node 14470's total, and 13.16% of node 13484's total.\n",
      "\n",
      "Node 13049 has 105 hyperedges.\n",
      "Nodes 14470 and 13049 share 1 hyperedges.\n",
      "Shared edges are 0.19% of node 14470's total, and 0.95% of node 13049's total.\n",
      "\n",
      "Node 16993 has 157 hyperedges.\n",
      "Nodes 14470 and 16993 share 11 hyperedges.\n",
      "Shared edges are 2.05% of node 14470's total, and 7.01% of node 16993's total.\n",
      "\n",
      "Node 11974 has 151 hyperedges.\n",
      "Nodes 14470 and 11974 share 12 hyperedges.\n",
      "Shared edges are 2.23% of node 14470's total, and 7.95% of node 11974's total.\n",
      "\n",
      "Node 9599 has 78 hyperedges.\n",
      "Nodes 14470 and 9599 share 4 hyperedges.\n",
      "Shared edges are 0.74% of node 14470's total, and 5.13% of node 9599's total.\n",
      "\n"
     ]
    }
   ],
   "source": [
    "import numpy as np\n",
    "from scipy.sparse import csr_matrix\n",
    "\n",
    "# Load sparse matrix as before\n",
    "loader = np.load('../Gen_Hypergraph/output/MSigDB_FULL/hypergraph_incidence_matrix_binary.npz')\n",
    "H = csr_matrix((loader['data'], loader['indices'], loader['indptr']), shape=loader['shape'])\n",
    "\n",
    "node_index = 14470\n",
    "otherNodes = filtered[\"GeneIndex\"].values\n",
    "\n",
    "# Get the row vector for the main node\n",
    "node_row = H.getrow(node_index)\n",
    "node_connections = node_row.count_nonzero()\n",
    "print(f\"Node {node_index} has {node_connections} hyperedges.\")\n",
    "\n",
    "for other_node in otherNodes:\n",
    "    other_row = H.getrow(other_node)\n",
    "    other_connections = other_row.count_nonzero()\n",
    "    shared_edges = node_row.multiply(other_row)  # element-wise AND\n",
    "    shared_count = shared_edges.count_nonzero()\n",
    "\n",
    "    node_connections = node_row.count_nonzero()\n",
    "    pct_shared_with_node = (shared_count / node_connections) * 100 if node_connections > 0 else 0\n",
    "    pct_shared_with_other = (shared_count / other_connections) * 100 if other_connections > 0 else 0\n",
    "\n",
    "    print(f\"Node {other_node} has {other_connections} hyperedges.\")\n",
    "    print(f\"Nodes {node_index} and {other_node} share {shared_count} hyperedges.\")\n",
    "    print(f\"Shared edges are {pct_shared_with_node:.2f}% of node {node_index}'s total, \"\n",
    "          f\"and {pct_shared_with_other:.2f}% of node {other_node}'s total.\\n\")"
   ]
  },
  {
   "cell_type": "code",
   "execution_count": 41,
   "id": "d122382d",
   "metadata": {},
   "outputs": [
    {
     "name": "stdout",
     "output_type": "stream",
     "text": [
      "Top 5 nodes that share the most hyperedges with node 17056:\n",
      "Node 14470 shares 126 hyperedges with node 17056 and has total 537 hyperedges.\n",
      "Node 8650 shares 116 hyperedges with node 17056 and has total 406 hyperedges.\n",
      "Node 14471 shares 114 hyperedges with node 17056 and has total 506 hyperedges.\n",
      "Node 13095 shares 111 hyperedges with node 17056 and has total 431 hyperedges.\n",
      "Node 9287 shares 109 hyperedges with node 17056 and has total 420 hyperedges.\n"
     ]
    }
   ],
   "source": [
    "import numpy as np\n",
    "from scipy.sparse import csr_matrix\n",
    "\n",
    "# Load sparse matrix\n",
    "loader = np.load('../Gen_Hypergraph/output/MSigDB_FULL/hypergraph_incidence_matrix_binary.npz')\n",
    "H = csr_matrix((loader['data'], loader['indices'], loader['indptr']), shape=loader['shape'])\n",
    "\n",
    "node_index = 17056\n",
    "\n",
    "# Get the row vector for the node of interest\n",
    "node_row = H.getrow(node_index)\n",
    "\n",
    "# Compute shared hyperedges count with all nodes\n",
    "shared_counts = H.dot(node_row.T).toarray().ravel()\n",
    "\n",
    "# Exclude self\n",
    "shared_counts[node_index] = 0\n",
    "\n",
    "# Get top 5 nodes by shared counts\n",
    "top5_indices = np.argpartition(-shared_counts, 5)[:5]\n",
    "top5_indices = top5_indices[np.argsort(-shared_counts[top5_indices])]\n",
    "\n",
    "print(f\"Top 5 nodes that share the most hyperedges with node {node_index}:\")\n",
    "\n",
    "for idx in top5_indices:\n",
    "    total_edges = H.getrow(idx).count_nonzero()\n",
    "    print(f\"Node {idx} shares {shared_counts[idx]} hyperedges with node {node_index} and has total {total_edges} hyperedges.\")\n"
   ]
  },
  {
   "cell_type": "code",
   "execution_count": 44,
   "id": "266e6492",
   "metadata": {},
   "outputs": [
    {
     "name": "stdout",
     "output_type": "stream",
     "text": [
      "Node 17056 has 284 hyperedges.\n",
      "This places it in the 99.87th percentile.\n"
     ]
    }
   ],
   "source": [
    "import numpy as np\n",
    "from scipy.sparse import csr_matrix\n",
    "\n",
    "# Load the sparse matrix\n",
    "loader = np.load('../Gen_Hypergraph/output/MSigDB_FULL/hypergraph_incidence_matrix_binary.npz')\n",
    "H = csr_matrix((loader['data'], loader['indices'], loader['indptr']), shape=loader['shape'])\n",
    "\n",
    "# Compute degrees (number of hyperedges per node)\n",
    "node_degrees = H.sum(axis=1).A1\n",
    "\n",
    "# Get the degree of the node of interest\n",
    "target_index = 17056\n",
    "target_degree = node_degrees[target_index]\n",
    "\n",
    "# Calculate the percentile of the target node's degree\n",
    "percentile = np.sum(node_degrees <= target_degree) / len(node_degrees) * 100\n",
    "\n",
    "print(f\"Node {target_index} has {target_degree} hyperedges.\")\n",
    "print(f\"This places it in the {percentile:.2f}th percentile.\")\n"
   ]
  },
  {
   "cell_type": "code",
   "execution_count": 47,
   "id": "0730a121",
   "metadata": {},
   "outputs": [
    {
     "data": {
      "image/png": "[encoded data removed]",
      "text/plain": [
       "<Figure size 1000x600 with 1 Axes>"
      ]
     },
     "metadata": {},
     "output_type": "display_data"
    }
   ],
   "source": [
    "import numpy as np\n",
    "import matplotlib.pyplot as plt\n",
    "from scipy.sparse import csr_matrix\n",
    "\n",
    "# Load the sparse matrix\n",
    "loader = np.load('../Gen_Hypergraph/output/MSigDB_FULL/hypergraph_incidence_matrix_binary.npz')\n",
    "H = csr_matrix((loader['data'], loader['indices'], loader['indptr']), shape=loader['shape'])\n",
    "\n",
    "# Compute degrees (number of hyperedges per node)\n",
    "node_degrees = H.sum(axis=1).A1\n",
    "\n",
    "# Target node\n",
    "target_index = 17056\n",
    "target_degree = node_degrees[target_index]\n",
    "\n",
    "# Calculate percentile\n",
    "percentile = np.sum(node_degrees <= target_degree) / len(node_degrees) * 100\n",
    "\n",
    "# NeurIPS-style font sizes\n",
    "TITLE_SIZE = 18\n",
    "LABEL_SIZE = 15\n",
    "TICK_SIZE = 12\n",
    "\n",
    "# Plot histogram\n",
    "plt.figure(figsize=(10, 6))\n",
    "plt.hist(node_degrees, bins=100, color='skyblue', edgecolor='black')\n",
    "plt.axvline(target_degree, color='red', linestyle='dashed', linewidth=2)\n",
    "\n",
    "plt.title(f\"Node Degree Distribution\", fontsize=TITLE_SIZE)\n",
    "plt.xlabel(\"Number of Hyperedges\", fontsize=LABEL_SIZE)\n",
    "plt.ylabel(\"Number of Genes\", fontsize=LABEL_SIZE)\n",
    "plt.xticks(fontsize=TICK_SIZE)\n",
    "plt.yticks(fontsize=TICK_SIZE)\n",
    "plt.grid(True, linestyle='--', alpha=0.6)\n",
    "\n",
    "# Annotate the red line\n",
    "plt.text(target_degree, plt.ylim()[1]*0.9,\n",
    "         f'SRC Gene\\n{int(target_degree)} hyperedges\\n{percentile:.1f} percentile',\n",
    "         color='red', fontsize=12, ha='left', va='top')\n",
    "\n",
    "plt.tight_layout()\n",
    "plt.show()\n"
   ]
  },
  {
   "cell_type": "code",
   "execution_count": 13,
   "id": "09827de9",
   "metadata": {},
   "outputs": [],
   "source": [
    "all_genes = set()\n",
    "\n",
    "for drug in bipolar_drugs:\n",
    "    genes = get_genes_for_drug(drug)\n",
    "    all_genes.update(genes)\n",
    "\n",
    "with open(\"unique_bipolar_drug_genes.txt\", \"w\") as f:\n",
    "    for gene in sorted(all_genes):  # Optional: sort alphabetically\n",
    "        f.write(f\"{gene}\\n\")\n"
   ]
  },
  {
   "cell_type": "code",
   "execution_count": 8,
   "id": "fd9e3f9f",
   "metadata": {},
   "outputs": [],
   "source": [
    "# Step 1: Load all genes from all.txt\n",
    "with open(\"all.txt\", \"r\") as f:\n",
    "    all_genes = set(line.strip() for line in f if line.strip())\n",
    "\n",
    "# Step 2: Get unique bipolar genes\n",
    "bipolar_genes = set()\n",
    "for drug in bipolar_drugs:\n",
    "    genes = get_genes_for_drug(drug)\n",
    "    bipolar_genes.update(genes)\n",
    "\n",
    "# Step 3: Get the difference\n",
    "non_bipolar_genes = all_genes - bipolar_genes\n",
    "\n",
    "# Step 4: Write to file\n",
    "with open(\"non_bipolar_genes.txt\", \"w\") as f:\n",
    "    for gene in sorted(non_bipolar_genes):  # Optional: sort for readability\n",
    "        f.write(f\"{gene}\\n\")\n"
   ]
  }
 ],
 "metadata": {
  "kernelspec": {
   "display_name": "dgivenv",
   "language": "python",
   "name": "python3"
  },
  "language_info": {
   "codemirror_mode": {
    "name": "ipython",
    "version": 3
   },
   "file_extension": ".py",
   "mimetype": "text/x-python",
   "name": "python",
   "nbconvert_exporter": "python",
   "pygments_lexer": "ipython3",
   "version": "3.7.0"
  }
 },
 "nbformat": 4,
 "nbformat_minor": 5
}
