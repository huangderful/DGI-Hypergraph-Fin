{
 "cells": [
  {
   "cell_type": "markdown",
   "id": "8ac2be4c",
   "metadata": {},
   "source": [
    "## Individual Result Visualization\n",
    "aka you don't need to do any categorization yet... (will change if can automatically categorize)"
   ]
  },
  {
   "cell_type": "code",
   "execution_count": 1,
   "id": "342fb859",
   "metadata": {},
   "outputs": [
    {
     "data": {
      "application/vnd.jupyter.widget-view+json": {
       "model_id": "13b70ef0d5ae472187cfe5cde2203425",
       "version_major": 2,
       "version_minor": 0
      },
      "text/plain": [
       "Dropdown(description='Disease:', options=('Bipolar', 'Schizophrenia', 'Breast Cancer', 'FULL'), value='Bipolar…"
      ]
     },
     "metadata": {},
     "output_type": "display_data"
    },
    {
     "data": {
      "application/vnd.jupyter.widget-view+json": {
       "model_id": "acbabd8e15274a3ea6f5005e3f938dc3",
       "version_major": 2,
       "version_minor": 0
      },
      "text/plain": [
       "Dropdown(description='Result Type:', options=('unidirectional_multilayer', 'multilayer', 'single_layer'), valu…"
      ]
     },
     "metadata": {},
     "output_type": "display_data"
    },
    {
     "data": {
      "application/vnd.jupyter.widget-view+json": {
       "model_id": "78d323eb37164a6d8f0fdcace0fd3969",
       "version_major": 2,
       "version_minor": 0
      },
      "text/plain": [
       "Checkbox(value=False, description='Only genes linked in literature')"
      ]
     },
     "metadata": {},
     "output_type": "display_data"
    },
    {
     "data": {
      "application/vnd.jupyter.widget-view+json": {
       "model_id": "bd89e4af8a7c4660bd931b992af859f1",
       "version_major": 2,
       "version_minor": 0
      },
      "text/plain": [
       "Output()"
      ]
     },
     "metadata": {},
     "output_type": "display_data"
    }
   ],
   "source": [
    "import pandas as pd\n",
    "import seaborn as sns\n",
    "import matplotlib.pyplot as plt\n",
    "import numpy as np\n",
    "import ipywidgets as widgets\n",
    "from IPython.display import display, clear_output\n",
    "# Define NeurIPS-style font sizes\n",
    "TITLE_SIZE = 18\n",
    "LABEL_SIZE = 15\n",
    "TICK_SIZE = 12\n",
    "# Widgets\n",
    "disease_map = {\n",
    "    \"Bipolar\": \"DGIDB_BIPOLAR\",\n",
    "    \"Schizophrenia\": \"DGIDB_SCHIZOPHRENIA\",\n",
    "    \"Breast Cancer\": \"DGIDB_BREAST_CANCER\",\n",
    "    \"FULL\": \"DGIDB_FULL\"\n",
    "}\n",
    "\n",
    "disease_selector = widgets.Dropdown(\n",
    "    options=disease_map.keys(),\n",
    "    description='Disease:',\n",
    ")\n",
    "\n",
    "results_type_selector = widgets.Dropdown(\n",
    "    options=[\"unidirectional_multilayer\", \"multilayer\", \"single_layer\"],\n",
    "    description='Result Type:',\n",
    ")\n",
    "\n",
    "paper_filter = widgets.Checkbox(\n",
    "    value=False,\n",
    "    description='Only genes linked in literature',\n",
    ")\n",
    "\n",
    "output = widgets.Output()\n",
    "\n",
    "def load_disease_data(disease, result_type):\n",
    "    prefix = \"../Methods/output\"\n",
    "    file_name = f\"{result_type}_rwr_results.csv\"\n",
    "    file_path = f\"{prefix}/{disease_map[disease]}/{file_name}\"\n",
    "\n",
    "    return pd.read_csv(file_path)\n",
    "\n",
    "def update_graphs(change):\n",
    "    with output:\n",
    "        clear_output(wait=True)\n",
    "\n",
    "        disease = disease_selector.value\n",
    "        result_type = results_type_selector.value\n",
    "\n",
    "        try:\n",
    "            df = load_disease_data(disease, result_type)\n",
    "            df_top_10 = df.sort_values(by='Score', ascending=False).head(10)\n",
    "\n",
    "            plt.figure(figsize=(12, 6))\n",
    "            sns.barplot(x='claim_name', y='Score', data=df_top_10, color=\"#4C72B0\")  # single professional color\n",
    "            plt.title(f'Top 10 Genes for {disease} ({result_type})', fontsize=TITLE_SIZE)\n",
    "            plt.xlabel('Gene Claim Name', fontsize=LABEL_SIZE)\n",
    "            plt.ylabel('Weighted Score', fontsize=LABEL_SIZE)\n",
    "            plt.xticks(rotation=45, fontsize=TICK_SIZE)\n",
    "            plt.yticks(fontsize=TICK_SIZE)\n",
    "            plt.tight_layout()\n",
    "            plt.show()\n",
    "            plt.close()\n",
    "\n",
    "            # Plot 2: Histogram of Score Bins\n",
    "            bins = np.linspace(0, df['Score'].max(), 10)\n",
    "            df['score_ratio_bin'] = pd.cut(df['Score'], bins=bins, include_lowest=True)\n",
    "            bin_counts = df['score_ratio_bin'].value_counts().sort_index()\n",
    "\n",
    "            ax = bin_counts.plot(\n",
    "                kind='bar',\n",
    "                color='skyblue',\n",
    "                figsize=(12, 5)\n",
    "            )\n",
    "\n",
    "            for idx, count in enumerate(bin_counts):\n",
    "                ax.text(\n",
    "                    idx, count + 1, str(count),\n",
    "                    ha='center', va='bottom',\n",
    "                    fontsize=9, fontweight='bold'\n",
    "                )\n",
    "\n",
    "            plt.ylabel('Number of Genes')\n",
    "            plt.xlabel('Score Bin')\n",
    "            plt.title(f'Gene Count by Score Bin for {disease} ({result_type})')\n",
    "            plt.tight_layout()\n",
    "            plt.show()\n",
    "            plt.close()\n",
    "\n",
    "        except Exception as e:\n",
    "            print(f\"Error: {e}\")\n",
    "\n",
    "# Display and observer setup\n",
    "display(disease_selector, results_type_selector, \n",
    "        #ratio_slider, \n",
    "        paper_filter, output)\n",
    "\n",
    "# Register observers AFTER initial plot to avoid double plotting\n",
    "update_graphs(None)\n",
    "\n",
    "disease_selector.observe(update_graphs, names='value')\n",
    "results_type_selector.observe(update_graphs, names='value')\n",
    "# ratio_slider.observe(update_graphs, names='value')\n",
    "paper_filter.observe(update_graphs, names='value')\n"
   ]
  },
  {
   "cell_type": "code",
   "execution_count": 3,
   "id": "718bd114",
   "metadata": {},
   "outputs": [
    {
     "data": {
      "application/vnd.jupyter.widget-view+json": {
       "model_id": "f9e8a1da45484f71b5ff0305d28e2dd4",
       "version_major": 2,
       "version_minor": 0
      },
      "text/plain": [
       "VBox(children=(Dropdown(description='Disease 1:', options=('Bipolar', 'Schizophrenia', 'Breast Cancer', 'FULL'…"
      ]
     },
     "metadata": {},
     "output_type": "display_data"
    }
   ],
   "source": [
    "import pandas as pd\n",
    "import ipywidgets as widgets\n",
    "from IPython.display import display\n",
    "import matplotlib.pyplot as plt\n",
    "\n",
    "# Disease map\n",
    "disease_map = {\n",
    "    \"Bipolar\": \"DGIDB_BIPOLAR\",\n",
    "    \"Schizophrenia\": \"DGIDB_SCHIZOPHRENIA\",\n",
    "    \"Breast Cancer\": \"DGIDB_BREAST_CANCER\",\n",
    "    \"FULL\": \"DGIDB_FULL\"\n",
    "}\n",
    "\n",
    "# Widgets\n",
    "disease1_selector = widgets.Dropdown(\n",
    "    options=disease_map.keys(),\n",
    "    description='Disease 1:',\n",
    ")\n",
    "\n",
    "disease2_selector = widgets.Dropdown(\n",
    "    options=disease_map.keys(),\n",
    "    description='Disease 2:',\n",
    ")\n",
    "\n",
    "top_n_selector = widgets.IntSlider(\n",
    "    value=10,\n",
    "    min=0,\n",
    "    max=1000,\n",
    "    step=10,\n",
    "    description='Top N:',\n",
    ")\n",
    "\n",
    "result_type_selector = widgets.Dropdown(\n",
    "    options=[\"unidirectional_multilayer\", \"multilayer\", \"single_layer\"],\n",
    "    description='Result Type:',\n",
    ")\n",
    "\n",
    "run_button = widgets.Button(description=\"Compare Diseases\")\n",
    "output = widgets.Output()\n",
    "\n",
    "# Data loader\n",
    "def load_disease_data(disease, result_type):\n",
    "    prefix = \"../Methods/output\"\n",
    "    file_name = f\"{result_type}_rwr_results.csv\"\n",
    "    file_path = f\"{prefix}/{disease_map[disease]}/{file_name}\"\n",
    "    return pd.read_csv(file_path)\n",
    "\n",
    "# Comparison logic\n",
    "def sanitize(name):\n",
    "    return name.replace(\" \", \"_\").replace(\"-\", \"_\")\n",
    "\n",
    "def compare_diseases(b):\n",
    "    with output:\n",
    "        output.clear_output()\n",
    "        disease1 = disease1_selector.value\n",
    "        disease2 = disease2_selector.value\n",
    "        top_n = top_n_selector.value\n",
    "        result_type = result_type_selector.value\n",
    "\n",
    "        try:\n",
    "            df1 = load_disease_data(disease1, result_type)\n",
    "            df2 = load_disease_data(disease2, result_type)\n",
    "\n",
    "            top_df1 = df1[['claim_name', 'Score']]\n",
    "            top_df2 = df2[['claim_name', 'Score']]\n",
    "\n",
    "            # Sanitize disease names for use in column names\n",
    "            safe_disease1 = sanitize(disease1)\n",
    "            safe_disease2 = sanitize(disease2)\n",
    "            # Rename scores\n",
    "            top_df1 = top_df1.rename(columns={'Score': f'Score_{safe_disease1}'})\n",
    "            top_df2 = top_df2.rename(columns={'Score': f'Score_{safe_disease2}'})\n",
    "            # Merge on claim_name\n",
    "            merged = pd.merge(top_df1, top_df2, on='claim_name')\n",
    "\n",
    "            if merged.empty:\n",
    "                print(\"No overlapping claim_names found in top N.\")\n",
    "                return\n",
    "\n",
    "            # Compute ratio\n",
    "            merged['Score_Ratio'] = merged[f'Score_{safe_disease1}'] / merged[f'Score_{safe_disease2}']\n",
    "            merged = merged.sort_values(by='Score_Ratio', ascending=False)\n",
    "            merged = merged.head(top_n)\n",
    "            print(merged)\n",
    "            print(len(merged))\n",
    "            # Plot\n",
    "            plt.figure(figsize=(12, 6))\n",
    "            sns.barplot(x='claim_name', y='Score_Ratio', data=merged, color=\"#4C72B0\")\n",
    "            plt.title(f'Score Ratio ({disease1} / {disease2}) — Top {top_n} Overlapping Genes', fontsize=TITLE_SIZE)\n",
    "            plt.xlabel('Gene Claim Name', fontsize=LABEL_SIZE)\n",
    "            plt.ylabel('Score Ratio', fontsize=LABEL_SIZE)\n",
    "            plt.xticks(rotation=45, fontsize=TICK_SIZE)\n",
    "            plt.yticks(fontsize=TICK_SIZE)\n",
    "            plt.tight_layout()\n",
    "            plt.show()\n",
    "            plt.close()\n",
    "\n",
    "        except Exception as e:\n",
    "            print(f\"Error: {e}\")\n",
    "\n",
    "run_button.on_click(compare_diseases)\n",
    "\n",
    "# Display widgets\n",
    "display(widgets.VBox([\n",
    "    disease1_selector,\n",
    "    disease2_selector,\n",
    "    result_type_selector,\n",
    "    top_n_selector,\n",
    "    run_button,\n",
    "    output\n",
    "]))\n"
   ]
  }
 ],
 "metadata": {
  "kernelspec": {
   "display_name": "dgivenv",
   "language": "python",
   "name": "python3"
  },
  "language_info": {
   "codemirror_mode": {
    "name": "ipython",
    "version": 3
   },
   "file_extension": ".py",
   "mimetype": "text/x-python",
   "name": "python",
   "nbconvert_exporter": "python",
   "pygments_lexer": "ipython3",
   "version": "3.7.0"
  }
 },
 "nbformat": 4,
 "nbformat_minor": 5
}
