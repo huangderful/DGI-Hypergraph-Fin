{
 "cells": [
  {
   "cell_type": "markdown",
   "id": "8ac2be4c",
   "metadata": {},
   "source": [
    "## Individual Result Visualization\n",
    "aka you don't need to do any categorization yet... (will change if can automatically categorize)"
   ]
  },
  {
   "cell_type": "code",
   "execution_count": 1,
   "id": "342fb859",
   "metadata": {},
   "outputs": [
    {
     "data": {
      "application/vnd.jupyter.widget-view+json": {
       "model_id": "b6a52be3af804c62aa011d35033986d6",
       "version_major": 2,
       "version_minor": 0
      },
      "text/plain": [
       "Dropdown(description='Disease:', options=('Bipolar', 'Schizophrenia', 'Breast Cancer', 'FULL'), value='Bipolar…"
      ]
     },
     "metadata": {},
     "output_type": "display_data"
    },
    {
     "data": {
      "application/vnd.jupyter.widget-view+json": {
       "model_id": "a78ad724b7094c488132321d1ba4c993",
       "version_major": 2,
       "version_minor": 0
      },
      "text/plain": [
       "Dropdown(description='Result Type:', options=('unidirectional_multilayer', 'multilayer', 'regular'), value='un…"
      ]
     },
     "metadata": {},
     "output_type": "display_data"
    },
    {
     "data": {
      "application/vnd.jupyter.widget-view+json": {
       "model_id": "d4eec1d385b44a9c8b042dd59a2f41f4",
       "version_major": 2,
       "version_minor": 0
      },
      "text/plain": [
       "Checkbox(value=False, description='Only genes linked in literature')"
      ]
     },
     "metadata": {},
     "output_type": "display_data"
    },
    {
     "data": {
      "application/vnd.jupyter.widget-view+json": {
       "model_id": "78778124d2a74307ac943000d1c20a62",
       "version_major": 2,
       "version_minor": 0
      },
      "text/plain": [
       "Output()"
      ]
     },
     "metadata": {},
     "output_type": "display_data"
    }
   ],
   "source": [
    "import pandas as pd\n",
    "import seaborn as sns\n",
    "import matplotlib.pyplot as plt\n",
    "import numpy as np\n",
    "import ipywidgets as widgets\n",
    "from IPython.display import display, clear_output\n",
    "\n",
    "# Widgets\n",
    "disease_map = {\n",
    "    \"Bipolar\": \"DGIDB_BIPOLAR\",\n",
    "    \"Schizophrenia\": \"DGIDB_SCHIZOPHRENIA\",\n",
    "    \"Breast Cancer\": \"DGIDB_BREAST_CANCER\",\n",
    "    \"FULL\": \"DGIDB_FULL\"\n",
    "}\n",
    "\n",
    "disease_selector = widgets.Dropdown(\n",
    "    options=disease_map.keys(),\n",
    "    description='Disease:',\n",
    ")\n",
    "\n",
    "results_type_selector = widgets.Dropdown(\n",
    "    options=[\"unidirectional_multilayer\", \"multilayer\", \"regular\"],\n",
    "    description='Result Type:',\n",
    ")\n",
    "\n",
    "# ratio_slider = widgets.FloatSlider(\n",
    "#     value=5.0,\n",
    "#     min=1.0,\n",
    "#     max=10.0,\n",
    "#     step=0.5,\n",
    "#     description='Score Ratio >',\n",
    "# )\n",
    "\n",
    "paper_filter = widgets.Checkbox(\n",
    "    value=False,\n",
    "    description='Only genes linked in literature',\n",
    ")\n",
    "\n",
    "output = widgets.Output()\n",
    "\n",
    "def load_disease_data(disease, result_type):\n",
    "    prefix = \"../Methods/output\"\n",
    "    file_name = f\"{result_type}_rwr_results.csv\"\n",
    "    file_path = f\"{prefix}/{disease_map[disease]}/{file_name}\"\n",
    "\n",
    "    return pd.read_csv(file_path)\n",
    "\n",
    "def update_graphs(change):\n",
    "    with output:\n",
    "        clear_output(wait=True)\n",
    "\n",
    "        disease = disease_selector.value\n",
    "        result_type = results_type_selector.value\n",
    "\n",
    "        try:\n",
    "            df = load_disease_data(disease, result_type)\n",
    "            df_top_10 = df.sort_values(by='Score', ascending=False).head(10)\n",
    "\n",
    "            # Plot 1: Top 10 Barplot\n",
    "            plt.figure(figsize=(12, 6))\n",
    "            sns.barplot(x='claim_name', y='Score', data=df_top_10, palette='viridis')\n",
    "            plt.title(f'Top 10 Genes for {disease} ({result_type})')\n",
    "            plt.xlabel('Gene Claim Name')\n",
    "            plt.ylabel('Weighted Score')\n",
    "            plt.xticks(rotation=45)\n",
    "            plt.tight_layout()\n",
    "            plt.show()\n",
    "            plt.close()\n",
    "\n",
    "            # Plot 2: Histogram of Score Bins\n",
    "            bins = np.linspace(0, df['Score'].max(), 10)\n",
    "            df['score_ratio_bin'] = pd.cut(df['Score'], bins=bins, include_lowest=True)\n",
    "            bin_counts = df['score_ratio_bin'].value_counts().sort_index()\n",
    "\n",
    "            ax = bin_counts.plot(\n",
    "                kind='bar',\n",
    "                color='skyblue',\n",
    "                figsize=(12, 5)\n",
    "            )\n",
    "\n",
    "            for idx, count in enumerate(bin_counts):\n",
    "                ax.text(\n",
    "                    idx, count + 1, str(count),\n",
    "                    ha='center', va='bottom',\n",
    "                    fontsize=9, fontweight='bold'\n",
    "                )\n",
    "\n",
    "            plt.ylabel('Number of Genes')\n",
    "            plt.xlabel('Score Bin')\n",
    "            plt.title(f'Gene Count by Score Bin for {disease} ({result_type})')\n",
    "            plt.tight_layout()\n",
    "            plt.show()\n",
    "            plt.close()\n",
    "\n",
    "        except Exception as e:\n",
    "            print(f\"Error: {e}\")\n",
    "\n",
    "# Display and observer setup\n",
    "display(disease_selector, results_type_selector, \n",
    "        #ratio_slider, \n",
    "        paper_filter, output)\n",
    "\n",
    "# Register observers AFTER initial plot to avoid double plotting\n",
    "update_graphs(None)\n",
    "\n",
    "disease_selector.observe(update_graphs, names='value')\n",
    "results_type_selector.observe(update_graphs, names='value')\n",
    "# ratio_slider.observe(update_graphs, names='value')\n",
    "paper_filter.observe(update_graphs, names='value')\n"
   ]
  }
 ],
 "metadata": {
  "kernelspec": {
   "display_name": "dgivenv",
   "language": "python",
   "name": "python3"
  },
  "language_info": {
   "codemirror_mode": {
    "name": "ipython",
    "version": 3
   },
   "file_extension": ".py",
   "mimetype": "text/x-python",
   "name": "python",
   "nbconvert_exporter": "python",
   "pygments_lexer": "ipython3",
   "version": "3.7.0"
  }
 },
 "nbformat": 4,
 "nbformat_minor": 5
}
