{
 "cells": [
  {
   "cell_type": "code",
   "execution_count": 1,
   "id": "361746e7",
   "metadata": {},
   "outputs": [
    {
     "name": "stdout",
     "output_type": "stream",
     "text": [
      "Converged at iteration 2\n",
      "1. Gene index 253 — score: 0.00021\n",
      "2. Gene index 929 — score: 0.00021\n",
      "3. Gene index 817 — score: 0.00021\n",
      "4. Gene index 1180 — score: 0.00021\n",
      "5. Gene index 368 — score: 0.00021\n",
      "6. Gene index 169 — score: 0.00021\n",
      "7. Gene index 427 — score: 0.00021\n",
      "8. Gene index 259 — score: 0.00021\n",
      "9. Gene index 584 — score: 0.00021\n",
      "10. Gene index 47 — score: 0.00021\n"
     ]
    }
   ],
   "source": [
    "import numpy as np\n",
    "import scipy.sparse as sp\n",
    "import numpy as np\n",
    "from scipy.sparse import load_npz, csr_matrix\n",
    "# Hypergraph incidence matrix (genes × drugs), already loaded\n",
    "# Assume it's in sparse format\n",
    "# weighted_matrix: shape (num_genes, num_drugs)\n",
    "FOLDER = \"DGIDB_BIPOLAR/\"\n",
    "HYPERGRAPH_DIRECTORY = \"../Gen_Hypergraph/output/\" + FOLDER\n",
    "weighted_matrix = load_npz(HYPERGRAPH_DIRECTORY + \"hypergraph_incidence_matrix_weighted.npz\").tocsr()\n",
    "\n",
    "# Step 1: Project hypergraph to gene-gene graph\n",
    "gene_gene_adjacency = weighted_matrix @ weighted_matrix.T  # Shape: (num_genes, num_genes)\n",
    "\n",
    "# Step 2: Row-normalize the adjacency matrix\n",
    "def row_normalize(matrix):\n",
    "    row_sums = np.array(matrix.sum(axis=1)).flatten()\n",
    "    row_inv = np.divide(1.0, row_sums, out=np.zeros_like(row_sums), where=row_sums != 0)\n",
    "    D_inv = sp.diags(row_inv)\n",
    "    return D_inv @ matrix\n",
    "\n",
    "A_norm = row_normalize(gene_gene_adjacency)\n",
    "\n",
    "# Step 3: Random Walk with Restart (RWR)\n",
    "def run_rwr(A_norm, restart_prob=0.85, num_iter=50, tol=1e-10):\n",
    "    num_genes = A_norm.shape[0]\n",
    "    \n",
    "    # Initialize\n",
    "    v = np.ones(num_genes) / num_genes  # Initial uniform distribution\n",
    "    teleport = v.copy()                 # Teleport vector stays constant\n",
    "\n",
    "    for i in range(num_iter):\n",
    "        v_new = restart_prob * (A_norm @ v) + (1 - restart_prob) * teleport\n",
    "        delta = np.linalg.norm(v_new - v, ord=1)\n",
    "        v = v_new\n",
    "        if delta < tol:\n",
    "            print(f\"Converged at iteration {i+1}\")\n",
    "            break\n",
    "\n",
    "    return v\n",
    "\n",
    "# Run it\n",
    "rwr_scores = run_rwr(A_norm, restart_prob=0.85, num_iter=100)\n",
    "\n",
    "# Step 4: Rank genes\n",
    "sorted_indices = np.argsort(rwr_scores)[::-1]\n",
    "sorted_scores = rwr_scores[sorted_indices]\n",
    "\n",
    "# Display top 10\n",
    "for rank, (idx, score) in enumerate(zip(sorted_indices[:10], sorted_scores[:10]), 1):\n",
    "    print(f\"{rank}. Gene index {idx} — score: {score:.5f}\")\n"
   ]
  },
  {
   "cell_type": "code",
   "execution_count": 7,
   "id": "d74839a9",
   "metadata": {},
   "outputs": [
    {
     "name": "stdout",
     "output_type": "stream",
     "text": [
      "[2.09467951e-04 2.09467951e-04 2.09467951e-04 ... 3.14201927e-05\n",
      " 3.14201927e-05 3.14201927e-05]\n"
     ]
    }
   ],
   "source": [
    "print(sorted_scores)"
   ]
  },
  {
   "cell_type": "code",
   "execution_count": 5,
   "id": "edb97f05",
   "metadata": {},
   "outputs": [],
   "source": [
    "import json\n",
    "import pandas as pd\n",
    "DGIDB = pd.read_csv(\"../Data/DGIDB/DrugToGene.tsv\", sep=\"\\t\")\n",
    "\n",
    "# Load the JSON data from the file\n",
    "with open(HYPERGRAPH_DIRECTORY + 'gene_to_index.json', 'r') as file:\n",
    "    gene_to_index = json.load(file)\n",
    "\n",
    "index_to_gene = {v: k for k, v in gene_to_index.items()}\n",
    "def get_gene_claim_name(ncbi_gene_id):\n",
    "    ncbi_gene_id = int(ncbi_gene_id)\n",
    "    result = DGIDB[(DGIDB['ncbi_gene_id']) == ncbi_gene_id]\n",
    "    if not result.empty:\n",
    "        return result['gene_name'].values[0]\n",
    "    else:\n",
    "        return \"Gene name not found\""
   ]
  },
  {
   "cell_type": "code",
   "execution_count": 8,
   "id": "986f1733",
   "metadata": {},
   "outputs": [],
   "source": [
    "results_df = pd.DataFrame(columns=['Index', 'Score'])\n",
    "results_df[\"Index\"] = sorted_indices\n",
    "results_df[\"Score\"] = sorted_scores\n",
    "results_df[\"ncbi_gene_id\"] = results_df[\"Index\"].apply(index_to_gene.get)\n",
    "results_df[\"claim_name\"] = results_df[\"ncbi_gene_id\"].apply(get_gene_claim_name)\n",
    "results_df.to_csv(\"GRAPH_REG_\" + \"rwr_results.csv\", index=False)"
   ]
  }
 ],
 "metadata": {
  "kernelspec": {
   "display_name": "dgivenv",
   "language": "python",
   "name": "python3"
  },
  "language_info": {
   "codemirror_mode": {
    "name": "ipython",
    "version": 3
   },
   "file_extension": ".py",
   "mimetype": "text/x-python",
   "name": "python",
   "nbconvert_exporter": "python",
   "pygments_lexer": "ipython3",
   "version": "3.7.0"
  }
 },
 "nbformat": 4,
 "nbformat_minor": 5
}
