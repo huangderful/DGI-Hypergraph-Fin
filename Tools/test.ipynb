{
 "cells": [
  {
   "cell_type": "code",
   "execution_count": null,
   "id": "105fc6e8",
   "metadata": {},
   "outputs": [],
   "source": [
    "MSIGDB_DIRECTORY = \"../Gen_Hypergraph/output/MSigDB_FULL/\"\n",
    "MSIGDB_binary_matrix = load_npz(MSIGDB_DIRECTORY + \"hypergraph_incidence_matrix_binary.npz\")\n"
   ]
  }
 ],
 "metadata": {
  "language_info": {
   "name": "python"
  }
 },
 "nbformat": 4,
 "nbformat_minor": 5
}
