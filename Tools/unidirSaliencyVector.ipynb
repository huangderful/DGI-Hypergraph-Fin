{
 "cells": [
  {
   "cell_type": "code",
   "execution_count": 2,
   "id": "170f7e21",
   "metadata": {},
   "outputs": [],
   "source": [
    "SAVE_FOLDER = \"UniDir_BIPOLAR_Vector\"\n",
    "SAVE_DIR = f\"saliency_output/{SAVE_FOLDER}\"\n",
    "\n",
    "\n",
    "FOLDER = \"DGIDB_BIPOLAR/\"\n",
    "DGIDB_DIRECTORY = \"../Gen_Hypergraph/output/\" + FOLDER\n",
    "DGIDB_CONVERGED_VECTOR_PATH = \"../Methods/output/\" + FOLDER + \"DGIDB_vector.npy\"\n",
    "MSIGDB_DIRECTORY = \"../Gen_Hypergraph/output/MSigDB_FULL/\"\n",
    "restart_prob = 0.2  # Restart probability (theta)\n",
    "num_iterations = 10  # Number of iterationsh"
   ]
  },
  {
   "cell_type": "code",
   "execution_count": null,
   "id": "ffb6cf90",
   "metadata": {},
   "outputs": [],
   "source": [
    "import numpy as np\n",
    "import json\n",
    "from scipy.sparse import load_npz\n",
    "import os\n",
    "from tqdm import tqdm\n",
    "# Open the JSON file and load its content into a dictionary\n",
    "with open(DGIDB_DIRECTORY + \"gene_to_index.json\", \"r\") as file:\n",
    "    dgidb = json.load(file)\n",
    "with open(MSIGDB_DIRECTORY + \"gene_to_index.json\", \"r\") as file:\n",
    "    msigdb = json.load(file)"
   ]
  },
  {
   "cell_type": "code",
   "execution_count": null,
   "id": "b8df969e",
   "metadata": {},
   "outputs": [],
   "source": [
    "import numpy as np\n",
    "# Jump probability for matching genes\n",
    "w = 1\n",
    "\n",
    "# Number of genes (assuming they are both of same size or matchable)\n",
    "num_genes_dgidb = len(dgidb)\n",
    "num_genes_msigdb = len(msigdb)\n",
    "\n",
    "# Initialize the inter-layer matrix (D) with zeros\n",
    "D = np.zeros((num_genes_dgidb, num_genes_msigdb))\n",
    "i = 0\n",
    "# Build the inter-layer matrix (D)\n",
    "for gene_dgidb, idx_dgidb in dgidb.items():\n",
    "    # If the gene exists in both gene-to-index mappings\n",
    "    if gene_dgidb in msigdb:      \n",
    "        idx_msigdb = msigdb[gene_dgidb]\n",
    "        D[idx_dgidb, idx_msigdb] = w  # Set jump probability\n",
    "        i += 1\n",
    "rows_with_high_sum = np.where(D.sum(axis=1) > 0)[0]\n",
    "# Load matrices\n",
    "MSIGDB_weighted_matrix = load_npz(MSIGDB_DIRECTORY + \"hypergraph_incidence_matrix_weighted.npz\")\n",
    "MSIGDB_binary_matrix = load_npz(MSIGDB_DIRECTORY + \"hypergraph_incidence_matrix_binary.npz\")\n",
    "DGIDB_binary_matrix = load_npz(DGIDB_DIRECTORY + \"hypergraph_incidence_matrix_binary.npz\")\n",
    "DGIDB_vector =  np.load(DGIDB_CONVERGED_VECTOR_PATH)\n",
    "\n",
    "num_genes_MSIGDB = MSIGDB_binary_matrix.shape[0]  # Number of genes in MSIGDB\n",
    "# Initialize probability vectors\n",
    "v0 = np.zeros(num_genes_MSIGDB)  # Combined vector for DGIDB and MSIGDB\n",
    "teleport = np.zeros(num_genes_MSIGDB)  # Restart probability vector\n",
    "# Initialize probability vectors\n",
    "v0[:] = 1.0 / (num_genes_MSIGDB)  # Starting on DGIDB\n",
    "teleport[:] = 1.0 / (num_genes_MSIGDB)\n"
   ]
  },
  {
   "cell_type": "code",
   "execution_count": null,
   "id": "ef035e76",
   "metadata": {},
   "outputs": [],
   "source": [
    "import torch\n",
    "from tqdm import tqdm\n",
    "\n",
    "# Use GPU if available\n",
    "device = torch.device(\"cuda\" if torch.cuda.is_available() else \"cpu\")\n",
    "print(\"Using device:\", device)\n",
    "\n",
    "# Convert sparse matrices to dense (or use PyTorch sparse support if memory limited)\n",
    "MSIGDB_weighted = torch.tensor(MSIGDB_weighted_matrix.toarray(), dtype=torch.float32, device=device)\n",
    "MSIGDB_binary = torch.tensor(MSIGDB_binary_matrix.toarray(), dtype=torch.float32, device=device)\n",
    "DGIDB_binary = torch.tensor(DGIDB_binary_matrix.toarray(), dtype=torch.float32, device=device)\n",
    "# DGIDB_vector = torch.tensor(DGIDB_vector, dtype=torch.float32, device=device)\n",
    "# D = torch.tensor(D, dtype=torch.float32, device=device)\n",
    "\n",
    "num_genes_MSIGDB = MSIGDB_binary.shape[0]\n",
    "v0 = torch.full((num_genes_MSIGDB,), 1.0 / num_genes_MSIGDB, dtype=torch.float32, device=device)\n",
    "teleport = v0.clone()\n",
    "P = MSIGDB_weighted @ MSIGDB_weighted.T\n"
   ]
  },
  {
   "cell_type": "code",
   "execution_count": null,
   "id": "59623f22",
   "metadata": {},
   "outputs": [],
   "source": [
    "\n",
    "def get_hyper_randomwalk_torch(DGIDB_binary_matrix, DGIDB_vector, MSIGDB_weighted_matrix, MSIGDB_binary_matrix, D, restart_prob, num_iterations, P):\n",
    "    vi = v0.clone()\n",
    "    distance_list = []\n",
    "    dgidb_vector_complete = np.zeros(num_genes_MSIGDB)\n",
    "\n",
    "    for gene in tqdm(range(num_genes_MSIGDB), desc=\"DGIDB full vector calculation\"):\n",
    "        # Intra-hypergraph transitions in MSIGDB (moving within MSIGDB)\n",
    "        connected_pathways = MSIGDB_binary_matrix[gene, :].nonzero()[1]  # Nonzero columns in MSIGDB binary matrix\n",
    "\n",
    "        if len(connected_pathways) == 0:\n",
    "            continue  # Skip if no pathways are found\n",
    "\n",
    "        for pathway in connected_pathways:\n",
    "            # Find genes connected to the selected pathway (weighted transition in MSIGDB)\n",
    "            connected_genes = MSIGDB_weighted_matrix[:, pathway].toarray().flatten()\n",
    "            neighbor_genes = np.where(connected_genes > 0)[0]  # Get genes with nonzero weight\n",
    "\n",
    "            # Check if the current gene has a DGIDB connection\n",
    "            dgidb_gene = np.where(D[:, gene] > 0)[0]  # Find DGIDB neighbors of the current MSIGDB gene\n",
    "            if len(dgidb_gene) == 1:\n",
    "                dgidb_drugs = DGIDB_binary_matrix[dgidb_gene[0], :].nonzero()[1]\n",
    "                neighbor_genes_set = set()  # To avoid duplicates\n",
    "            \n",
    "                for drug in dgidb_drugs:\n",
    "                    # Get genes connected through the same drug (edge)\n",
    "                    connected_genes = DGIDB_binary_matrix[:, drug].toarray().flatten()\n",
    "                    neighbor_genes = np.where(connected_genes > 0)[0]\n",
    "                    # Add unique neighbors to the set\n",
    "                    neighbor_genes_set.update(neighbor_genes)\n",
    "\n",
    "                # Sum contributions from unique DGIDB neighbors\n",
    "                if len(neighbor_genes_set) > 0:\n",
    "                    neighbor_genes_list = list(neighbor_genes_set)\n",
    "                    dgidb_contribution = np.sum(DGIDB_vector[neighbor_genes_list])  # Sum unique contributions\n",
    "                    dgidb_vector_complete[gene] += dgidb_contribution  # Store in the complete vector\n",
    "\n",
    "    # Normalize dgidb_vector_complete to avoid overflow\n",
    "    dgidb_vector_complete /= np.sum(dgidb_vector_complete) if np.sum(dgidb_vector_complete) > 0 else 1\n",
    "    dgidb_vector_complete = torch.from_numpy(dgidb_vector_complete).to(device)\n",
    "    for k in range(num_iterations):\n",
    "        print(f\"Iteration {k + 1}\")\n",
    "        vj = vi.clone()\n",
    "\n",
    "        # Vectorized transition step\n",
    "        # Resulting shape will be (n, n)\n",
    "\n",
    "        # Step 2: Normalize P by dividing by the sum of each column (with a small constant to avoid division by zero)\n",
    "        P = P / (P.sum(dim=0, keepdim=True) + 1e-9)\n",
    "        vi_new = torch.matmul(P.T.float(), vj.float())  # Transition from vj to vi_new using matrix multiplication\n",
    "\n",
    "        # Normalize and combine\n",
    "        vi_new = vi_new / (vi_new.sum() + 1e-9)\n",
    "        \n",
    "        vi = restart_prob * vi_new.T + (1 - restart_prob) * teleport + dgidb_vector_complete\n",
    "\n",
    "        distance = torch.sum(torch.abs(vj - vi)).item()\n",
    "        distance_list.append(distance)\n",
    "\n",
    "\n",
    "    importance_scores = torch.argsort(vi, descending=True)\n",
    "    importance_values = vi[importance_scores]\n",
    "\n",
    "    return {\n",
    "        \"Importance\": list(zip(importance_scores.tolist(), importance_values.tolist())),\n",
    "        \"Distance\": distance_list\n",
    "    }\n"
   ]
  },
  {
   "cell_type": "code",
   "execution_count": 12,
   "id": "468fa47e",
   "metadata": {},
   "outputs": [
    {
     "name": "stderr",
     "output_type": "stream",
     "text": [
      "DGIDB full vector calculation: 100%|██████████| 21981/21981 [08:58<00:00, 40.81it/s] \n"
     ]
    },
    {
     "name": "stdout",
     "output_type": "stream",
     "text": [
      "Iteration 1\n"
     ]
    },
    {
     "name": "stderr",
     "output_type": "stream",
     "text": [
      "C:\\Users\\richa\\AppData\\Local\\Temp\\ipykernel_31316\\1789037273.py:54: UserWarning: The use of `x.T` on tensors of dimension other than 2 to reverse their shape is deprecated and it will throw an error in a future release. Consider `x.mT` to transpose batches of matrices or `x.permute(*torch.arange(x.ndim - 1, -1, -1))` to reverse the dimensions of a tensor. (Triggered internally at ..\\aten\\src\\ATen\\native\\TensorShape.cpp:3575.)\n",
      "  vi = restart_prob * vi_new.T + (1 - restart_prob) * teleport + dgidb_vector_complete\n"
     ]
    },
    {
     "name": "stdout",
     "output_type": "stream",
     "text": [
      "Iteration 2\n",
      "Iteration 3\n",
      "Iteration 4\n",
      "Iteration 5\n",
      "Iteration 6\n",
      "Iteration 7\n",
      "Iteration 8\n",
      "Iteration 9\n",
      "Iteration 10\n"
     ]
    }
   ],
   "source": [
    "import pandas as pd\n",
    "# Save directory for saliency scores\n",
    "os.makedirs(SAVE_DIR, exist_ok=True)\n",
    "\n",
    "# Get baseline (full graph) run\n",
    "result = get_hyper_randomwalk_torch(DGIDB_binary_matrix, DGIDB_vector, MSIGDB_weighted_matrix, MSIGDB_binary_matrix, D, restart_prob, num_iterations, P)"
   ]
  },
  {
   "cell_type": "code",
   "execution_count": 14,
   "id": "27236896",
   "metadata": {},
   "outputs": [],
   "source": [
    "\n",
    "# Save baseline\n",
    "df_baseline = pd.DataFrame(result[\"Importance\"], columns=[\"GeneIndex\", \"Score\"])\n",
    "df_baseline.to_csv(os.path.join(SAVE_DIR, \"baseline.csv\"), index=False)"
   ]
  },
  {
   "cell_type": "markdown",
   "id": "e6508f8d",
   "metadata": {},
   "source": [
    "## Vector Perturbations"
   ]
  },
  {
   "cell_type": "code",
   "execution_count": 13,
   "id": "27b7e58a",
   "metadata": {},
   "outputs": [
    {
     "name": "stderr",
     "output_type": "stream",
     "text": [
      "DGIDB full vector calculation: 100%|██████████| 21981/21981 [08:44<00:00, 41.88it/s]\n"
     ]
    },
    {
     "name": "stdout",
     "output_type": "stream",
     "text": [
      "Iteration 1\n",
      "Iteration 2\n",
      "Iteration 3\n",
      "Iteration 4\n",
      "Iteration 5\n",
      "Iteration 6\n",
      "Iteration 7\n",
      "Iteration 8\n",
      "Iteration 9\n",
      "Iteration 10\n"
     ]
    },
    {
     "name": "stderr",
     "output_type": "stream",
     "text": [
      "Running saliency analysis:   8%|▊         | 1/12 [08:54<1:37:54, 534.02s/it]"
     ]
    },
    {
     "name": "stdout",
     "output_type": "stream",
     "text": [
      "Saved to saliency_output/UniDir_BIPOLAR_Vector\\drug_190_saliency.csv\n"
     ]
    },
    {
     "name": "stderr",
     "output_type": "stream",
     "text": [
      "DGIDB full vector calculation: 100%|██████████| 21981/21981 [08:41<00:00, 42.19it/s]\n"
     ]
    },
    {
     "name": "stdout",
     "output_type": "stream",
     "text": [
      "Iteration 1\n",
      "Iteration 2\n",
      "Iteration 3\n",
      "Iteration 4\n",
      "Iteration 5\n",
      "Iteration 6\n",
      "Iteration 7\n",
      "Iteration 8\n",
      "Iteration 9\n",
      "Iteration 10\n"
     ]
    },
    {
     "name": "stderr",
     "output_type": "stream",
     "text": [
      "Running saliency analysis:  17%|█▋        | 2/12 [17:44<1:28:38, 531.83s/it]"
     ]
    },
    {
     "name": "stdout",
     "output_type": "stream",
     "text": [
      "Saved to saliency_output/UniDir_BIPOLAR_Vector\\drug_371_saliency.csv\n"
     ]
    },
    {
     "name": "stderr",
     "output_type": "stream",
     "text": [
      "DGIDB full vector calculation: 100%|██████████| 21981/21981 [21:19<00:00, 17.18it/s]\n"
     ]
    },
    {
     "name": "stdout",
     "output_type": "stream",
     "text": [
      "Iteration 1\n",
      "Iteration 2\n",
      "Iteration 3\n",
      "Iteration 4\n",
      "Iteration 5\n",
      "Iteration 6\n",
      "Iteration 7\n",
      "Iteration 8\n",
      "Iteration 9\n",
      "Iteration 10\n"
     ]
    },
    {
     "name": "stderr",
     "output_type": "stream",
     "text": [
      "Running saliency analysis:  25%|██▌       | 3/12 [39:11<2:11:32, 876.95s/it]"
     ]
    },
    {
     "name": "stdout",
     "output_type": "stream",
     "text": [
      "Saved to saliency_output/UniDir_BIPOLAR_Vector\\drug_395_saliency.csv\n"
     ]
    },
    {
     "name": "stderr",
     "output_type": "stream",
     "text": [
      "DGIDB full vector calculation: 100%|██████████| 21981/21981 [20:34<00:00, 17.81it/s]\n"
     ]
    },
    {
     "name": "stdout",
     "output_type": "stream",
     "text": [
      "Iteration 1\n",
      "Iteration 2\n",
      "Iteration 3\n",
      "Iteration 4\n",
      "Iteration 5\n",
      "Iteration 6\n",
      "Iteration 7\n",
      "Iteration 8\n",
      "Iteration 9\n",
      "Iteration 10\n"
     ]
    },
    {
     "name": "stderr",
     "output_type": "stream",
     "text": [
      "Running saliency analysis:  33%|███▎      | 4/12 [59:54<2:16:10, 1021.31s/it]"
     ]
    },
    {
     "name": "stdout",
     "output_type": "stream",
     "text": [
      "Saved to saliency_output/UniDir_BIPOLAR_Vector\\drug_559_saliency.csv\n"
     ]
    },
    {
     "name": "stderr",
     "output_type": "stream",
     "text": [
      "DGIDB full vector calculation: 100%|██████████| 21981/21981 [11:36:01<00:00,  1.90s/it]\n"
     ]
    },
    {
     "name": "stdout",
     "output_type": "stream",
     "text": [
      "Iteration 1\n",
      "Iteration 2\n",
      "Iteration 3\n",
      "Iteration 4\n",
      "Iteration 5\n",
      "Iteration 6\n",
      "Iteration 7\n",
      "Iteration 8\n",
      "Iteration 9\n",
      "Iteration 10\n"
     ]
    },
    {
     "name": "stderr",
     "output_type": "stream",
     "text": [
      "Running saliency analysis:  42%|████▏     | 5/12 [12:36:08<30:33:38, 15716.87s/it]"
     ]
    },
    {
     "name": "stdout",
     "output_type": "stream",
     "text": [
      "Saved to saliency_output/UniDir_BIPOLAR_Vector\\drug_717_saliency.csv\n"
     ]
    },
    {
     "name": "stderr",
     "output_type": "stream",
     "text": [
      "DGIDB full vector calculation: 100%|██████████| 21981/21981 [13:30<00:00, 27.12it/s]\n"
     ]
    },
    {
     "name": "stdout",
     "output_type": "stream",
     "text": [
      "Iteration 1\n",
      "Iteration 2\n",
      "Iteration 3\n",
      "Iteration 4\n",
      "Iteration 5\n",
      "Iteration 6\n",
      "Iteration 7\n",
      "Iteration 8\n",
      "Iteration 9\n",
      "Iteration 10\n"
     ]
    },
    {
     "name": "stderr",
     "output_type": "stream",
     "text": [
      "Running saliency analysis:  50%|█████     | 6/12 [12:49:47<17:45:10, 10651.79s/it]"
     ]
    },
    {
     "name": "stdout",
     "output_type": "stream",
     "text": [
      "Saved to saliency_output/UniDir_BIPOLAR_Vector\\drug_843_saliency.csv\n"
     ]
    },
    {
     "name": "stderr",
     "output_type": "stream",
     "text": [
      "DGIDB full vector calculation: 100%|██████████| 21981/21981 [20:17<00:00, 18.06it/s]\n"
     ]
    },
    {
     "name": "stdout",
     "output_type": "stream",
     "text": [
      "Iteration 1\n",
      "Iteration 2\n",
      "Iteration 3\n",
      "Iteration 4\n",
      "Iteration 5\n",
      "Iteration 6\n",
      "Iteration 7\n",
      "Iteration 8\n",
      "Iteration 9\n",
      "Iteration 10\n"
     ]
    },
    {
     "name": "stderr",
     "output_type": "stream",
     "text": [
      "Running saliency analysis:  58%|█████▊    | 7/12 [13:10:13<10:30:51, 7570.36s/it] "
     ]
    },
    {
     "name": "stdout",
     "output_type": "stream",
     "text": [
      "Saved to saliency_output/UniDir_BIPOLAR_Vector\\drug_1030_saliency.csv\n"
     ]
    },
    {
     "name": "stderr",
     "output_type": "stream",
     "text": [
      "DGIDB full vector calculation: 100%|██████████| 21981/21981 [18:36<00:00, 19.68it/s]\n"
     ]
    },
    {
     "name": "stdout",
     "output_type": "stream",
     "text": [
      "Iteration 1\n",
      "Iteration 2\n",
      "Iteration 3\n",
      "Iteration 4\n",
      "Iteration 5\n",
      "Iteration 6\n",
      "Iteration 7\n",
      "Iteration 8\n",
      "Iteration 9\n",
      "Iteration 10\n"
     ]
    },
    {
     "name": "stderr",
     "output_type": "stream",
     "text": [
      "Running saliency analysis:  67%|██████▋   | 8/12 [13:28:59<6:07:54, 5518.67s/it] "
     ]
    },
    {
     "name": "stdout",
     "output_type": "stream",
     "text": [
      "Saved to saliency_output/UniDir_BIPOLAR_Vector\\drug_1438_saliency.csv\n"
     ]
    },
    {
     "name": "stderr",
     "output_type": "stream",
     "text": [
      "DGIDB full vector calculation: 100%|██████████| 21981/21981 [18:33<00:00, 19.73it/s]\n"
     ]
    },
    {
     "name": "stdout",
     "output_type": "stream",
     "text": [
      "Iteration 1\n",
      "Iteration 2\n",
      "Iteration 3\n",
      "Iteration 4\n",
      "Iteration 5\n",
      "Iteration 6\n",
      "Iteration 7\n",
      "Iteration 8\n",
      "Iteration 9\n",
      "Iteration 10\n"
     ]
    },
    {
     "name": "stderr",
     "output_type": "stream",
     "text": [
      "Running saliency analysis:  75%|███████▌  | 9/12 [13:47:44<3:27:14, 4144.97s/it]"
     ]
    },
    {
     "name": "stdout",
     "output_type": "stream",
     "text": [
      "Saved to saliency_output/UniDir_BIPOLAR_Vector\\drug_1458_saliency.csv\n"
     ]
    },
    {
     "name": "stderr",
     "output_type": "stream",
     "text": [
      "DGIDB full vector calculation: 100%|██████████| 21981/21981 [2:18:07<00:00,  2.65it/s]\n"
     ]
    },
    {
     "name": "stdout",
     "output_type": "stream",
     "text": [
      "Iteration 1\n",
      "Iteration 2\n",
      "Iteration 3\n",
      "Iteration 4\n",
      "Iteration 5\n",
      "Iteration 6\n",
      "Iteration 7\n",
      "Iteration 8\n",
      "Iteration 9\n",
      "Iteration 10\n"
     ]
    },
    {
     "name": "stderr",
     "output_type": "stream",
     "text": [
      "Running saliency analysis:  83%|████████▎ | 10/12 [16:06:00<3:00:53, 5426.72s/it]"
     ]
    },
    {
     "name": "stdout",
     "output_type": "stream",
     "text": [
      "Saved to saliency_output/UniDir_BIPOLAR_Vector\\drug_1733_saliency.csv\n"
     ]
    },
    {
     "name": "stderr",
     "output_type": "stream",
     "text": [
      "DGIDB full vector calculation: 100%|██████████| 21981/21981 [09:06<00:00, 40.22it/s]\n"
     ]
    },
    {
     "name": "stdout",
     "output_type": "stream",
     "text": [
      "Iteration 1\n",
      "Iteration 2\n",
      "Iteration 3\n",
      "Iteration 4\n",
      "Iteration 5\n",
      "Iteration 6\n",
      "Iteration 7\n",
      "Iteration 8\n",
      "Iteration 9\n",
      "Iteration 10\n"
     ]
    },
    {
     "name": "stderr",
     "output_type": "stream",
     "text": [
      "Running saliency analysis:  92%|█████████▏| 11/12 [16:15:15<1:05:35, 3935.51s/it]"
     ]
    },
    {
     "name": "stdout",
     "output_type": "stream",
     "text": [
      "Saved to saliency_output/UniDir_BIPOLAR_Vector\\drug_2165_saliency.csv\n"
     ]
    },
    {
     "name": "stderr",
     "output_type": "stream",
     "text": [
      "DGIDB full vector calculation: 100%|██████████| 21981/21981 [09:08<00:00, 40.04it/s]\n"
     ]
    },
    {
     "name": "stdout",
     "output_type": "stream",
     "text": [
      "Iteration 1\n",
      "Iteration 2\n",
      "Iteration 3\n",
      "Iteration 4\n",
      "Iteration 5\n",
      "Iteration 6\n",
      "Iteration 7\n",
      "Iteration 8\n",
      "Iteration 9\n",
      "Iteration 10\n"
     ]
    },
    {
     "name": "stderr",
     "output_type": "stream",
     "text": [
      "Running saliency analysis: 100%|██████████| 12/12 [16:24:32<00:00, 4922.70s/it]  "
     ]
    },
    {
     "name": "stdout",
     "output_type": "stream",
     "text": [
      "Saved to saliency_output/UniDir_BIPOLAR_Vector\\drug_2915_saliency.csv\n",
      "✅ Done generating saliency scores for all DGIDB vectors.\n"
     ]
    },
    {
     "name": "stderr",
     "output_type": "stream",
     "text": [
      "\n"
     ]
    }
   ],
   "source": [
    "VECTOR_DIR = \"saliency_output/DGIDB_BIPOLAR/vector\"\n",
    "os.makedirs(SAVE_DIR, exist_ok=True)\n",
    "\n",
    "# Get all vector files and sort them numerically\n",
    "vector_files = [f for f in os.listdir(VECTOR_DIR) if f.startswith(\"DGIDB_vector_\") and f.endswith(\".npy\")]\n",
    "vector_files.sort(key=lambda x: int(x.split(\"_\")[-1].split(\".\")[0]))\n",
    "\n",
    "for vector_file in tqdm(vector_files, desc=\"Running saliency analysis\"):\n",
    "    drug_number = vector_file.split(\"_\")[-1].split(\".\")[0]\n",
    "    DGIDB_vector = np.load(os.path.join(VECTOR_DIR, vector_file))\n",
    "\n",
    "    result = get_hyper_randomwalk_torch(\n",
    "        DGIDB_binary_matrix,\n",
    "        DGIDB_vector,\n",
    "        MSIGDB_binary_matrix,\n",
    "        MSIGDB_weighted_matrix,\n",
    "        D,\n",
    "        restart_prob,\n",
    "        num_iterations,\n",
    "        P\n",
    "    )\n",
    "\n",
    "    df = pd.DataFrame(result[\"Importance\"], columns=[\"GeneIndex\", \"Score\"])\n",
    "    output_path = os.path.join(SAVE_DIR, f\"drug_{drug_number}_saliency.csv\")\n",
    "    df.to_csv(output_path, index=False)\n",
    "    print(f\"Saved to {output_path}\")\n",
    "\n",
    "print(\"✅ Done generating saliency scores for all DGIDB vectors.\")"
   ]
  },
  {
   "cell_type": "markdown",
   "id": "08c47454",
   "metadata": {},
   "source": [
    "## Pathway Perturbation"
   ]
  },
  {
   "cell_type": "code",
   "execution_count": null,
   "id": "32609949",
   "metadata": {},
   "outputs": [],
   "source": [
    "# # Perturb each pathway (remove one hyperedge at a time)\n",
    "# from tqdm import tqdm\n",
    "\n",
    "# # Set random seed for reproducibility (optional)\n",
    "# np.random.seed(42)\n",
    "\n",
    "# # Choose 25 unique random pathway indices\n",
    "# all_pathways = np.arange(MSIGDB_binary_matrix.shape[1])\n",
    "# selected_pathways = np.random.choice(all_pathways, size=25, replace=False)\n",
    "\n",
    "# skipped = []\n",
    "# for pathway_idx in tqdm(selected_pathways, desc=\"Running saliency analysis on 25 random pathways\"):\n",
    "#     # Skip pathway if it has no connections\n",
    "#     if MSIGDB_binary_matrix[:, pathway_idx].nnz == 0:\n",
    "#         skipped.append(pathway_idx)\n",
    "#         continue\n",
    "\n",
    "#     # Make copies to modify\n",
    "#     binary_copy = MSIGDB_binary_matrix.copy().tolil()\n",
    "#     weighted_copy = MSIGDB_weighted_matrix.copy().tolil()\n",
    "\n",
    "#     # Zero out the pathway column (remove the hyperedge)\n",
    "#     binary_copy[:, pathway_idx] = 0\n",
    "#     weighted_copy[:, pathway_idx] = 0\n",
    "\n",
    "#     # Convert back to csr for efficiency\n",
    "#     binary_csr = binary_copy.tocsr()\n",
    "#     weighted_csr = weighted_copy.tocsr()\n",
    "\n",
    "#     # Run random walk on the perturbed graph\n",
    "#     result = get_hyper_randomwalk_torch(DGIDB_binary_matrix, DGIDB_vector, binary_csr, weighted_csr, D, restart_prob, num_iterations, P)\n",
    "\n",
    "#     # Save to CSV\n",
    "#     df = pd.DataFrame(result[\"Importance\"], columns=[\"GeneIndex\", \"Score\"])\n",
    "#     df.to_csv(os.path.join(SAVE_DIR, f\"saliency_pathway_{pathway_idx}.csv\"), index=False)\n",
    "#     print(f\"Saved to saliency_pathway_{pathway_idx}.csv\")\n",
    "\n",
    "\n",
    "# # Optionally print or save skipped pathway\n",
    "# print(f\"Skipped {len(skipped)} pathway(s) with no connections: {skipped}\")\n",
    "\n",
    "# print(\"✅ Done generating saliency scores.\")"
   ]
  },
  {
   "cell_type": "code",
   "execution_count": 5,
   "id": "f1d5a343",
   "metadata": {},
   "outputs": [
    {
     "name": "stderr",
     "output_type": "stream",
     "text": [
      "100%|██████████| 12/12 [00:00<00:00, 127.23it/s]\n"
     ]
    },
    {
     "name": "stdout",
     "output_type": "stream",
     "text": [
      "GeneIndex       17056     17461         17490         5636          13094  \\\n",
      "RISPERIDONE  0.000126 -0.000348  3.692912e-08  8.417192e-08 -7.520066e-08   \n",
      "CLOZAPINE    0.000214 -0.000006  1.557055e-09  2.024535e-07  7.410563e-08   \n",
      "LITHIUM      0.000017 -0.000307 -4.944377e-08  6.291521e-08  1.500375e-07   \n",
      "ALLOPURINOL  0.000007 -0.000274  1.852459e-08 -7.039489e-09 -6.027039e-08   \n",
      "OLANZAPINE   0.000191 -0.000309 -2.442903e-08  8.830102e-08 -9.400537e-09   \n",
      "\n",
      "GeneIndex           4555          9127          3023          17513  \\\n",
      "RISPERIDONE  8.295683e-08 -2.152665e-07 -2.510205e-08 -2.328416e-07   \n",
      "CLOZAPINE    8.568895e-08 -3.749010e-07 -1.724984e-07 -2.718734e-07   \n",
      "LITHIUM      1.350782e-07 -1.468470e-07  1.120497e-09  4.328103e-08   \n",
      "ALLOPURINOL -1.517037e-08 -1.154585e-07  1.750959e-08 -1.923399e-08   \n",
      "OLANZAPINE   2.343950e-07 -5.272886e-08 -7.858034e-08 -1.705521e-07   \n",
      "\n",
      "GeneIndex           15885  ...         15828         16986         16987  \\\n",
      "RISPERIDONE -1.961234e-08  ...  6.433766e-08  1.120316e-07 -7.139170e-08   \n",
      "CLOZAPINE   -3.247260e-08  ... -5.650509e-08  1.836852e-07 -2.415982e-08   \n",
      "LITHIUM     -1.172302e-07  ...  6.330083e-08  6.155096e-08  1.401022e-07   \n",
      "ALLOPURINOL  5.888796e-08  ...  1.953595e-08  1.525405e-08 -2.433080e-08   \n",
      "OLANZAPINE  -1.016888e-07  ... -2.316301e-08  1.364133e-07  1.420522e-07   \n",
      "\n",
      "GeneIndex           18057         18060         18061         18064  \\\n",
      "RISPERIDONE -2.045999e-08 -1.018634e-09  1.729495e-08 -8.499410e-08   \n",
      "CLOZAPINE    1.417066e-07 -5.147740e-09 -3.460082e-08 -8.190545e-08   \n",
      "LITHIUM      1.389708e-07 -3.026798e-08 -6.097252e-09 -1.142107e-07   \n",
      "ALLOPURINOL -2.435991e-08  4.578760e-08  3.170862e-08 -3.128662e-08   \n",
      "OLANZAPINE   4.385583e-08 -3.779496e-08 -5.099355e-08 -7.178824e-08   \n",
      "\n",
      "GeneIndex           18067         18068         18069  \n",
      "RISPERIDONE  1.854278e-08  7.557537e-08  3.977038e-08  \n",
      "CLOZAPINE   -1.069202e-08 -2.605157e-08 -2.233937e-07  \n",
      "LITHIUM     -3.710738e-08  3.904643e-08  7.442941e-08  \n",
      "ALLOPURINOL -1.564331e-09  1.666558e-08  1.285662e-08  \n",
      "OLANZAPINE  -3.413516e-08  3.405148e-09 -6.664777e-08  \n",
      "\n",
      "[5 rows x 21981 columns]\n"
     ]
    }
   ],
   "source": [
    "import os\n",
    "import re\n",
    "import pandas as pd\n",
    "import numpy as np\n",
    "from tqdm import tqdm\n",
    "import json\n",
    "with open(MSIGDB_DIRECTORY + \"gene_to_index.json\", \"r\") as file:\n",
    "    gene_to_index = json.load(file)\n",
    "\n",
    "# with open(MSIGDB_DIRECTORY + \"pathway_to_index.json\", \"r\") as file:\n",
    "#     pathway_to_index = json.load(file)\n",
    "with open(DGIDB_DIRECTORY + \"drug_to_index.json\", \"r\") as file:\n",
    "    drug_to_index = json.load(file)\n",
    "# Path to folder containing saliency CSVs\n",
    "SAL_DIR = \"saliency_output/UniDir_BIPOLAR_Vector/\"\n",
    "\n",
    "# Load baseline\n",
    "baseline_df = pd.read_csv(os.path.join(SAL_DIR, \"baseline.csv\"))\n",
    "baseline_scores = baseline_df.set_index(\"GeneIndex\")[\"Score\"]\n",
    "# Initialize storage\n",
    "saliency_matrix = []\n",
    "drug_indices = []\n",
    "\n",
    "# Regex pattern to extract drug index\n",
    "pattern = re.compile(r\"drug_(\\d+)_saliency\\.csv\")\n",
    "\n",
    "# List all saliency CSV files except baseline\n",
    "csv_files = [f for f in os.listdir(SAL_DIR) if pattern.match(f)]\n",
    "\n",
    "for fname in tqdm(sorted(csv_files, key=lambda f: int(pattern.match(f).group(1)))):\n",
    "    drug_idx = int(pattern.match(fname).group(1))\n",
    "    fpath = os.path.join(SAL_DIR, fname)\n",
    "\n",
    "    perturbed_df = pd.read_csv(fpath)\n",
    "    perturbed_scores = perturbed_df.set_index(\"GeneIndex\")[\"Score\"]\n",
    "\n",
    "    # Align with baseline and compute saliency\n",
    "    aligned = baseline_scores.subtract(perturbed_scores, fill_value=0)\n",
    "    saliency_matrix.append(aligned.values)\n",
    "    drug_indices.append(drug_idx)\n",
    "\n",
    "# Create DataFrame: rows = drugs, cols = genes\n",
    "saliency_df = pd.DataFrame(saliency_matrix, index=drug_indices, columns=baseline_scores.index)\n",
    "# Invert the drug_to_index dictionary: index -> drug name\n",
    "index_to_drug = {idx: drug for drug, idx in drug_to_index.items()}\n",
    "\n",
    "# Rename rows (drug indices) to drug names\n",
    "saliency_df.index = saliency_df.index.map(index_to_drug)\n",
    "\n",
    "# Now the rows show drug names instead of indices\n",
    "print(saliency_df.head())\n",
    "\n"
   ]
  },
  {
   "cell_type": "code",
   "execution_count": 8,
   "id": "753166df",
   "metadata": {},
   "outputs": [
    {
     "data": {
      "image/png": "[encoded data removed]",
      "text/plain": [
       "<Figure size 1600x800 with 2 Axes>"
      ]
     },
     "metadata": {},
     "output_type": "display_data"
    }
   ],
   "source": [
    "import seaborn as sns\n",
    "import matplotlib.pyplot as plt\n",
    "\n",
    "plt.figure(figsize=(16, 8))\n",
    "sns.heatmap(saliency_df, cmap=\"coolwarm\", center=0, xticklabels=False)\n",
    "plt.xlabel(\"Gene Index\")\n",
    "plt.ylabel(\"Pathways (Hyperedge) Index\")\n",
    "plt.title(\"Drug Guided Saliency Map: Effect of Removing Each Drug on Gene Importance\")\n",
    "plt.tight_layout()\n",
    "plt.show()\n"
   ]
  }
 ],
 "metadata": {
  "kernelspec": {
   "display_name": "torchdgivenv",
   "language": "python",
   "name": "python3"
  },
  "language_info": {
   "codemirror_mode": {
    "name": "ipython",
    "version": 3
   },
   "file_extension": ".py",
   "mimetype": "text/x-python",
   "name": "python",
   "nbconvert_exporter": "python",
   "pygments_lexer": "ipython3",
   "version": "3.10.11"
  }
 },
 "nbformat": 4,
 "nbformat_minor": 5
}
