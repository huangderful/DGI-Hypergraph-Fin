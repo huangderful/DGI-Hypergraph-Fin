{
 "cells": [
  {
   "cell_type": "code",
   "execution_count": 45,
   "id": "edc63151",
   "metadata": {},
   "outputs": [
    {
     "name": "stdout",
     "output_type": "stream",
     "text": [
      "NCBI_INFO already loaded.\n"
     ]
    }
   ],
   "source": [
    "import pandas as pd\n",
    "\n",
    "if 'NCBI_INFO' not in globals():\n",
    "    print(\"Reading gene2refseq.gz...\")\n",
    "    NCBI_INFO = pd.read_csv(\"../Data/ncbi/gene2refseq.gz\", sep='\\t', compression='gzip')\n",
    "else:\n",
    "    print(\"NCBI_INFO already loaded.\")\n"
   ]
  },
  {
   "cell_type": "code",
   "execution_count": 46,
   "id": "59d6d5fd",
   "metadata": {},
   "outputs": [],
   "source": [
    "import numpy as np\n",
    "import json\n",
    "from scipy.sparse import load_npz\n",
    "import os\n",
    "from tqdm import tqdm\n",
    "\n",
    "DISEASE = \"FULL\"\n",
    "\n",
    "DGIDB_DIRECTORY = f\"../Gen_Hypergraph/output/DGIDB_{DISEASE}/\"\n",
    "DGIDB_CONVERGED_VECTOR_PATH = f\"./output/DGIDB_{DISEASE}/DGIDB_vector.npy\"\n",
    "MSIGDB_DIRECTORY = \"../Gen_Hypergraph/output/MSigDB_FULL/\" \n",
    "OUTPUT_FOLDER = f\"./output/DGIDB_{DISEASE}/\"\n",
    "os.makedirs(OUTPUT_FOLDER, exist_ok=True)\n",
    "restart_prob = 0.2  # Restart probability (theta)\n",
    "num_iterations = 10  # Number of iterations"
   ]
  },
  {
   "cell_type": "code",
   "execution_count": 47,
   "id": "f81e5805",
   "metadata": {},
   "outputs": [],
   "source": [
    "# Open the JSON file and load its content into a dictionary\n",
    "with open(DGIDB_DIRECTORY + \"gene_to_index.json\", \"r\") as file:\n",
    "    dgidb = json.load(file)\n",
    "with open(MSIGDB_DIRECTORY + \"gene_to_index.json\", \"r\") as file:\n",
    "    msigdb = json.load(file)"
   ]
  },
  {
   "cell_type": "code",
   "execution_count": 48,
   "id": "318ffc71",
   "metadata": {},
   "outputs": [],
   "source": [
    "import numpy as np\n",
    "# Jump probability for matching genes\n",
    "w = 1\n",
    "\n",
    "# Number of genes (assuming they are both of same size or matchable)\n",
    "num_genes_dgidb = len(dgidb)\n",
    "num_genes_msigdb = len(msigdb)\n",
    "\n",
    "# Initialize the inter-layer matrix (D) with zeros\n",
    "D = np.zeros((num_genes_dgidb, num_genes_msigdb))\n",
    "i = 0\n",
    "# Build the inter-layer matrix (D)\n",
    "for gene_dgidb, idx_dgidb in dgidb.items():\n",
    "    # If the gene exists in both gene-to-index mappings\n",
    "    if gene_dgidb in msigdb:      \n",
    "        idx_msigdb = msigdb[gene_dgidb]\n",
    "        D[idx_dgidb, idx_msigdb] = w  # Set jump probability\n",
    "        i += 1\n",
    "rows_with_high_sum = np.where(D.sum(axis=1) > 0)[0]"
   ]
  },
  {
   "cell_type": "code",
   "execution_count": 49,
   "id": "379325ef",
   "metadata": {},
   "outputs": [
    {
     "name": "stdout",
     "output_type": "stream",
     "text": [
      "26755\n"
     ]
    }
   ],
   "source": [
    "# Load matrices\n",
    "MSIGDB_weighted_matrix = load_npz(MSIGDB_DIRECTORY + \"hypergraph_incidence_matrix_weighted.npz\")\n",
    "MSIGDB_binary_matrix = load_npz(MSIGDB_DIRECTORY + \"hypergraph_incidence_matrix_binary.npz\")\n",
    "DGIDB_binary_matrix = load_npz(DGIDB_DIRECTORY + \"hypergraph_incidence_matrix_binary.npz\")\n",
    "DGIDB_weighted_matrix = load_npz(DGIDB_DIRECTORY + \"hypergraph_incidence_matrix_weighted.npz\")\n",
    "\n",
    "num_genes_DGIDB = DGIDB_binary_matrix.shape[0]  # Number of genes in DGIDB\n",
    "num_genes_MSIGDB = MSIGDB_binary_matrix.shape[0]  # Number of genes in MSIGDB\n",
    "\n",
    "# Initialize probability vectors\n",
    "v0 = np.zeros(num_genes_DGIDB + num_genes_MSIGDB)  # Combined vector for DGIDB and MSIGDB\n",
    "teleport = np.zeros(num_genes_DGIDB + num_genes_MSIGDB)  # Restart probability vector\n",
    "print(num_genes_DGIDB + num_genes_MSIGDB)\n",
    "# Initialize probability vectors\n",
    "v0[:] = 1.0 / (num_genes_DGIDB + num_genes_MSIGDB)  # Starting on DGIDB\n",
    "teleport[:] = 1.0 / (num_genes_DGIDB + num_genes_MSIGDB)\n",
    "\n",
    "def get_hyper_randomwalk(DGIDB_binary_matrix, DGIDB_weighted_matrix, MSIGDB_weighted_matrix, MSIGDB_binary_matrix, D, restart_prob, num_iterations):\n",
    "    \"\"\"Performs a hypergraph-based random walk with restart considering inter-layer transitions.\"\"\"\n",
    "    vi = v0.copy()  # Start with uniform probability (combined for both DGIDB and MSIGDB)\n",
    "    distance_list = []\n",
    "\n",
    "    for k in range(num_iterations):\n",
    "        print(f\"{k+1} iteration\")\n",
    "\n",
    "        # Store previous probability vector\n",
    "        vj = vi.copy()\n",
    "\n",
    "        # Initialize new probability vector\n",
    "        vi_new = np.zeros_like(vi)\n",
    "\n",
    "        # Handle transitions for DGIDB (first part of the vector)\n",
    "        for gene in range(num_genes_DGIDB):\n",
    "            # Intra-hypergraph transitions in DGIDB (moving within DGIDB)\n",
    "            connected_drugs = DGIDB_binary_matrix[gene, :].nonzero()[1]  # Nonzero columns in DGIDB binary matrix\n",
    "\n",
    "            if len(connected_drugs) == 0:\n",
    "                continue  # Skip if no drugs are found\n",
    "\n",
    "            # Collect probabilities from neighbors in DGIDB\n",
    "            prob_sum = 0\n",
    "            for drug in connected_drugs:\n",
    "                # Find genes connected to the selected drug (weighted transition in DGIDB)\n",
    "                connected_genes = DGIDB_weighted_matrix[:, drug].toarray().flatten()\n",
    "                neighbor_genes = np.where(connected_genes > 0)[0]  # Get genes with nonzero weight\n",
    "\n",
    "                if len(neighbor_genes) == 0:\n",
    "                    continue\n",
    "\n",
    "                # Normalize weights within DGIDB\n",
    "                weights = connected_genes[neighbor_genes]\n",
    "                weight_sum = np.sum(weights)\n",
    "                if weight_sum > 0:\n",
    "                    weights /= weight_sum  # Normalize to sum to 1\n",
    "\n",
    "                # Transition probability contribution\n",
    "                prob_sum += np.sum(weights * vj[neighbor_genes])\n",
    "\n",
    "            # Add inter-hypergraph jump probabilities (from DGIDB to MSIGDB)\n",
    "            vi_new[gene] = prob_sum + np.sum(D[gene, :] * vj[num_genes_DGIDB:])  # Jump to MSIGDB part\n",
    "        print(\"vi_new\", vi_new)\n",
    "        # Handle transitions for MSIGDB (second part of the vector)\n",
    "        for gene in tqdm(range(num_genes_MSIGDB), desc=\"MSIGDB Gene Processing\"):\n",
    "            # Intra-hypergraph transitions in MSIGDB (moving within MSIGDB)\n",
    "            connected_pathways = MSIGDB_binary_matrix[gene, :].nonzero()[1]  # Nonzero columns in MSIGDB binary matrix\n",
    "\n",
    "            if len(connected_pathways) == 0:\n",
    "                continue  # Skip if no pathways are found\n",
    "\n",
    "            # Collect probabilities from neighbors in MSIGDB\n",
    "            prob_sum = 0\n",
    "            for pathway in connected_pathways:\n",
    "                # Find genes connected to the selected pathway (weighted transition in MSIGDB)\n",
    "                connected_genes = MSIGDB_weighted_matrix[:, pathway].toarray().flatten()\n",
    "                neighbor_genes = np.where(connected_genes > 0)[0]  # Get genes with nonzero weight\n",
    "\n",
    "                if len(neighbor_genes) == 0:\n",
    "                    continue\n",
    "\n",
    "                # Normalize weights within MSIGDB\n",
    "                weights = connected_genes[neighbor_genes]\n",
    "                weight_sum = np.sum(weights)\n",
    "                if weight_sum > 0:\n",
    "                    weights /= weight_sum  # Normalize to sum to 1\n",
    "\n",
    "                # Transition probability contribution\n",
    "                prob_sum += np.sum(weights * vj[num_genes_DGIDB + neighbor_genes])\n",
    "\n",
    "            # Add inter-hypergraph jump probabilities (from MSIGDB to DGIDB)\n",
    "            vi_new[num_genes_DGIDB + gene] = prob_sum + np.sum(D[:, gene] * vj[:num_genes_DGIDB])  # Jump to DGIDB part\n",
    "        print(\"vi_new\", vi_new)\n",
    "        # Normalize vi_new to avoid overflow\n",
    "        vi_new /= np.sum(vi_new) if np.sum(vi_new) > 0 else 1\n",
    "\n",
    "        # Apply restart probability\n",
    "        vi = restart_prob * vi_new + (1 - restart_prob) * teleport\n",
    "\n",
    "        # Calculate distance (convergence criterion)\n",
    "        distance = np.sum(np.abs(vj - vi))\n",
    "        distance_list.append(distance)\n",
    "\n",
    "    # Sort importance scores in descending order\n",
    "    return {\"Importance\": vi, \"Distance\": distance_list}"
   ]
  },
  {
   "cell_type": "code",
   "execution_count": 50,
   "id": "2559a319",
   "metadata": {},
   "outputs": [],
   "source": [
    "# import torch\n",
    "# from tqdm import tqdm\n",
    "\n",
    "# # Use GPU if available\n",
    "# device = torch.device(\"cuda\" if torch.cuda.is_available() else \"cpu\")\n",
    "# print(\"Using device:\", device)\n",
    "\n",
    "# # Convert sparse matrices to dense (or use PyTorch sparse support if memory limited)\n",
    "# MSIGDB_weighted = torch.tensor(MSIGDB_weighted_matrix.toarray(), dtype=torch.float32, device=device)\n",
    "# MSIGDB_binary = torch.tensor(MSIGDB_binary_matrix.toarray(), dtype=torch.float32, device=device)\n",
    "# DGIDB_binary = torch.tensor(DGIDB_binary_matrix.toarray(), dtype=torch.float32, device=device)\n",
    "# # DGIDB_vector = torch.tensor(DGIDB_vector, dtype=torch.float32, device=device)\n",
    "# D = torch.tensor(D, dtype=torch.float32, device=device)\n",
    "\n",
    "# num_genes_MSIGDB = MSIGDB_binary.shape[0]\n",
    "# v0 = torch.full((num_genes_MSIGDB,), 1.0 / num_genes_MSIGDB, dtype=torch.float32, device=device)\n",
    "# teleport = v0.clone()\n",
    "# P = MSIGDB_weighted @ MSIGDB_weighted.T"
   ]
  },
  {
   "cell_type": "code",
   "execution_count": 51,
   "id": "64302a36",
   "metadata": {},
   "outputs": [],
   "source": [
    "import torch\n",
    "from tqdm import tqdm\n",
    "\n",
    "def get_hyper_randomwalk_cuda(\n",
    "    DGIDB_binary_matrix, DGIDB_weighted_matrix,\n",
    "    MSIGDB_weighted_matrix, MSIGDB_binary_matrix,\n",
    "    D_np, restart_prob, num_iterations\n",
    "):\n",
    "    device = torch.device(\"cuda\" if torch.cuda.is_available() else \"cpu\")\n",
    "    print(\"Using device:\", device)\n",
    "\n",
    "    # Convert matrices to dense PyTorch tensors\n",
    "    DGIDB_binary = torch.tensor(DGIDB_binary_matrix.toarray(), dtype=torch.float32, device=device)\n",
    "    DGIDB_weighted = torch.tensor(DGIDB_weighted_matrix.toarray(), dtype=torch.float32, device=device)\n",
    "    MSIGDB_binary = torch.tensor(MSIGDB_binary_matrix.toarray(), dtype=torch.float32, device=device)\n",
    "    MSIGDB_weighted = torch.tensor(MSIGDB_weighted_matrix.toarray(), dtype=torch.float32, device=device)\n",
    "    D = torch.tensor(D_np, dtype=torch.float32, device=device)\n",
    "\n",
    "    num_genes_DGIDB = DGIDB_binary.shape[0]\n",
    "    num_genes_MSIGDB = MSIGDB_binary.shape[0]\n",
    "\n",
    "    total_genes = num_genes_DGIDB + num_genes_MSIGDB\n",
    "\n",
    "    # Initial uniform distribution over all nodes\n",
    "    v0 = torch.full((total_genes,), 1.0 / total_genes, dtype=torch.float32, device=device)\n",
    "    vi = v0.clone()\n",
    "    teleport = v0.clone()\n",
    "    distance_list = []\n",
    "\n",
    "    for k in range(num_iterations):\n",
    "        print(f\"Iteration {k + 1}\")\n",
    "        vj = vi.clone()\n",
    "        vi_new = torch.zeros_like(vi)\n",
    "\n",
    "        # DGIDB side\n",
    "        for gene in range(num_genes_DGIDB):\n",
    "            connected_drugs = torch.nonzero(DGIDB_binary[gene], as_tuple=False).flatten()\n",
    "            if connected_drugs.numel() == 0:\n",
    "                continue\n",
    "\n",
    "            prob_sum = 0.0\n",
    "            for drug in connected_drugs:\n",
    "                connected_genes = DGIDB_weighted[:, drug]\n",
    "                neighbor_genes = torch.nonzero(connected_genes > 0, as_tuple=False).flatten()\n",
    "\n",
    "                if neighbor_genes.numel() == 0:\n",
    "                    continue\n",
    "\n",
    "                weights = connected_genes[neighbor_genes]\n",
    "                weight_sum = weights.sum()\n",
    "                if weight_sum > 0:\n",
    "                    weights = weights / weight_sum\n",
    "                    prob_sum += torch.sum(weights * vj[neighbor_genes])\n",
    "\n",
    "            # Add inter-layer transitions\n",
    "            vi_new[gene] = prob_sum + torch.sum(D[gene, :] * vj[num_genes_DGIDB:])\n",
    "\n",
    "        # MSIGDB side\n",
    "        for gene in tqdm(range(num_genes_MSIGDB), desc=\"MSIGDB Gene Processing\"):\n",
    "            connected_pathways = torch.nonzero(MSIGDB_binary[gene], as_tuple=False).flatten()\n",
    "            if connected_pathways.numel() == 0:\n",
    "                continue\n",
    "\n",
    "            prob_sum = 0.0\n",
    "            for pathway in connected_pathways:\n",
    "                connected_genes = MSIGDB_weighted[:, pathway]\n",
    "                neighbor_genes = torch.nonzero(connected_genes > 0, as_tuple=False).flatten()\n",
    "\n",
    "                if neighbor_genes.numel() == 0:\n",
    "                    continue\n",
    "\n",
    "                weights = connected_genes[neighbor_genes]\n",
    "                weight_sum = weights.sum()\n",
    "                if weight_sum > 0:\n",
    "                    weights = weights / weight_sum\n",
    "                    prob_sum += torch.sum(weights * vj[num_genes_DGIDB + neighbor_genes])\n",
    "\n",
    "            vi_new[num_genes_DGIDB + gene] = prob_sum + torch.sum(D[:, gene] * vj[:num_genes_DGIDB])\n",
    "\n",
    "        # Normalize\n",
    "        vi_new_sum = vi_new.sum()\n",
    "        if vi_new_sum > 0:\n",
    "            vi_new /= vi_new_sum\n",
    "\n",
    "        # Apply restart\n",
    "        vi = restart_prob * vi_new + (1 - restart_prob) * teleport\n",
    "\n",
    "        # Convergence metric\n",
    "        distance = torch.sum(torch.abs(vj - vi)).item()\n",
    "        distance_list.append(distance)\n",
    "\n",
    "    return {\n",
    "        \"Importance\": vi.detach().cpu().numpy(),\n",
    "        \"Distance\": distance_list\n",
    "    }\n"
   ]
  },
  {
   "cell_type": "code",
   "execution_count": 52,
   "id": "56eb7dcc",
   "metadata": {},
   "outputs": [
    {
     "name": "stdout",
     "output_type": "stream",
     "text": [
      "Using device: cuda\n",
      "Iteration 1\n"
     ]
    },
    {
     "name": "stderr",
     "output_type": "stream",
     "text": [
      "MSIGDB Gene Processing: 100%|██████████| 21981/21981 [02:20<00:00, 156.63it/s]\n"
     ]
    },
    {
     "name": "stdout",
     "output_type": "stream",
     "text": [
      "Iteration 2\n"
     ]
    },
    {
     "name": "stderr",
     "output_type": "stream",
     "text": [
      "MSIGDB Gene Processing: 100%|██████████| 21981/21981 [02:14<00:00, 163.94it/s]\n"
     ]
    },
    {
     "name": "stdout",
     "output_type": "stream",
     "text": [
      "Iteration 3\n"
     ]
    },
    {
     "name": "stderr",
     "output_type": "stream",
     "text": [
      "MSIGDB Gene Processing: 100%|██████████| 21981/21981 [02:28<00:00, 148.28it/s]\n"
     ]
    },
    {
     "name": "stdout",
     "output_type": "stream",
     "text": [
      "Iteration 4\n"
     ]
    },
    {
     "name": "stderr",
     "output_type": "stream",
     "text": [
      "MSIGDB Gene Processing: 100%|██████████| 21981/21981 [02:11<00:00, 166.53it/s]\n"
     ]
    },
    {
     "name": "stdout",
     "output_type": "stream",
     "text": [
      "Iteration 5\n"
     ]
    },
    {
     "name": "stderr",
     "output_type": "stream",
     "text": [
      "MSIGDB Gene Processing: 100%|██████████| 21981/21981 [02:29<00:00, 146.68it/s]\n"
     ]
    },
    {
     "name": "stdout",
     "output_type": "stream",
     "text": [
      "Iteration 6\n"
     ]
    },
    {
     "name": "stderr",
     "output_type": "stream",
     "text": [
      "MSIGDB Gene Processing: 100%|██████████| 21981/21981 [02:10<00:00, 168.02it/s]\n"
     ]
    },
    {
     "name": "stdout",
     "output_type": "stream",
     "text": [
      "Iteration 7\n"
     ]
    },
    {
     "name": "stderr",
     "output_type": "stream",
     "text": [
      "MSIGDB Gene Processing: 100%|██████████| 21981/21981 [02:23<00:00, 153.38it/s]\n"
     ]
    },
    {
     "name": "stdout",
     "output_type": "stream",
     "text": [
      "Iteration 8\n"
     ]
    },
    {
     "name": "stderr",
     "output_type": "stream",
     "text": [
      "MSIGDB Gene Processing: 100%|██████████| 21981/21981 [02:18<00:00, 159.24it/s]\n"
     ]
    },
    {
     "name": "stdout",
     "output_type": "stream",
     "text": [
      "Iteration 9\n"
     ]
    },
    {
     "name": "stderr",
     "output_type": "stream",
     "text": [
      "MSIGDB Gene Processing: 100%|██████████| 21981/21981 [02:18<00:00, 158.58it/s]\n"
     ]
    },
    {
     "name": "stdout",
     "output_type": "stream",
     "text": [
      "Iteration 10\n"
     ]
    },
    {
     "name": "stderr",
     "output_type": "stream",
     "text": [
      "MSIGDB Gene Processing: 100%|██████████| 21981/21981 [02:26<00:00, 150.21it/s]\n"
     ]
    }
   ],
   "source": [
    "result = get_hyper_randomwalk_cuda(DGIDB_binary_matrix, DGIDB_weighted_matrix, MSIGDB_weighted_matrix, MSIGDB_binary_matrix, D, restart_prob, num_iterations)"
   ]
  },
  {
   "cell_type": "code",
   "execution_count": 53,
   "id": "6f1a94d4",
   "metadata": {},
   "outputs": [],
   "source": [
    "import pandas as pd\n",
    "\n",
    "DGIDB_vector = result[\"Importance\"][:num_genes_DGIDB]\n",
    "MSIGDB_vector = result[\"Importance\"][num_genes_DGIDB:]\n",
    "\n",
    "DGIDB_Importance_df = pd.DataFrame({\"Index\": np.arange(len(DGIDB_vector)), \"Score\": DGIDB_vector})\n",
    "MSIGDB_Importance_df = pd.DataFrame({\"Index\": np.arange(len(MSIGDB_vector)), \"Score\": MSIGDB_vector})\n",
    "\n",
    "DGIDB_gene_to_index_df = pd.DataFrame({\n",
    "    \"ncbi_gene_id\": list(dgidb.keys()),\n",
    "    \"Index\": list(dgidb.values()),\n",
    "})\n",
    "\n",
    "MSIGDB_gene_to_index_df = pd.DataFrame({\n",
    "    \"ncbi_gene_id\": list(msigdb.keys()),\n",
    "    \"Index\": list(msigdb.values()),\n",
    "})\n",
    "\n",
    "DGIDB_df = pd.merge(DGIDB_Importance_df, DGIDB_gene_to_index_df, on=\"Index\")\n",
    "MSIGDB_df = pd.merge(MSIGDB_Importance_df, MSIGDB_gene_to_index_df, on=\"Index\")\n"
   ]
  },
  {
   "cell_type": "code",
   "execution_count": 54,
   "id": "a76e40ba",
   "metadata": {},
   "outputs": [],
   "source": [
    "# Assuming DGIDB_df and MSIGDB_df both have 'gene' and 'Importance' columns\n",
    "combined_df = pd.concat([DGIDB_df, MSIGDB_df])\n",
    "\n",
    "# Group by 'gene' and sum the 'Importance' scores\n",
    "final_df = combined_df.groupby(\"ncbi_gene_id\", as_index=False).sum()\n",
    "\n",
    "# Sort by 'Importance' in descending order\n",
    "final_df = final_df.sort_values(by=\"Score\", ascending=False)\n",
    "\n",
    "# Reset the index\n",
    "final_df = final_df.reset_index(drop=True)"
   ]
  },
  {
   "cell_type": "code",
   "execution_count": 55,
   "id": "63cbf113",
   "metadata": {},
   "outputs": [],
   "source": [
    "human_gene2refseq = NCBI_INFO[NCBI_INFO['#tax_id'] == 9606]\n",
    "id_to_gene_claim = pd.Series(human_gene2refseq.Symbol.values, index=human_gene2refseq.GeneID).to_dict()\n",
    "\n",
    "def get_gene_claim_name(ncbi_gene_id):\n",
    "    ncbi_gene_id = int(ncbi_gene_id)\n",
    "    result = id_to_gene_claim[ncbi_gene_id]\n",
    "    if result:\n",
    "        return result\n",
    "    else:\n",
    "        return \"Gene name not found\""
   ]
  },
  {
   "cell_type": "code",
   "execution_count": 56,
   "id": "2f369356",
   "metadata": {},
   "outputs": [],
   "source": [
    "final_df[\"claim_name\"] = final_df[\"ncbi_gene_id\"].apply(get_gene_claim_name)\n",
    "final_df.to_csv(OUTPUT_FOLDER + \"multilayer_rwr_results.csv\", index=False)"
   ]
  }
 ],
 "metadata": {
  "kernelspec": {
   "display_name": "torchdgivenv",
   "language": "python",
   "name": "python3"
  },
  "language_info": {
   "codemirror_mode": {
    "name": "ipython",
    "version": 3
   },
   "file_extension": ".py",
   "mimetype": "text/x-python",
   "name": "python",
   "nbconvert_exporter": "python",
   "pygments_lexer": "ipython3",
   "version": "3.10.11"
  }
 },
 "nbformat": 4,
 "nbformat_minor": 5
}
