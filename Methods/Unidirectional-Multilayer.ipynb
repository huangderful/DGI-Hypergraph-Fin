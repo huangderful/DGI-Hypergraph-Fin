{
 "cells": [
  {
   "cell_type": "code",
   "execution_count": 1,
   "id": "8a9aec3c",
   "metadata": {},
   "outputs": [
    {
     "name": "stderr",
     "output_type": "stream",
     "text": [
      "c:\\Users\\richa\\Desktop\\CodingWorkspaces\\DGI-Hypergraph-Fin\\dgivenv\\lib\\site-packages\\IPython\\core\\interactiveshell.py:3258: DtypeWarning: Columns (2,4,6,8,9,10) have mixed types.Specify dtype option on import or set low_memory=False.\n",
      "  interactivity=interactivity, compiler=compiler, result=result)\n"
     ]
    }
   ],
   "source": [
    "import numpy as np\n",
    "import json\n",
    "from scipy.sparse import load_npz\n",
    "import pandas as pd\n",
    "import os\n",
    "from tqdm import tqdm\n",
    "\n",
    "DGIDB_DIRECTORY = \"../Gen_Hypergraph/output/DGIDB_BIPOLAR/\"\n",
    "DGIDB_CONVERGED_VECTOR_PATH = \"./output/DGIDB_BIPOLAR/DGIDB_vector.npy\"\n",
    "MSIGDB_DIRECTORY = \"../Gen_Hypergraph/output/MSigDB_FULL/\"\n",
    "OUTPUT_FOLDER = \"./output/DGIDB_BIPOLAR/\"\n",
    "NCBI_INFO = pd.read_csv(\"../Data/ncbi/gene2refseq.gz\", sep='\\t', compression='gzip')\n",
    "os.makedirs(OUTPUT_FOLDER, exist_ok=True)\n",
    "restart_prob = 0.2  # Restart probability (theta)\n",
    "num_iterations = 10  # Number of iterationsh\n"
   ]
  },
  {
   "cell_type": "code",
   "execution_count": 2,
   "id": "369b54ba",
   "metadata": {},
   "outputs": [],
   "source": [
    "# Open the JSON file and load its content into a dictionary\n",
    "with open(DGIDB_DIRECTORY + \"gene_to_index.json\", \"r\") as file:\n",
    "    dgidb = json.load(file)\n",
    "with open(MSIGDB_DIRECTORY + \"gene_to_index.json\", \"r\") as file:\n",
    "    msigdb = json.load(file)"
   ]
  },
  {
   "cell_type": "code",
   "execution_count": 3,
   "id": "349a439b",
   "metadata": {},
   "outputs": [],
   "source": [
    "import numpy as np\n",
    "# Jump probability for matching genes\n",
    "w = 1\n",
    "\n",
    "# Number of genes (assuming they are both of same size or matchable)\n",
    "num_genes_dgidb = len(dgidb)\n",
    "num_genes_msigdb = len(msigdb)\n",
    "\n",
    "# Initialize the inter-layer matrix (D) with zeros\n",
    "D = np.zeros((num_genes_dgidb, num_genes_msigdb))\n",
    "i = 0\n",
    "# Build the inter-layer matrix (D)\n",
    "for gene_dgidb, idx_dgidb in dgidb.items():\n",
    "    # If the gene exists in both gene-to-index mappings\n",
    "    if gene_dgidb in msigdb:      \n",
    "        idx_msigdb = msigdb[gene_dgidb]\n",
    "        D[idx_dgidb, idx_msigdb] = w  # Set jump probability\n",
    "        i += 1\n",
    "rows_with_high_sum = np.where(D.sum(axis=1) > 0)[0]"
   ]
  },
  {
   "cell_type": "code",
   "execution_count": 4,
   "id": "bca42f4f",
   "metadata": {},
   "outputs": [],
   "source": [
    "# Load matrices\n",
    "MSIGDB_weighted_matrix = load_npz(MSIGDB_DIRECTORY + \"hypergraph_incidence_matrix_weighted.npz\")\n",
    "MSIGDB_binary_matrix = load_npz(MSIGDB_DIRECTORY + \"hypergraph_incidence_matrix_binary.npz\")\n",
    "DGIDB_binary_matrix = load_npz(DGIDB_DIRECTORY + \"hypergraph_incidence_matrix_binary.npz\")\n",
    "DGIDB_vector =  np.load(DGIDB_CONVERGED_VECTOR_PATH)\n",
    "\n",
    "num_genes_MSIGDB = MSIGDB_binary_matrix.shape[0]  # Number of genes in MSIGDB\n",
    "# Initialize probability vectors\n",
    "v0 = np.zeros(num_genes_MSIGDB)  # Combined vector for DGIDB and MSIGDB\n",
    "teleport = np.zeros(num_genes_MSIGDB)  # Restart probability vector\n",
    "# Initialize probability vectors\n",
    "v0[:] = 1.0 / (num_genes_MSIGDB)  # Starting on DGIDB\n",
    "teleport[:] = 1.0 / (num_genes_MSIGDB)\n",
    "\n",
    "def get_hyper_randomwalk(DGIDB_binary_matrix, DGIDB_vector, MSIGDB_weighted_matrix, MSIGDB_binary_matrix, D, restart_prob, num_iterations):\n",
    "    \"\"\"Performs a hypergraph-based random walk with restart considering inter-layer transitions.\"\"\"\n",
    "    vi = v0.copy()  # Start with uniform probability (combined for both DGIDB and MSIGDB)\n",
    "    distance_list = []\n",
    "    # Initialize the complete vector with zeros\n",
    "    dgidb_vector_complete = np.zeros(num_genes_MSIGDB)\n",
    "\n",
    "    for gene in tqdm(range(num_genes_MSIGDB), desc=\"DGIDB full vector calculation\"):\n",
    "        # Intra-hypergraph transitions in MSIGDB (moving within MSIGDB)\n",
    "        connected_pathways = MSIGDB_binary_matrix[gene, :].nonzero()[1]  # Nonzero columns in MSIGDB binary matrix\n",
    "\n",
    "        if len(connected_pathways) == 0:\n",
    "            continue  # Skip if no pathways are found\n",
    "\n",
    "        for pathway in connected_pathways:\n",
    "            # Find genes connected to the selected pathway (weighted transition in MSIGDB)\n",
    "            connected_genes = MSIGDB_weighted_matrix[:, pathway].toarray().flatten()\n",
    "            neighbor_genes = np.where(connected_genes > 0)[0]  # Get genes with nonzero weight\n",
    "\n",
    "            # Check if the current gene has a DGIDB connection\n",
    "            dgidb_gene = np.where(D[:, gene] > 0)[0]  # Find DGIDB neighbors of the current MSIGDB gene\n",
    "            if len(dgidb_gene) == 1:\n",
    "                dgidb_drugs = DGIDB_binary_matrix[dgidb_gene[0], :].nonzero()[1]\n",
    "                neighbor_genes_set = set()  # To avoid duplicates\n",
    "            \n",
    "                for drug in dgidb_drugs:\n",
    "                    # Get genes connected through the same drug (edge)\n",
    "                    connected_genes = DGIDB_binary_matrix[:, drug].toarray().flatten()\n",
    "                    neighbor_genes = np.where(connected_genes > 0)[0]\n",
    "                    # Add unique neighbors to the set\n",
    "                    neighbor_genes_set.update(neighbor_genes)\n",
    "\n",
    "                # Sum contributions from unique DGIDB neighbors\n",
    "                if len(neighbor_genes_set) > 0:\n",
    "                    neighbor_genes_list = list(neighbor_genes_set)\n",
    "                    dgidb_contribution = np.sum(DGIDB_vector[neighbor_genes_list])  # Sum unique contributions\n",
    "                    dgidb_vector_complete[gene] += dgidb_contribution  # Store in the complete vector\n",
    "\n",
    "    # Normalize dgidb_vector_complete to avoid overflow\n",
    "    dgidb_vector_complete /= np.sum(dgidb_vector_complete) if np.sum(dgidb_vector_complete) > 0 else 1\n",
    "    \n",
    "\n",
    "\n",
    "    for k in range(num_iterations):\n",
    "        print(f\"{k+1} iteration\")\n",
    "\n",
    "        # Store previous probability vector\n",
    "        vj = vi.copy()\n",
    "\n",
    "        # Initialize new probability vector\n",
    "        vi_new = np.zeros_like(vi)\n",
    "        # Handle transitions for MSIGDB (second part of the vector)\n",
    "        for gene in tqdm(range(num_genes_MSIGDB), desc=\"MSIGDB Gene Processing\"):\n",
    "            # Intra-hypergraph transitions in MSIGDB (moving within MSIGDB)\n",
    "            connected_pathways = MSIGDB_binary_matrix[gene, :].nonzero()[1]  # Nonzero columns in MSIGDB binary matrix\n",
    "\n",
    "            if len(connected_pathways) == 0:\n",
    "                continue  # Skip if no pathways are found\n",
    "\n",
    "            # Collect probabilities from neighbors in MSIGDB\n",
    "            prob_sum = 0\n",
    "            for pathway in connected_pathways:\n",
    "                # Find genes connected to the selected pathway (weighted transition in MSIGDB)\n",
    "                connected_genes = MSIGDB_weighted_matrix[:, pathway].toarray().flatten()\n",
    "                neighbor_genes = np.where(connected_genes > 0)[0]  # Get genes with nonzero weight\n",
    "\n",
    "                if len(neighbor_genes) == 0:\n",
    "                    continue\n",
    "\n",
    "                # Normalize weights within MSIGDB\n",
    "                weights = connected_genes[neighbor_genes]\n",
    "                weight_sum = np.sum(weights)\n",
    "                if weight_sum > 0:\n",
    "                    weights /= weight_sum  # Normalize to sum to 1\n",
    "\n",
    "                # Transition probability contribution\n",
    "                prob_sum += np.sum(weights * vj[neighbor_genes])\n",
    "\n",
    "\n",
    "            # Add inter-hypergraph jump probabilities (from MSIGDB to DGIDB)\n",
    "            vi_new[gene] = prob_sum\n",
    "        print(\"vi_new\", vi_new)\n",
    "        # Normalize vi_new to avoid overflow\n",
    "        vi_new /= np.sum(vi_new) if np.sum(vi_new) > 0 else 1\n",
    "\n",
    "        # Apply restart probability\n",
    "        vi = restart_prob * vi_new + (1 - restart_prob) * teleport + dgidb_vector_complete\n",
    "\n",
    "        # Calculate distance (convergence criterion)\n",
    "        distance = np.sum(np.abs(vj - vi))\n",
    "        distance_list.append(distance)\n",
    "\n",
    "    # Sort importance scores in descending order\n",
    "    importance_scores = np.argsort(vi)[::-1]\n",
    "    importance_values = vi[importance_scores]\n",
    "\n",
    "    # Return importance scores and distance values\n",
    "    return {\"Importance\": list(zip(importance_scores, importance_values)), \"Distance\": distance_list}"
   ]
  },
  {
   "cell_type": "code",
   "execution_count": 5,
   "id": "be9ded67",
   "metadata": {},
   "outputs": [
    {
     "name": "stderr",
     "output_type": "stream",
     "text": [
      "DGIDB full vector calculation: 100%|██████████| 21981/21981 [12:14<00:00, 29.94it/s] \n"
     ]
    },
    {
     "name": "stdout",
     "output_type": "stream",
     "text": [
      "1 iteration\n"
     ]
    },
    {
     "name": "stderr",
     "output_type": "stream",
     "text": [
      "MSIGDB Gene Processing: 100%|██████████| 21981/21981 [17:05<00:00, 21.43it/s] \n"
     ]
    },
    {
     "name": "stdout",
     "output_type": "stream",
     "text": [
      "vi_new [0.00081889 0.00086438 0.00300259 ... 0.0014558  0.0015013  0.00113735]\n",
      "2 iteration\n"
     ]
    },
    {
     "name": "stderr",
     "output_type": "stream",
     "text": [
      "MSIGDB Gene Processing: 100%|██████████| 21981/21981 [18:32<00:00, 19.75it/s] \n"
     ]
    },
    {
     "name": "stdout",
     "output_type": "stream",
     "text": [
      "vi_new [0.00436917 0.01265123 0.01446418 ... 0.00543762 0.00585295 0.00491162]\n",
      "3 iteration\n"
     ]
    },
    {
     "name": "stderr",
     "output_type": "stream",
     "text": [
      "MSIGDB Gene Processing: 100%|██████████| 21981/21981 [18:53<00:00, 19.39it/s]  \n"
     ]
    },
    {
     "name": "stdout",
     "output_type": "stream",
     "text": [
      "vi_new [0.00442037 0.0128603  0.01465456 ... 0.00545228 0.00590244 0.00498851]\n",
      "4 iteration\n"
     ]
    },
    {
     "name": "stderr",
     "output_type": "stream",
     "text": [
      "MSIGDB Gene Processing: 100%|██████████| 21981/21981 [1:08:59<00:00,  5.31it/s] \n"
     ]
    },
    {
     "name": "stdout",
     "output_type": "stream",
     "text": [
      "vi_new [0.00442296 0.01285729 0.01465804 ... 0.00545235 0.00590327 0.00499068]\n",
      "5 iteration\n"
     ]
    },
    {
     "name": "stderr",
     "output_type": "stream",
     "text": [
      "MSIGDB Gene Processing: 100%|██████████| 21981/21981 [24:44<00:00, 14.81it/s]  \n"
     ]
    },
    {
     "name": "stdout",
     "output_type": "stream",
     "text": [
      "vi_new [0.00442324 0.01285657 0.01465803 ... 0.00545237 0.00590323 0.00499074]\n",
      "6 iteration\n"
     ]
    },
    {
     "name": "stderr",
     "output_type": "stream",
     "text": [
      "MSIGDB Gene Processing: 100%|██████████| 21981/21981 [29:58<00:00, 12.22it/s]  \n"
     ]
    },
    {
     "name": "stdout",
     "output_type": "stream",
     "text": [
      "vi_new [0.00442328 0.01285648 0.01465802 ... 0.00545237 0.00590322 0.00499074]\n",
      "7 iteration\n"
     ]
    },
    {
     "name": "stderr",
     "output_type": "stream",
     "text": [
      "MSIGDB Gene Processing: 100%|██████████| 21981/21981 [29:34<00:00, 12.39it/s]  \n"
     ]
    },
    {
     "name": "stdout",
     "output_type": "stream",
     "text": [
      "vi_new [0.00442328 0.01285647 0.01465801 ... 0.00545237 0.00590322 0.00499074]\n",
      "8 iteration\n"
     ]
    },
    {
     "name": "stderr",
     "output_type": "stream",
     "text": [
      "MSIGDB Gene Processing: 100%|██████████| 21981/21981 [32:36<00:00, 11.24it/s]  \n"
     ]
    },
    {
     "name": "stdout",
     "output_type": "stream",
     "text": [
      "vi_new [0.00442328 0.01285646 0.01465801 ... 0.00545237 0.00590322 0.00499074]\n",
      "9 iteration\n"
     ]
    },
    {
     "name": "stderr",
     "output_type": "stream",
     "text": [
      "MSIGDB Gene Processing: 100%|██████████| 21981/21981 [37:29<00:00,  9.77it/s]   \n"
     ]
    },
    {
     "name": "stdout",
     "output_type": "stream",
     "text": [
      "vi_new [0.00442328 0.01285646 0.01465801 ... 0.00545237 0.00590322 0.00499074]\n",
      "10 iteration\n"
     ]
    },
    {
     "name": "stderr",
     "output_type": "stream",
     "text": [
      "MSIGDB Gene Processing: 100%|██████████| 21981/21981 [24:27<00:00, 14.98it/s]  \n"
     ]
    },
    {
     "name": "stdout",
     "output_type": "stream",
     "text": [
      "vi_new [0.00442328 0.01285646 0.01465801 ... 0.00545237 0.00590322 0.00499074]\n",
      "Top Indices by Importance:\n",
      "Index 17056: 0.023415\n",
      "Index 17461: 0.021858\n",
      "Index 17490: 0.017392\n",
      "Index 4555: 0.013329\n",
      "Index 5636: 0.013108\n",
      "Index 13094: 0.012905\n",
      "Index 9127: 0.012025\n",
      "Index 3023: 0.011670\n",
      "Index 15885: 0.010955\n",
      "Index 7417: 0.010756\n",
      "\n",
      "Distance per Iteration:\n",
      "[1.1637569640659267, 0.06925456361656208, 0.003885809671152212, 0.0004162002277098982, 5.112898988552348e-05, 6.552055973745666e-06, 8.53180614994132e-07, 1.1187416928834732e-07, 1.4716902981644006e-08, 1.9389203174735364e-09]\n"
     ]
    }
   ],
   "source": [
    "result = get_hyper_randomwalk(DGIDB_binary_matrix, DGIDB_vector, MSIGDB_weighted_matrix, MSIGDB_binary_matrix, D, restart_prob, num_iterations)\n",
    "# Print results\n",
    "print(\"Top Indices by Importance:\")\n",
    "for index, score in result[\"Importance\"][:10]:\n",
    "    print(f\"Index {index}: {score:.6f}\")\n",
    "\n",
    "print(\"\\nDistance per Iteration:\")\n",
    "print(result[\"Distance\"])"
   ]
  },
  {
   "cell_type": "code",
   "execution_count": 6,
   "id": "ff3488d0",
   "metadata": {},
   "outputs": [],
   "source": [
    "# Load the JSON data from the file\n",
    "with open(MSIGDB_DIRECTORY + 'gene_to_index.json', 'r') as file:\n",
    "    gene_to_index = json.load(file)\n",
    "\n",
    "# Invert the dictionary to map indices back to genes\n",
    "index_to_gene = {v: k for k, v in gene_to_index.items()}\n",
    "human_gene2refseq = NCBI_INFO[NCBI_INFO['#tax_id'] == 9606]\n",
    "id_to_gene_claim = pd.Series(human_gene2refseq.Symbol.values, index=human_gene2refseq.GeneID).to_dict()\n",
    "\n",
    "def get_gene_claim_name(ncbi_gene_id):\n",
    "    ncbi_gene_id = int(ncbi_gene_id)\n",
    "    result = id_to_gene_claim[ncbi_gene_id]\n",
    "    if result:\n",
    "        return result\n",
    "    else:\n",
    "        return \"Gene name not found\""
   ]
  },
  {
   "cell_type": "code",
   "execution_count": 7,
   "id": "ad158247",
   "metadata": {},
   "outputs": [],
   "source": [
    "results_df = pd.DataFrame(result[\"Importance\"], columns=['Index', 'Score'])\n",
    "results_df[\"ncbi_gene_id\"] = results_df[\"Index\"].apply(index_to_gene.get)\n",
    "results_df[\"claim_name\"] = results_df[\"ncbi_gene_id\"].apply(get_gene_claim_name)\n",
    "results_df.to_csv(OUTPUT_FOLDER + \"unidirectional_multilayer_rwr_results_ORIGINAL.csv\", index=False)"
   ]
  }
 ],
 "metadata": {
  "kernelspec": {
   "display_name": "dgivenv",
   "language": "python",
   "name": "python3"
  },
  "language_info": {
   "codemirror_mode": {
    "name": "ipython",
    "version": 3
   },
   "file_extension": ".py",
   "mimetype": "text/x-python",
   "name": "python",
   "nbconvert_exporter": "python",
   "pygments_lexer": "ipython3",
   "version": "3.7.0"
  }
 },
 "nbformat": 4,
 "nbformat_minor": 5
}
