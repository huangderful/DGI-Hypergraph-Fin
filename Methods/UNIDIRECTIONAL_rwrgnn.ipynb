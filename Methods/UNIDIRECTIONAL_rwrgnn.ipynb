{
 "cells": [
  {
   "cell_type": "code",
   "execution_count": 1,
   "id": "d2f5bf7a",
   "metadata": {},
   "outputs": [
    {
     "name": "stderr",
     "output_type": "stream",
     "text": [
      "c:\\Users\\richa\\Desktop\\CodingWorkspaces\\DISHyper\\dishypervenv\\lib\\site-packages\\tqdm\\auto.py:21: TqdmWarning: IProgress not found. Please update jupyter and ipywidgets. See https://ipywidgets.readthedocs.io/en/stable/user_install.html\n",
      "  from .autonotebook import tqdm as notebook_tqdm\n"
     ]
    }
   ],
   "source": [
    "from sklearn.metrics import auc, roc_auc_score\n",
    "from sklearn.metrics import precision_recall_curve\n",
    "import pandas as pd\n",
    "import numpy as np\n",
    "import torch\n",
    "import random\n",
    "import scipy.sparse as sp\n",
    "import os\n",
    "from tqdm import tqdm\n",
    "from scipy.sparse import load_npz\n",
    "\n",
    "def cal_auc(output, labels):\n",
    "    outputTest = output.cpu().detach().numpy()\n",
    "    outputTest = np.exp(outputTest)\n",
    "    outputTest = outputTest[:,1]\n",
    "    labelsTest = labels.cpu().numpy()\n",
    "    AUROC = roc_auc_score(labelsTest, outputTest)\n",
    "    precision, recall, _thresholds = precision_recall_curve(labelsTest, outputTest)\n",
    "    AUPRC = auc(recall, precision)\n",
    "    return AUROC,AUPRC\n",
    "\n",
    "def _generate_G_from_H_weight(H, W):\n",
    "    n_edge = H.shape[1]\n",
    "    DV = np.sum(H * W, axis=1)  # the degree of the node\n",
    "    DE = np.sum(H, axis=0)  # the degree of the hyperedge\n",
    "    invDE = np.mat(np.diag(1/DE))\n",
    "    DV2 = np.mat(np.diag(np.power(DV, -0.5)))\n",
    "    W = np.mat(np.diag(W))\n",
    "    H = np.mat(H)\n",
    "    HT = H.T\n",
    "    G = DV2 * H * W * invDE * HT * DV2\n",
    "    return G\n",
    "def generate_P_from_H_weight(H: np.ndarray, W: np.ndarray):\n",
    "    \"\"\"\n",
    "    Generate the RWR-based propagation matrix P = D_u^{-1} * H * D_e^{-1} * W^T\n",
    "\n",
    "    Args:\n",
    "        H (np.ndarray): Incidence matrix of shape (n_nodes, n_edges)\n",
    "        W (np.ndarray): Hyperedge weight vector of shape (n_nodes, n_edges)\n",
    "\n",
    "    Returns:\n",
    "        np.ndarray: Propagation matrix P of shape (n_nodes, n_edges)\n",
    "    \"\"\"\n",
    "    H = np.array(H)\n",
    "    W = np.array(W)\n",
    "    assert not np.isnan(H).any(), \"H has NaNs\"\n",
    "    assert not np.isinf(H).any(), \"H has Infs\"\n",
    "    assert not np.isnan(W).any(), \"W has NaNs\"\n",
    "    assert not np.isinf(W).any(), \"W has Infs\"\n",
    "    # Compute hyperedge degrees\n",
    "    DE = np.sum(H, axis=0)  # (m,)\n",
    "    # invDE = np.diag(1.0 / DE)\n",
    "    invDE = np.diag(np.where(DE != 0, 1.0 / DE, 0.0))\n",
    "    # Compute node degrees\n",
    "    DU = np.sum(H * W, axis=1)  # (n,)\n",
    "    # invDU = np.diag(1.0 / DU)\n",
    "    invDU = np.diag(np.where(DU != 0, 1.0 / DU, 0.0))\n",
    "\n",
    "    # Final P = D_u^{-1} * H * D_e^{-1} * W^T\n",
    "    P = invDU @ H @ invDE @ W.T\n",
    "    assert not np.isnan(P).any(), \"P has NaNs\"\n",
    "    assert not np.isinf(P).any(), \"P has Infs\"\n",
    "    return P\n",
    "def getData(positiveGenePath, negativeGenePath, geneList):\n",
    "    positiveGene = pd.read_csv(positiveGenePath, header = None)\n",
    "    positiveGene = list(positiveGene[0].values)\n",
    "    positiveGene = list(set(geneList)&set(positiveGene))\n",
    "    positiveGene.sort()\n",
    "    negativeGene = pd.read_csv(negativeGenePath, header = None)     \n",
    "    negativeGene = negativeGene[0]\n",
    "    negativeGene = list(set(negativeGene)&set(geneList))\n",
    "    negativeGene.sort()\n",
    "\n",
    "    labelFrame = pd.DataFrame(data = [0]*len(geneList), index = geneList)\n",
    "    labelFrame.loc[positiveGene,:] = 1\n",
    "    positiveIndex = np.where(labelFrame == 1)[0]\n",
    "    labelFrame.loc[negativeGene,:] = -1\n",
    "    negativeIndex = np.where(labelFrame == -1)[0]\n",
    "    labelFrame = pd.DataFrame(data = [0]*len(geneList), index = geneList)\n",
    "    labelFrame.loc[positiveGene,:] = 1\n",
    "    \n",
    "    positiveIndex = list(positiveIndex)\n",
    "    negativeIndex = list(negativeIndex)\n",
    "    sampleIndex = positiveIndex + negativeIndex\n",
    "    sampleIndex = np.array(sampleIndex)\n",
    "    label = pd.DataFrame(data = [1]*len(positiveIndex) + [0]*len(negativeIndex))\n",
    "    label = label.values.ravel()\n",
    "    return  sampleIndex, label, labelFrame\n",
    "\n",
    "def processingIncidenceMatrix(geneList):\n",
    "    ids = ['c2','c5']\n",
    "    incidenceMatrix = pd.DataFrame(index= geneList)\n",
    "    for id in ids:\n",
    "        geneSetNameList = pd.read_csv('./Data/'+id+'Name.txt',sep='\\t',header=None)\n",
    "        geneSetNameList = list(geneSetNameList[0].values)\n",
    "        z=0\n",
    "        idList = list()\n",
    "        for name in geneSetNameList:\n",
    "            idList.append(z)\n",
    "            # if(id=='c2'):\n",
    "            #     q = name.split('_')\n",
    "            #     if('CANCER' in q or 'TUMOR' in q or 'NEOPLASM' in q):\n",
    "            #         print(name)\n",
    "            #     else:\n",
    "            #         idList.append(z)\n",
    "            # elif(name[:2]=='HP'):\n",
    "            #     q = name.split('_')\n",
    "            #     if('CANCER' in q or 'TUMOR' in q or 'NEOPLASM' in q):\n",
    "            #         print(name)\n",
    "            #     else:\n",
    "            #         idList.append(z)\n",
    "            # else:\n",
    "            #     idList.append(z)\n",
    "            z=z+1\n",
    "        genesetData = sp.load_npz('./Data/'+id+'_GenesetsMatrix.npz')\n",
    "        incidenceMatrixTemp = pd.DataFrame(data = genesetData.A,index= geneList)\n",
    "        incidenceMatrixTemp = incidenceMatrixTemp.iloc[:,idList]\n",
    "\n",
    "        incidenceMatrix = pd.concat([incidenceMatrix,incidenceMatrixTemp],axis=1)\n",
    "\n",
    "    incidenceMatrix.columns = np.arange(incidenceMatrix.shape[1])\n",
    "    return incidenceMatrix\n",
    "def getWeightedIncidenceMatrix(incidenceMatrix):\n",
    "    # Step 2: Load HumanNet\n",
    "    HUMANNET = pd.read_csv(\"./Data/humannet_claim.tsv\", sep='\\t', header=None)\n",
    "    HUMANNET.columns = [\"Gene1\", \"Gene2\", \"Score\"] if HUMANNET.shape[1] == 3 else [\"Gene1\", \"Gene2\"]\n",
    "\n",
    "    # Step 3: Compute degrees\n",
    "    gene_to_degree = {}\n",
    "    for _, row in HUMANNET.iterrows():\n",
    "        gene_to_degree[row[\"Gene1\"]] = gene_to_degree.get(row[\"Gene1\"], 0) + 1\n",
    "        gene_to_degree[row[\"Gene2\"]] = gene_to_degree.get(row[\"Gene2\"], 0) + 1\n",
    "\n",
    "   # Step 4: Apply weights\n",
    "    weighted_matrix = incidenceMatrix.copy()\n",
    "    \n",
    "    for gene in weighted_matrix.index:\n",
    "        # Convert to string if it's not already\n",
    "        if isinstance(gene, list):\n",
    "            gene = gene[0]  # or: gene = \"_\".join(gene)\n",
    "        degree = gene_to_degree.get(str(gene), 0)\n",
    "        weighted_matrix.loc[gene] = weighted_matrix.loc[gene] * degree\n",
    "\n",
    "    # Step 5: Save to file\n",
    "    # weighted_matrix.to_csv(output_path)\n",
    "    # print(f\"Saved weighted incidence matrix to {output_path}\")\n",
    "    return weighted_matrix\n",
    "def getInterlayerMatrix(incidenceMatrix, DGIDB_binary_matrix, dgidb):\n",
    "    # Jump probability for matching genes\n",
    "    w = 1\n",
    "\n",
    "    # Number of genes (assuming they are both of same size or matchable)\n",
    "    num_genes_dgidb = DGIDB_binary_matrix.shape[0]\n",
    "    num_genes_msigdb = incidenceMatrix.shape[0]\n",
    "\n",
    "    # Initialize the inter-layer matrix (D) with zeros\n",
    "    D = np.zeros((num_genes_dgidb, num_genes_msigdb))\n",
    "    i = 0\n",
    "    # Build the inter-layer matrix (D)\n",
    "    for gene_dgidb, idx_dgidb in dgidb.items():\n",
    "        # If the gene exists in both gene-to-index mappings\n",
    "        if gene_dgidb in incidenceMatrix:      \n",
    "            idx_msigdb = incidenceMatrix.index.get_loc(gene_dgidb)\n",
    "            D[idx_dgidb, idx_msigdb] = w  # Set jump probability\n",
    "            i += 1\n",
    "    return D\n",
    "def getDGIDBCompleteVector(incidenceMatrix, D, DGIDB_binary_matrix, DGIDB_vector):\n",
    "    dgidb_vector_complete = np.zeros(incidenceMatrix.shape[0])\n",
    "    print(dgidb_vector_complete.shape)\n",
    "    for gene in tqdm(range(incidenceMatrix.shape[0]), desc=\"DGIDB full vector calculation\"):\n",
    "        # Intra-hypergraph transitions in MSIGDB (moving within MSIGDB)\n",
    "        row = incidenceMatrix.iloc[gene]  # This gives you the full row as a Series\n",
    "        connected_pathways = np.where(row.values != 0)[0]\n",
    "        if len(connected_pathways) == 0:\n",
    "            continue  # Skip if no pathways are found\n",
    "\n",
    "        for pathway in connected_pathways:\n",
    "            # Find genes connected to the selected pathway (weighted transition in MSIGDB)\n",
    "            # connected_genes = incidenceMatrix[:, pathway].toarray().flatten()\n",
    "            connected_genes = incidenceMatrix.iloc[:, pathway].values.flatten()\n",
    "        # for pathway in incidenceMatrix.columns:\n",
    "        #     connected_genes = incidenceMatrix[pathway].values.flatten()\n",
    "            neighbor_genes = np.where(connected_genes > 0)[0]  # Get genes with nonzero weight\n",
    "\n",
    "            # Check if the current gene has a DGIDB connection\n",
    "            dgidb_gene = np.where(D[:, gene] > 0)[0]  # Find DGIDB neighbors of the current MSIGDB gene\n",
    "            if len(dgidb_gene) == 1:\n",
    "                dgidb_drugs = DGIDB_binary_matrix[dgidb_gene[0], :].nonzero()[1]\n",
    "                neighbor_genes_set = set()  # To avoid duplicates\n",
    "            \n",
    "                for drug in dgidb_drugs:\n",
    "                    # Get genes connected through the same drug (edge)\n",
    "                    connected_genes = DGIDB_binary_matrix[:, drug].toarray().flatten()\n",
    "                    neighbor_genes = np.where(connected_genes > 0)[0]\n",
    "                    # Add unique neighbors to the set\n",
    "                    neighbor_genes_set.update(neighbor_genes)\n",
    "\n",
    "                # Sum contributions from unique DGIDB neighbors\n",
    "                if len(neighbor_genes_set) > 0:\n",
    "                    neighbor_genes_list = list(neighbor_genes_set)\n",
    "                    dgidb_contribution = np.sum(DGIDB_vector[neighbor_genes_list])  # Sum unique contributions\n",
    "                    dgidb_vector_complete[gene] += dgidb_contribution  # Store in the complete vector\n",
    "\n",
    "    # Normalize dgidb_vector_complete to avoid overflow\n",
    "    dgidb_vector_complete /= np.sum(dgidb_vector_complete) if np.sum(dgidb_vector_complete) > 0 else 1\n",
    "    return dgidb_vector_complete"
   ]
  },
  {
   "cell_type": "code",
   "execution_count": 2,
   "id": "e02e493f",
   "metadata": {},
   "outputs": [],
   "source": [
    "import torch\n",
    "import torch.nn as nn\n",
    "import math\n",
    "from torch.nn.parameter import Parameter\n",
    "import torch.nn.functional as F\n",
    "from torch.nn.modules.module import Module\n",
    "class RWR_HGNN_Prop(nn.Module):\n",
    "    def __init__(self, alpha):\n",
    "        super(RWR_HGNN_Prop, self).__init__()\n",
    "        self.alpha = alpha\n",
    "\n",
    "    def forward(self, H0, H_l, P, complete_vector):\n",
    "        return self.alpha * H0 + (1 - self.alpha) * P.T.matmul(H_l) + complete_vector\n",
    "\n",
    "class RWR_HGNN_Layer(nn.Module):\n",
    "    def __init__(self, nhid, alpha, dropout=0.5):\n",
    "        super(RWR_HGNN_Layer, self).__init__()\n",
    "        self.propagate = RWR_HGNN_Prop(alpha)\n",
    "        self.linear = nn.Linear(nhid, nhid)\n",
    "        self.activation = nn.ReLU()\n",
    "        self.dropout = dropout\n",
    "\n",
    "    def forward(self, H0, x, P, complete_vector):\n",
    "        h = self.propagate(H0, x, P, complete_vector)\n",
    "        # Possibly to prevent oversmoothing\n",
    "        # h = h + x\n",
    "        h = self.activation(h)\n",
    "        h = F.dropout(h, p=self.dropout, training=self.training)\n",
    "        return h\n",
    "class DISHyperNet_RWR(nn.Module):\n",
    "    def __init__(self, in_ch, n_hid, n_class, alpha=0.2, num_layers=3, dropout=0.5):\n",
    "        super(DISHyperNet_RWR, self).__init__()\n",
    "        self.dropout = dropout\n",
    "        self.alpha = alpha\n",
    "        self.fc = nn.Linear(in_ch, n_hid)\n",
    "        self.layers = nn.ModuleList()\n",
    "        self.n_hid = n_hid\n",
    "        for i in range(num_layers):\n",
    "            self.layers.append(\n",
    "                RWR_HGNN_Layer(n_hid, alpha, dropout=dropout)\n",
    "            )\n",
    "        self.outLayer = nn.Linear(n_hid, n_class)\n",
    "\n",
    "    def forward(self, x, P, complete_vector):\n",
    "        H0 = F.relu(self.fc(x))\n",
    "        H0 = F.dropout(H0, self.dropout, training=self.training)\n",
    "        x = H0\n",
    "        complete_vector = complete_vector.unsqueeze(1)  # shape [17442, 1]\n",
    "        complete_vector = complete_vector.expand(-1, self.n_hid)  # shape [17442, 256]\n",
    "        for layer in self.layers:\n",
    "            x = layer(H0, x, P, complete_vector)\n",
    "        out = self.outLayer(x)\n",
    "        return F.log_softmax(out, dim=1)\n"
   ]
  },
  {
   "cell_type": "code",
   "execution_count": 3,
   "id": "c94fb34e",
   "metadata": {},
   "outputs": [],
   "source": [
    "import pandas as pd\n",
    "import os\n",
    "import numpy as np\n",
    "import scipy.sparse as sp\n",
    "import torch\n",
    "import torch.nn as nn\n",
    "import torch.nn.functional as F\n",
    "from torch.nn.parameter import Parameter\n",
    "from torch.nn.modules.module import Module\n",
    "import torch.optim as optim\n",
    "from sklearn.model_selection import StratifiedKFold\n",
    "import random\n",
    "import json\n",
    "from tqdm import tqdm\n",
    "def train_test(trainIndex, testIndex, labelFrame, incidenceMatrix, geneList, lr, epochs, dropout, n_hid, weight_decay):\n",
    "    print(\"Starting train_test function...\")\n",
    "    print(\"Selecting training labels...\")\n",
    "    trainFrame = labelFrame.iloc[trainIndex]\n",
    "\n",
    "    print(\"Finding positive training genes...\")\n",
    "    trainPositiveGene = list(trainFrame.where(trainFrame == 1).dropna().index)\n",
    "    print(f\"Number of positive genes in training set: {len(trainPositiveGene)}\")\n",
    "\n",
    "    print(\"Computing sum over selected rows in incidence matrix...\")\n",
    "    positiveMatrixSum = incidenceMatrix.loc[trainPositiveGene].sum()\n",
    "\n",
    "    print(\"Selecting hyperedges with at least 3 positive gene hits...\")\n",
    "    selHyperedgeIndex = np.where(positiveMatrixSum >= 3)[0]\n",
    "    print(f\"Selected {len(selHyperedgeIndex)} hyperedges\")\n",
    "\n",
    "    selHyperedge = incidenceMatrix.iloc[:, selHyperedgeIndex]\n",
    "    # RIGHT NOW THIS IS |E| x 1, NEEDS TO BE |V| x |E|\n",
    "    hyperedgeWeight = positiveMatrixSum[selHyperedgeIndex].values\n",
    "    print(hyperedgeWeight.shape)\n",
    "    selHyperedgeWeightSum = incidenceMatrix.iloc[:, selHyperedgeIndex].values.sum(0)\n",
    "\n",
    "    print(\"Computing normalized hyperedge weights...\")\n",
    "    hyperedgeWeight = hyperedgeWeight / selHyperedgeWeightSum\n",
    "\n",
    "    print(\"Constructing incidence matrix H...\")\n",
    "    H = np.array(selHyperedge).astype('float')\n",
    "    print(H.shape)\n",
    "\n",
    "    print(\"Computing DV vector and applying regularization to isolated nodes...\")\n",
    "    DV = np.sum(H * hyperedgeWeight, axis=1)\n",
    "    for i in range(DV.shape[0]):\n",
    "        if DV[i] == 0:\n",
    "            t = random.randint(0, H.shape[1] - 1)\n",
    "            H[i][t] = 0.0001\n",
    "        \n",
    "    print(\"GENERATING COMPLETE VECTOR\")\n",
    "    DGIDB_DIRECTORY = \"./\"\n",
    "    DGIDB_binary_matrix = load_npz(DGIDB_DIRECTORY + \"hypergraph_incidence_matrix_binary.npz\")\n",
    "    # Open the JSON file and load its content into a dictionary\n",
    "    with open(\"./gene_claim_to_index.json\", \"r\") as file:\n",
    "        dgidb = json.load(file)\n",
    "    DGIDB_vector =  np.load(\"./DGIDB_vector.npy\")\n",
    "\n",
    "    D = getInterlayerMatrix(incidenceMatrix.iloc[:, selHyperedgeIndex], DGIDB_binary_matrix, dgidb)\n",
    "    print(\"D SHAPE\", D.shape)\n",
    "    print(\"MATRIX SHAPE\", incidenceMatrix.iloc[:, selHyperedgeIndex].shape)\n",
    "    complete_vector = getDGIDBCompleteVector(incidenceMatrix.iloc[:, selHyperedgeIndex], D, DGIDB_binary_matrix, DGIDB_vector)\n",
    "\n",
    "    print(\"Generating graph G from H and hyperedge weights...\")\n",
    "    print(\"COMPUTING P FIRST\")\n",
    "    W_matrix = getWeightedIncidenceMatrix(incidenceMatrix.iloc[:, selHyperedgeIndex])\n",
    "    # W_matrix = np.array(selHyperedge).astype('float')\n",
    "    print(W_matrix.shape)  \n",
    "    # assert not np.isnan(W_matrix).any(), \"W_matrix has NaNs\"\n",
    "    # assert not np.isinf(W_matrix).any(), \"W_matrix has Infs\"\n",
    "    print(H.shape)\n",
    "    assert H.shape == W_matrix.shape, f\"Mismatch: H {H.shape} vs W {W_matrix.shape}\"\n",
    "    P = generate_P_from_H_weight(H, W_matrix)\n",
    "    print(P.shape)\n",
    "    # G = _generate_G_from_H_weight(H, hyperedgeWeight)\n",
    "    # print(G.shape)\n",
    "\n",
    "    N = H.shape[0]\n",
    "\n",
    "    print(\"Preparing adjacency matrix and features...\")\n",
    "    # adj = torch.Tensor(G).float()\n",
    "    adj = torch.Tensor(P).float()\n",
    "    features = torch.eye(N).float()\n",
    "    theLabels = torch.from_numpy(labelFrame.values.reshape(-1,))\n",
    "    complete_vector = torch.tensor(complete_vector, dtype=torch.float32)\n",
    "\n",
    "    print(\"Initializing model...\")\n",
    "    model = DISHyperNet_RWR(in_ch=N, n_hid=n_hid, n_class=2, dropout=dropout)\n",
    "\n",
    "    print(\"Setting up optimizer and learning rate scheduler...\")\n",
    "    optimizer = optim.Adam(model.parameters(), lr=lr, weight_decay=weight_decay)\n",
    "    schedular = optim.lr_scheduler.MultiStepLR(optimizer, milestones=[100, 200, 300, 400], gamma=0.5)\n",
    "\n",
    "    if torch.cuda.is_available():\n",
    "        model.cuda()\n",
    "        features = features.cuda()\n",
    "        adj = adj.cuda()\n",
    "        theLabels = theLabels.cuda()\n",
    "        complete_vector = complete_vector.cuda()\n",
    "    for epoch in tqdm(range(epochs), desc=\"Training Epochs\"):\n",
    "        model.train()\n",
    "        optimizer.zero_grad() \n",
    "        output = model(features, adj, complete_vector)\n",
    "        loss_train = F.nll_loss(output[trainIndex], theLabels[trainIndex]) \n",
    "        loss_train.backward()\n",
    "        optimizer.step()\n",
    "        schedular.step()\n",
    "    model.eval()\n",
    "    with torch.no_grad():\n",
    "        output = model(features, adj, complete_vector)\n",
    "        loss_test = F.nll_loss(output[testIndex], theLabels[testIndex])\n",
    "        AUROC_val, AUPRC_val = cal_auc(output[testIndex], theLabels[testIndex])\n",
    "        outputFrame = pd.DataFrame(data = output.exp().cpu().detach().numpy(), index = geneList)\n",
    "    return AUROC_val, AUPRC_val, outputFrame\n",
    "\n",
    "def trainPred(geneList, incidenceMatrix, positiveGenePath, negativeGenePath, lr, epochs, dropout, n_hid, weight_decay):\n",
    "    aurocList = list()\n",
    "    auprcList = list()\n",
    "    evaluationRes = pd.DataFrame(index = geneList)\n",
    "    for i in range(5):\n",
    "        print(f\"\\n===== Outer Loop Iteration {i+1}/5 =====\")\n",
    "        print(\"🔄 Loading data...\")\n",
    "        sampleIndex, label, labelFrame = getData(positiveGenePath, negativeGenePath, geneList)\n",
    "\n",
    "        print(\"🧮 Reshaping data for StratifiedKFold...\")\n",
    "        sk_X = sampleIndex.reshape([-1, 1])\n",
    "        sfolder = StratifiedKFold(n_splits=5, random_state=i, shuffle=True)\n",
    "\n",
    "        for fold_num, (train_index, test_index) in enumerate(sfolder.split(sk_X, label), start=1):\n",
    "            print(f\"\\n📂 Fold {fold_num}/5 — splitting train/test sets...\")\n",
    "            trainIndex = sampleIndex[train_index]\n",
    "            testIndex = sampleIndex[test_index]\n",
    "            _, __ = label[train_index], label[test_index]\n",
    "\n",
    "            print(\"🚀 Starting training and evaluation...\")\n",
    "            AUROC_val, AUPRC_val, outputFrame = train_test(\n",
    "                trainIndex, testIndex, labelFrame, incidenceMatrix,\n",
    "                geneList, lr, epochs, dropout, n_hid, weight_decay\n",
    "            )\n",
    "\n",
    "            print(f\"✅ Finished training — AUROC: {AUROC_val.item():.4f}, AUPRC: {AUPRC_val.item():.4f}\")\n",
    "            aurocList.append(AUROC_val.item())\n",
    "            auprcList.append(AUPRC_val.item())\n",
    "\n",
    "            print(\"📊 Appending results to evaluation dataframe...\")\n",
    "            evaluationRes = pd.concat([evaluationRes, outputFrame[1]], axis=1)\n",
    "    return aurocList, auprcList, evaluationRes"
   ]
  },
  {
   "cell_type": "code",
   "execution_count": 4,
   "id": "2cca0798",
   "metadata": {},
   "outputs": [
    {
     "name": "stdout",
     "output_type": "stream",
     "text": [
      "READING GENE LIST\n",
      "PROCESSING MATRIX\n",
      "TRAINING\n",
      "\n",
      "===== Outer Loop Iteration 1/5 =====\n",
      "🔄 Loading data...\n",
      "🧮 Reshaping data for StratifiedKFold...\n",
      "\n",
      "📂 Fold 1/5 — splitting train/test sets...\n",
      "🚀 Starting training and evaluation...\n",
      "Starting train_test function...\n",
      "Selecting training labels...\n",
      "Finding positive training genes...\n",
      "Number of positive genes in training set: 9708\n",
      "Computing sum over selected rows in incidence matrix...\n",
      "Selecting hyperedges with at least 3 positive gene hits...\n",
      "Selected 20745 hyperedges\n",
      "(20745,)\n",
      "Computing normalized hyperedge weights...\n",
      "Constructing incidence matrix H...\n",
      "(17442, 20745)\n",
      "Computing DV vector and applying regularization to isolated nodes...\n",
      "GENERATING COMPLETE VECTOR\n",
      "D SHAPE (4774, 17442)\n",
      "MATRIX SHAPE (17442, 20745)\n",
      "(17442,)\n"
     ]
    },
    {
     "name": "stderr",
     "output_type": "stream",
     "text": [
      "DGIDB full vector calculation: 100%|██████████| 17442/17442 [02:55<00:00, 99.48it/s] \n"
     ]
    },
    {
     "name": "stdout",
     "output_type": "stream",
     "text": [
      "Generating graph G from H and hyperedge weights...\n",
      "COMPUTING P FIRST\n",
      "(17442, 20745)\n",
      "(17442, 20745)\n"
     ]
    },
    {
     "name": "stderr",
     "output_type": "stream",
     "text": [
      "c:\\Users\\richa\\Desktop\\CodingWorkspaces\\DISHyper\\dishypervenv\\lib\\site-packages\\ipykernel_launcher.py:57: RuntimeWarning: divide by zero encountered in true_divide\n"
     ]
    },
    {
     "name": "stdout",
     "output_type": "stream",
     "text": [
      "(17442, 17442)\n",
      "Preparing adjacency matrix and features...\n",
      "Initializing model...\n",
      "Setting up optimizer and learning rate scheduler...\n"
     ]
    },
    {
     "name": "stderr",
     "output_type": "stream",
     "text": [
      "Training Epochs: 100%|██████████| 500/500 [01:38<00:00,  5.07it/s]\n"
     ]
    },
    {
     "name": "stdout",
     "output_type": "stream",
     "text": [
      "✅ Finished training — AUROC: 0.6554, AUPRC: 0.9609\n",
      "📊 Appending results to evaluation dataframe...\n",
      "\n",
      "📂 Fold 2/5 — splitting train/test sets...\n",
      "🚀 Starting training and evaluation...\n",
      "Starting train_test function...\n",
      "Selecting training labels...\n",
      "Finding positive training genes...\n",
      "Number of positive genes in training set: 9708\n",
      "Computing sum over selected rows in incidence matrix...\n",
      "Selecting hyperedges with at least 3 positive gene hits...\n",
      "Selected 20730 hyperedges\n",
      "(20730,)\n",
      "Computing normalized hyperedge weights...\n",
      "Constructing incidence matrix H...\n",
      "(17442, 20730)\n",
      "Computing DV vector and applying regularization to isolated nodes...\n",
      "GENERATING COMPLETE VECTOR\n",
      "D SHAPE (4774, 17442)\n",
      "MATRIX SHAPE (17442, 20730)\n",
      "(17442,)\n"
     ]
    },
    {
     "name": "stderr",
     "output_type": "stream",
     "text": [
      "DGIDB full vector calculation: 100%|██████████| 17442/17442 [03:21<00:00, 86.68it/s] \n"
     ]
    },
    {
     "name": "stdout",
     "output_type": "stream",
     "text": [
      "Generating graph G from H and hyperedge weights...\n",
      "COMPUTING P FIRST\n",
      "(17442, 20730)\n",
      "(17442, 20730)\n",
      "(17442, 17442)\n",
      "Preparing adjacency matrix and features...\n",
      "Initializing model...\n",
      "Setting up optimizer and learning rate scheduler...\n"
     ]
    },
    {
     "name": "stderr",
     "output_type": "stream",
     "text": [
      "Training Epochs: 100%|██████████| 500/500 [01:35<00:00,  5.23it/s]\n"
     ]
    },
    {
     "name": "stdout",
     "output_type": "stream",
     "text": [
      "✅ Finished training — AUROC: 0.6392, AUPRC: 0.9579\n",
      "📊 Appending results to evaluation dataframe...\n",
      "\n",
      "📂 Fold 3/5 — splitting train/test sets...\n",
      "🚀 Starting training and evaluation...\n",
      "Starting train_test function...\n",
      "Selecting training labels...\n",
      "Finding positive training genes...\n",
      "Number of positive genes in training set: 9708\n",
      "Computing sum over selected rows in incidence matrix...\n",
      "Selecting hyperedges with at least 3 positive gene hits...\n",
      "Selected 20694 hyperedges\n",
      "(20694,)\n",
      "Computing normalized hyperedge weights...\n",
      "Constructing incidence matrix H...\n",
      "(17442, 20694)\n",
      "Computing DV vector and applying regularization to isolated nodes...\n",
      "GENERATING COMPLETE VECTOR\n",
      "D SHAPE (4774, 17442)\n",
      "MATRIX SHAPE (17442, 20694)\n",
      "(17442,)\n"
     ]
    },
    {
     "name": "stderr",
     "output_type": "stream",
     "text": [
      "DGIDB full vector calculation: 100%|██████████| 17442/17442 [03:13<00:00, 89.99it/s] \n"
     ]
    },
    {
     "name": "stdout",
     "output_type": "stream",
     "text": [
      "Generating graph G from H and hyperedge weights...\n",
      "COMPUTING P FIRST\n",
      "(17442, 20694)\n",
      "(17442, 20694)\n",
      "(17442, 17442)\n",
      "Preparing adjacency matrix and features...\n",
      "Initializing model...\n",
      "Setting up optimizer and learning rate scheduler...\n"
     ]
    },
    {
     "name": "stderr",
     "output_type": "stream",
     "text": [
      "Training Epochs: 100%|██████████| 500/500 [01:36<00:00,  5.18it/s]\n"
     ]
    },
    {
     "name": "stdout",
     "output_type": "stream",
     "text": [
      "✅ Finished training — AUROC: 0.6640, AUPRC: 0.9636\n",
      "📊 Appending results to evaluation dataframe...\n",
      "\n",
      "📂 Fold 4/5 — splitting train/test sets...\n",
      "🚀 Starting training and evaluation...\n",
      "Starting train_test function...\n",
      "Selecting training labels...\n",
      "Finding positive training genes...\n",
      "Number of positive genes in training set: 9708\n",
      "Computing sum over selected rows in incidence matrix...\n",
      "Selecting hyperedges with at least 3 positive gene hits...\n",
      "Selected 20737 hyperedges\n",
      "(20737,)\n",
      "Computing normalized hyperedge weights...\n",
      "Constructing incidence matrix H...\n",
      "(17442, 20737)\n",
      "Computing DV vector and applying regularization to isolated nodes...\n",
      "GENERATING COMPLETE VECTOR\n",
      "D SHAPE (4774, 17442)\n",
      "MATRIX SHAPE (17442, 20737)\n",
      "(17442,)\n"
     ]
    },
    {
     "name": "stderr",
     "output_type": "stream",
     "text": [
      "DGIDB full vector calculation: 100%|██████████| 17442/17442 [03:12<00:00, 90.67it/s] \n"
     ]
    },
    {
     "name": "stdout",
     "output_type": "stream",
     "text": [
      "Generating graph G from H and hyperedge weights...\n",
      "COMPUTING P FIRST\n",
      "(17442, 20737)\n",
      "(17442, 20737)\n",
      "(17442, 17442)\n",
      "Preparing adjacency matrix and features...\n",
      "Initializing model...\n",
      "Setting up optimizer and learning rate scheduler...\n"
     ]
    },
    {
     "name": "stderr",
     "output_type": "stream",
     "text": [
      "Training Epochs: 100%|██████████| 500/500 [01:34<00:00,  5.30it/s]\n"
     ]
    },
    {
     "name": "stdout",
     "output_type": "stream",
     "text": [
      "✅ Finished training — AUROC: 0.6512, AUPRC: 0.9600\n",
      "📊 Appending results to evaluation dataframe...\n",
      "\n",
      "📂 Fold 5/5 — splitting train/test sets...\n",
      "🚀 Starting training and evaluation...\n",
      "Starting train_test function...\n",
      "Selecting training labels...\n",
      "Finding positive training genes...\n",
      "Number of positive genes in training set: 9708\n",
      "Computing sum over selected rows in incidence matrix...\n",
      "Selecting hyperedges with at least 3 positive gene hits...\n",
      "Selected 20740 hyperedges\n",
      "(20740,)\n",
      "Computing normalized hyperedge weights...\n",
      "Constructing incidence matrix H...\n",
      "(17442, 20740)\n",
      "Computing DV vector and applying regularization to isolated nodes...\n",
      "GENERATING COMPLETE VECTOR\n",
      "D SHAPE (4774, 17442)\n",
      "MATRIX SHAPE (17442, 20740)\n",
      "(17442,)\n"
     ]
    },
    {
     "name": "stderr",
     "output_type": "stream",
     "text": [
      "DGIDB full vector calculation: 100%|██████████| 17442/17442 [03:07<00:00, 92.96it/s] \n"
     ]
    },
    {
     "name": "stdout",
     "output_type": "stream",
     "text": [
      "Generating graph G from H and hyperedge weights...\n",
      "COMPUTING P FIRST\n",
      "(17442, 20740)\n",
      "(17442, 20740)\n",
      "(17442, 17442)\n",
      "Preparing adjacency matrix and features...\n",
      "Initializing model...\n",
      "Setting up optimizer and learning rate scheduler...\n"
     ]
    },
    {
     "name": "stderr",
     "output_type": "stream",
     "text": [
      "Training Epochs: 100%|██████████| 500/500 [01:36<00:00,  5.19it/s]\n"
     ]
    },
    {
     "name": "stdout",
     "output_type": "stream",
     "text": [
      "✅ Finished training — AUROC: 0.6634, AUPRC: 0.9631\n",
      "📊 Appending results to evaluation dataframe...\n",
      "\n",
      "===== Outer Loop Iteration 2/5 =====\n",
      "🔄 Loading data...\n",
      "🧮 Reshaping data for StratifiedKFold...\n",
      "\n",
      "📂 Fold 1/5 — splitting train/test sets...\n",
      "🚀 Starting training and evaluation...\n",
      "Starting train_test function...\n",
      "Selecting training labels...\n",
      "Finding positive training genes...\n",
      "Number of positive genes in training set: 9708\n",
      "Computing sum over selected rows in incidence matrix...\n",
      "Selecting hyperedges with at least 3 positive gene hits...\n",
      "Selected 20780 hyperedges\n",
      "(20780,)\n",
      "Computing normalized hyperedge weights...\n",
      "Constructing incidence matrix H...\n",
      "(17442, 20780)\n",
      "Computing DV vector and applying regularization to isolated nodes...\n",
      "GENERATING COMPLETE VECTOR\n",
      "D SHAPE (4774, 17442)\n",
      "MATRIX SHAPE (17442, 20780)\n",
      "(17442,)\n"
     ]
    },
    {
     "name": "stderr",
     "output_type": "stream",
     "text": [
      "DGIDB full vector calculation: 100%|██████████| 17442/17442 [03:18<00:00, 88.07it/s] \n"
     ]
    },
    {
     "name": "stdout",
     "output_type": "stream",
     "text": [
      "Generating graph G from H and hyperedge weights...\n",
      "COMPUTING P FIRST\n",
      "(17442, 20780)\n",
      "(17442, 20780)\n",
      "(17442, 17442)\n",
      "Preparing adjacency matrix and features...\n",
      "Initializing model...\n",
      "Setting up optimizer and learning rate scheduler...\n"
     ]
    },
    {
     "name": "stderr",
     "output_type": "stream",
     "text": [
      "Training Epochs: 100%|██████████| 500/500 [01:36<00:00,  5.19it/s]\n"
     ]
    },
    {
     "name": "stdout",
     "output_type": "stream",
     "text": [
      "✅ Finished training — AUROC: 0.6381, AUPRC: 0.9572\n",
      "📊 Appending results to evaluation dataframe...\n",
      "\n",
      "📂 Fold 2/5 — splitting train/test sets...\n",
      "🚀 Starting training and evaluation...\n",
      "Starting train_test function...\n",
      "Selecting training labels...\n",
      "Finding positive training genes...\n",
      "Number of positive genes in training set: 9708\n",
      "Computing sum over selected rows in incidence matrix...\n",
      "Selecting hyperedges with at least 3 positive gene hits...\n",
      "Selected 20696 hyperedges\n",
      "(20696,)\n",
      "Computing normalized hyperedge weights...\n",
      "Constructing incidence matrix H...\n",
      "(17442, 20696)\n",
      "Computing DV vector and applying regularization to isolated nodes...\n",
      "GENERATING COMPLETE VECTOR\n",
      "D SHAPE (4774, 17442)\n",
      "MATRIX SHAPE (17442, 20696)\n",
      "(17442,)\n"
     ]
    },
    {
     "name": "stderr",
     "output_type": "stream",
     "text": [
      "DGIDB full vector calculation: 100%|██████████| 17442/17442 [03:14<00:00, 89.74it/s] \n"
     ]
    },
    {
     "name": "stdout",
     "output_type": "stream",
     "text": [
      "Generating graph G from H and hyperedge weights...\n",
      "COMPUTING P FIRST\n",
      "(17442, 20696)\n",
      "(17442, 20696)\n",
      "(17442, 17442)\n",
      "Preparing adjacency matrix and features...\n",
      "Initializing model...\n",
      "Setting up optimizer and learning rate scheduler...\n"
     ]
    },
    {
     "name": "stderr",
     "output_type": "stream",
     "text": [
      "Training Epochs: 100%|██████████| 500/500 [01:36<00:00,  5.17it/s]\n"
     ]
    },
    {
     "name": "stdout",
     "output_type": "stream",
     "text": [
      "✅ Finished training — AUROC: 0.6431, AUPRC: 0.9594\n",
      "📊 Appending results to evaluation dataframe...\n",
      "\n",
      "📂 Fold 3/5 — splitting train/test sets...\n",
      "🚀 Starting training and evaluation...\n",
      "Starting train_test function...\n",
      "Selecting training labels...\n",
      "Finding positive training genes...\n",
      "Number of positive genes in training set: 9708\n",
      "Computing sum over selected rows in incidence matrix...\n",
      "Selecting hyperedges with at least 3 positive gene hits...\n",
      "Selected 20700 hyperedges\n",
      "(20700,)\n",
      "Computing normalized hyperedge weights...\n",
      "Constructing incidence matrix H...\n",
      "(17442, 20700)\n",
      "Computing DV vector and applying regularization to isolated nodes...\n",
      "GENERATING COMPLETE VECTOR\n",
      "D SHAPE (4774, 17442)\n",
      "MATRIX SHAPE (17442, 20700)\n",
      "(17442,)\n"
     ]
    },
    {
     "name": "stderr",
     "output_type": "stream",
     "text": [
      "DGIDB full vector calculation: 100%|██████████| 17442/17442 [03:05<00:00, 93.88it/s] \n"
     ]
    },
    {
     "name": "stdout",
     "output_type": "stream",
     "text": [
      "Generating graph G from H and hyperedge weights...\n",
      "COMPUTING P FIRST\n",
      "(17442, 20700)\n",
      "(17442, 20700)\n",
      "(17442, 17442)\n",
      "Preparing adjacency matrix and features...\n",
      "Initializing model...\n",
      "Setting up optimizer and learning rate scheduler...\n"
     ]
    },
    {
     "name": "stderr",
     "output_type": "stream",
     "text": [
      "Training Epochs: 100%|██████████| 500/500 [01:38<00:00,  5.07it/s]\n"
     ]
    },
    {
     "name": "stdout",
     "output_type": "stream",
     "text": [
      "✅ Finished training — AUROC: 0.6671, AUPRC: 0.9637\n",
      "📊 Appending results to evaluation dataframe...\n",
      "\n",
      "📂 Fold 4/5 — splitting train/test sets...\n",
      "🚀 Starting training and evaluation...\n",
      "Starting train_test function...\n",
      "Selecting training labels...\n",
      "Finding positive training genes...\n",
      "Number of positive genes in training set: 9708\n",
      "Computing sum over selected rows in incidence matrix...\n",
      "Selecting hyperedges with at least 3 positive gene hits...\n",
      "Selected 20727 hyperedges\n",
      "(20727,)\n",
      "Computing normalized hyperedge weights...\n",
      "Constructing incidence matrix H...\n",
      "(17442, 20727)\n",
      "Computing DV vector and applying regularization to isolated nodes...\n",
      "GENERATING COMPLETE VECTOR\n",
      "D SHAPE (4774, 17442)\n",
      "MATRIX SHAPE (17442, 20727)\n",
      "(17442,)\n"
     ]
    },
    {
     "name": "stderr",
     "output_type": "stream",
     "text": [
      "DGIDB full vector calculation: 100%|██████████| 17442/17442 [02:45<00:00, 105.27it/s]\n"
     ]
    },
    {
     "name": "stdout",
     "output_type": "stream",
     "text": [
      "Generating graph G from H and hyperedge weights...\n",
      "COMPUTING P FIRST\n",
      "(17442, 20727)\n",
      "(17442, 20727)\n",
      "(17442, 17442)\n",
      "Preparing adjacency matrix and features...\n",
      "Initializing model...\n",
      "Setting up optimizer and learning rate scheduler...\n"
     ]
    },
    {
     "name": "stderr",
     "output_type": "stream",
     "text": [
      "Training Epochs: 100%|██████████| 500/500 [01:25<00:00,  5.87it/s]\n"
     ]
    },
    {
     "name": "stdout",
     "output_type": "stream",
     "text": [
      "✅ Finished training — AUROC: 0.6590, AUPRC: 0.9627\n",
      "📊 Appending results to evaluation dataframe...\n",
      "\n",
      "📂 Fold 5/5 — splitting train/test sets...\n",
      "🚀 Starting training and evaluation...\n",
      "Starting train_test function...\n",
      "Selecting training labels...\n",
      "Finding positive training genes...\n",
      "Number of positive genes in training set: 9708\n",
      "Computing sum over selected rows in incidence matrix...\n",
      "Selecting hyperedges with at least 3 positive gene hits...\n",
      "Selected 20748 hyperedges\n",
      "(20748,)\n",
      "Computing normalized hyperedge weights...\n",
      "Constructing incidence matrix H...\n",
      "(17442, 20748)\n",
      "Computing DV vector and applying regularization to isolated nodes...\n",
      "GENERATING COMPLETE VECTOR\n",
      "D SHAPE (4774, 17442)\n",
      "MATRIX SHAPE (17442, 20748)\n",
      "(17442,)\n"
     ]
    },
    {
     "name": "stderr",
     "output_type": "stream",
     "text": [
      "DGIDB full vector calculation: 100%|██████████| 17442/17442 [01:55<00:00, 151.60it/s]\n"
     ]
    },
    {
     "name": "stdout",
     "output_type": "stream",
     "text": [
      "Generating graph G from H and hyperedge weights...\n",
      "COMPUTING P FIRST\n",
      "(17442, 20748)\n",
      "(17442, 20748)\n",
      "(17442, 17442)\n",
      "Preparing adjacency matrix and features...\n",
      "Initializing model...\n",
      "Setting up optimizer and learning rate scheduler...\n"
     ]
    },
    {
     "name": "stderr",
     "output_type": "stream",
     "text": [
      "Training Epochs: 100%|██████████| 500/500 [01:24<00:00,  5.89it/s]\n"
     ]
    },
    {
     "name": "stdout",
     "output_type": "stream",
     "text": [
      "✅ Finished training — AUROC: 0.6582, AUPRC: 0.9615\n",
      "📊 Appending results to evaluation dataframe...\n",
      "\n",
      "===== Outer Loop Iteration 3/5 =====\n",
      "🔄 Loading data...\n",
      "🧮 Reshaping data for StratifiedKFold...\n",
      "\n",
      "📂 Fold 1/5 — splitting train/test sets...\n",
      "🚀 Starting training and evaluation...\n",
      "Starting train_test function...\n",
      "Selecting training labels...\n",
      "Finding positive training genes...\n",
      "Number of positive genes in training set: 9708\n",
      "Computing sum over selected rows in incidence matrix...\n",
      "Selecting hyperedges with at least 3 positive gene hits...\n",
      "Selected 20761 hyperedges\n",
      "(20761,)\n",
      "Computing normalized hyperedge weights...\n",
      "Constructing incidence matrix H...\n",
      "(17442, 20761)\n",
      "Computing DV vector and applying regularization to isolated nodes...\n",
      "GENERATING COMPLETE VECTOR\n",
      "D SHAPE (4774, 17442)\n",
      "MATRIX SHAPE (17442, 20761)\n",
      "(17442,)\n"
     ]
    },
    {
     "name": "stderr",
     "output_type": "stream",
     "text": [
      "DGIDB full vector calculation: 100%|██████████| 17442/17442 [01:57<00:00, 148.43it/s]\n"
     ]
    },
    {
     "name": "stdout",
     "output_type": "stream",
     "text": [
      "Generating graph G from H and hyperedge weights...\n",
      "COMPUTING P FIRST\n",
      "(17442, 20761)\n",
      "(17442, 20761)\n",
      "(17442, 17442)\n",
      "Preparing adjacency matrix and features...\n",
      "Initializing model...\n",
      "Setting up optimizer and learning rate scheduler...\n"
     ]
    },
    {
     "name": "stderr",
     "output_type": "stream",
     "text": [
      "Training Epochs: 100%|██████████| 500/500 [01:25<00:00,  5.88it/s]\n"
     ]
    },
    {
     "name": "stdout",
     "output_type": "stream",
     "text": [
      "✅ Finished training — AUROC: 0.6329, AUPRC: 0.9579\n",
      "📊 Appending results to evaluation dataframe...\n",
      "\n",
      "📂 Fold 2/5 — splitting train/test sets...\n",
      "🚀 Starting training and evaluation...\n",
      "Starting train_test function...\n",
      "Selecting training labels...\n",
      "Finding positive training genes...\n",
      "Number of positive genes in training set: 9708\n",
      "Computing sum over selected rows in incidence matrix...\n",
      "Selecting hyperedges with at least 3 positive gene hits...\n",
      "Selected 20720 hyperedges\n",
      "(20720,)\n",
      "Computing normalized hyperedge weights...\n",
      "Constructing incidence matrix H...\n",
      "(17442, 20720)\n",
      "Computing DV vector and applying regularization to isolated nodes...\n",
      "GENERATING COMPLETE VECTOR\n",
      "D SHAPE (4774, 17442)\n",
      "MATRIX SHAPE (17442, 20720)\n",
      "(17442,)\n"
     ]
    },
    {
     "name": "stderr",
     "output_type": "stream",
     "text": [
      "DGIDB full vector calculation: 100%|██████████| 17442/17442 [02:00<00:00, 144.95it/s]\n"
     ]
    },
    {
     "name": "stdout",
     "output_type": "stream",
     "text": [
      "Generating graph G from H and hyperedge weights...\n",
      "COMPUTING P FIRST\n",
      "(17442, 20720)\n",
      "(17442, 20720)\n",
      "(17442, 17442)\n",
      "Preparing adjacency matrix and features...\n",
      "Initializing model...\n",
      "Setting up optimizer and learning rate scheduler...\n"
     ]
    },
    {
     "name": "stderr",
     "output_type": "stream",
     "text": [
      "Training Epochs: 100%|██████████| 500/500 [01:25<00:00,  5.88it/s]\n"
     ]
    },
    {
     "name": "stdout",
     "output_type": "stream",
     "text": [
      "✅ Finished training — AUROC: 0.6738, AUPRC: 0.9632\n",
      "📊 Appending results to evaluation dataframe...\n",
      "\n",
      "📂 Fold 3/5 — splitting train/test sets...\n",
      "🚀 Starting training and evaluation...\n",
      "Starting train_test function...\n",
      "Selecting training labels...\n",
      "Finding positive training genes...\n",
      "Number of positive genes in training set: 9708\n",
      "Computing sum over selected rows in incidence matrix...\n",
      "Selecting hyperedges with at least 3 positive gene hits...\n",
      "Selected 20757 hyperedges\n",
      "(20757,)\n",
      "Computing normalized hyperedge weights...\n",
      "Constructing incidence matrix H...\n",
      "(17442, 20757)\n",
      "Computing DV vector and applying regularization to isolated nodes...\n",
      "GENERATING COMPLETE VECTOR\n",
      "D SHAPE (4774, 17442)\n",
      "MATRIX SHAPE (17442, 20757)\n",
      "(17442,)\n"
     ]
    },
    {
     "name": "stderr",
     "output_type": "stream",
     "text": [
      "DGIDB full vector calculation: 100%|██████████| 17442/17442 [02:01<00:00, 143.62it/s]\n"
     ]
    },
    {
     "name": "stdout",
     "output_type": "stream",
     "text": [
      "Generating graph G from H and hyperedge weights...\n",
      "COMPUTING P FIRST\n",
      "(17442, 20757)\n",
      "(17442, 20757)\n",
      "(17442, 17442)\n",
      "Preparing adjacency matrix and features...\n",
      "Initializing model...\n",
      "Setting up optimizer and learning rate scheduler...\n"
     ]
    },
    {
     "name": "stderr",
     "output_type": "stream",
     "text": [
      "Training Epochs: 100%|██████████| 500/500 [01:24<00:00,  5.89it/s]\n"
     ]
    },
    {
     "name": "stdout",
     "output_type": "stream",
     "text": [
      "✅ Finished training — AUROC: 0.6554, AUPRC: 0.9610\n",
      "📊 Appending results to evaluation dataframe...\n",
      "\n",
      "📂 Fold 4/5 — splitting train/test sets...\n",
      "🚀 Starting training and evaluation...\n",
      "Starting train_test function...\n",
      "Selecting training labels...\n",
      "Finding positive training genes...\n",
      "Number of positive genes in training set: 9708\n",
      "Computing sum over selected rows in incidence matrix...\n",
      "Selecting hyperedges with at least 3 positive gene hits...\n",
      "Selected 20760 hyperedges\n",
      "(20760,)\n",
      "Computing normalized hyperedge weights...\n",
      "Constructing incidence matrix H...\n",
      "(17442, 20760)\n",
      "Computing DV vector and applying regularization to isolated nodes...\n",
      "GENERATING COMPLETE VECTOR\n",
      "D SHAPE (4774, 17442)\n",
      "MATRIX SHAPE (17442, 20760)\n",
      "(17442,)\n"
     ]
    },
    {
     "name": "stderr",
     "output_type": "stream",
     "text": [
      "DGIDB full vector calculation: 100%|██████████| 17442/17442 [02:00<00:00, 144.19it/s]\n"
     ]
    },
    {
     "name": "stdout",
     "output_type": "stream",
     "text": [
      "Generating graph G from H and hyperedge weights...\n",
      "COMPUTING P FIRST\n",
      "(17442, 20760)\n",
      "(17442, 20760)\n",
      "(17442, 17442)\n",
      "Preparing adjacency matrix and features...\n",
      "Initializing model...\n",
      "Setting up optimizer and learning rate scheduler...\n"
     ]
    },
    {
     "name": "stderr",
     "output_type": "stream",
     "text": [
      "Training Epochs: 100%|██████████| 500/500 [01:25<00:00,  5.88it/s]\n"
     ]
    },
    {
     "name": "stdout",
     "output_type": "stream",
     "text": [
      "✅ Finished training — AUROC: 0.6465, AUPRC: 0.9603\n",
      "📊 Appending results to evaluation dataframe...\n",
      "\n",
      "📂 Fold 5/5 — splitting train/test sets...\n",
      "🚀 Starting training and evaluation...\n",
      "Starting train_test function...\n",
      "Selecting training labels...\n",
      "Finding positive training genes...\n",
      "Number of positive genes in training set: 9708\n",
      "Computing sum over selected rows in incidence matrix...\n",
      "Selecting hyperedges with at least 3 positive gene hits...\n",
      "Selected 20723 hyperedges\n",
      "(20723,)\n",
      "Computing normalized hyperedge weights...\n",
      "Constructing incidence matrix H...\n",
      "(17442, 20723)\n",
      "Computing DV vector and applying regularization to isolated nodes...\n",
      "GENERATING COMPLETE VECTOR\n",
      "D SHAPE (4774, 17442)\n",
      "MATRIX SHAPE (17442, 20723)\n",
      "(17442,)\n"
     ]
    },
    {
     "name": "stderr",
     "output_type": "stream",
     "text": [
      "DGIDB full vector calculation: 100%|██████████| 17442/17442 [02:34<00:00, 112.67it/s]\n"
     ]
    },
    {
     "name": "stdout",
     "output_type": "stream",
     "text": [
      "Generating graph G from H and hyperedge weights...\n",
      "COMPUTING P FIRST\n",
      "(17442, 20723)\n",
      "(17442, 20723)\n",
      "(17442, 17442)\n",
      "Preparing adjacency matrix and features...\n",
      "Initializing model...\n",
      "Setting up optimizer and learning rate scheduler...\n"
     ]
    },
    {
     "name": "stderr",
     "output_type": "stream",
     "text": [
      "Training Epochs: 100%|██████████| 500/500 [01:34<00:00,  5.28it/s]\n"
     ]
    },
    {
     "name": "stdout",
     "output_type": "stream",
     "text": [
      "✅ Finished training — AUROC: 0.6610, AUPRC: 0.9627\n",
      "📊 Appending results to evaluation dataframe...\n",
      "\n",
      "===== Outer Loop Iteration 4/5 =====\n",
      "🔄 Loading data...\n",
      "🧮 Reshaping data for StratifiedKFold...\n",
      "\n",
      "📂 Fold 1/5 — splitting train/test sets...\n",
      "🚀 Starting training and evaluation...\n",
      "Starting train_test function...\n",
      "Selecting training labels...\n",
      "Finding positive training genes...\n",
      "Number of positive genes in training set: 9708\n",
      "Computing sum over selected rows in incidence matrix...\n",
      "Selecting hyperedges with at least 3 positive gene hits...\n",
      "Selected 20742 hyperedges\n",
      "(20742,)\n",
      "Computing normalized hyperedge weights...\n",
      "Constructing incidence matrix H...\n",
      "(17442, 20742)\n",
      "Computing DV vector and applying regularization to isolated nodes...\n",
      "GENERATING COMPLETE VECTOR\n",
      "D SHAPE (4774, 17442)\n",
      "MATRIX SHAPE (17442, 20742)\n",
      "(17442,)\n"
     ]
    },
    {
     "name": "stderr",
     "output_type": "stream",
     "text": [
      "DGIDB full vector calculation: 100%|██████████| 17442/17442 [04:24<00:00, 65.83it/s] \n"
     ]
    },
    {
     "name": "stdout",
     "output_type": "stream",
     "text": [
      "Generating graph G from H and hyperedge weights...\n",
      "COMPUTING P FIRST\n",
      "(17442, 20742)\n",
      "(17442, 20742)\n",
      "(17442, 17442)\n",
      "Preparing adjacency matrix and features...\n",
      "Initializing model...\n",
      "Setting up optimizer and learning rate scheduler...\n"
     ]
    },
    {
     "name": "stderr",
     "output_type": "stream",
     "text": [
      "Training Epochs: 100%|██████████| 500/500 [01:33<00:00,  5.35it/s]\n"
     ]
    },
    {
     "name": "stdout",
     "output_type": "stream",
     "text": [
      "✅ Finished training — AUROC: 0.6583, AUPRC: 0.9611\n",
      "📊 Appending results to evaluation dataframe...\n",
      "\n",
      "📂 Fold 2/5 — splitting train/test sets...\n",
      "🚀 Starting training and evaluation...\n",
      "Starting train_test function...\n",
      "Selecting training labels...\n",
      "Finding positive training genes...\n",
      "Number of positive genes in training set: 9708\n",
      "Computing sum over selected rows in incidence matrix...\n",
      "Selecting hyperedges with at least 3 positive gene hits...\n",
      "Selected 20702 hyperedges\n",
      "(20702,)\n",
      "Computing normalized hyperedge weights...\n",
      "Constructing incidence matrix H...\n",
      "(17442, 20702)\n",
      "Computing DV vector and applying regularization to isolated nodes...\n",
      "GENERATING COMPLETE VECTOR\n",
      "D SHAPE (4774, 17442)\n",
      "MATRIX SHAPE (17442, 20702)\n",
      "(17442,)\n"
     ]
    },
    {
     "name": "stderr",
     "output_type": "stream",
     "text": [
      "DGIDB full vector calculation: 100%|██████████| 17442/17442 [04:23<00:00, 66.14it/s] \n"
     ]
    },
    {
     "name": "stdout",
     "output_type": "stream",
     "text": [
      "Generating graph G from H and hyperedge weights...\n",
      "COMPUTING P FIRST\n",
      "(17442, 20702)\n",
      "(17442, 20702)\n",
      "(17442, 17442)\n",
      "Preparing adjacency matrix and features...\n",
      "Initializing model...\n",
      "Setting up optimizer and learning rate scheduler...\n"
     ]
    },
    {
     "name": "stderr",
     "output_type": "stream",
     "text": [
      "Training Epochs: 100%|██████████| 500/500 [01:33<00:00,  5.38it/s]\n"
     ]
    },
    {
     "name": "stdout",
     "output_type": "stream",
     "text": [
      "✅ Finished training — AUROC: 0.6649, AUPRC: 0.9627\n",
      "📊 Appending results to evaluation dataframe...\n",
      "\n",
      "📂 Fold 3/5 — splitting train/test sets...\n",
      "🚀 Starting training and evaluation...\n",
      "Starting train_test function...\n",
      "Selecting training labels...\n",
      "Finding positive training genes...\n",
      "Number of positive genes in training set: 9708\n",
      "Computing sum over selected rows in incidence matrix...\n",
      "Selecting hyperedges with at least 3 positive gene hits...\n",
      "Selected 20733 hyperedges\n",
      "(20733,)\n",
      "Computing normalized hyperedge weights...\n",
      "Constructing incidence matrix H...\n",
      "(17442, 20733)\n",
      "Computing DV vector and applying regularization to isolated nodes...\n",
      "GENERATING COMPLETE VECTOR\n",
      "D SHAPE (4774, 17442)\n",
      "MATRIX SHAPE (17442, 20733)\n",
      "(17442,)\n"
     ]
    },
    {
     "name": "stderr",
     "output_type": "stream",
     "text": [
      "DGIDB full vector calculation: 100%|██████████| 17442/17442 [04:23<00:00, 66.19it/s] \n"
     ]
    },
    {
     "name": "stdout",
     "output_type": "stream",
     "text": [
      "Generating graph G from H and hyperedge weights...\n",
      "COMPUTING P FIRST\n",
      "(17442, 20733)\n",
      "(17442, 20733)\n",
      "(17442, 17442)\n",
      "Preparing adjacency matrix and features...\n",
      "Initializing model...\n",
      "Setting up optimizer and learning rate scheduler...\n"
     ]
    },
    {
     "name": "stderr",
     "output_type": "stream",
     "text": [
      "Training Epochs: 100%|██████████| 500/500 [01:36<00:00,  5.20it/s]\n"
     ]
    },
    {
     "name": "stdout",
     "output_type": "stream",
     "text": [
      "✅ Finished training — AUROC: 0.6536, AUPRC: 0.9606\n",
      "📊 Appending results to evaluation dataframe...\n",
      "\n",
      "📂 Fold 4/5 — splitting train/test sets...\n",
      "🚀 Starting training and evaluation...\n",
      "Starting train_test function...\n",
      "Selecting training labels...\n",
      "Finding positive training genes...\n",
      "Number of positive genes in training set: 9708\n",
      "Computing sum over selected rows in incidence matrix...\n",
      "Selecting hyperedges with at least 3 positive gene hits...\n",
      "Selected 20771 hyperedges\n",
      "(20771,)\n",
      "Computing normalized hyperedge weights...\n",
      "Constructing incidence matrix H...\n",
      "(17442, 20771)\n",
      "Computing DV vector and applying regularization to isolated nodes...\n",
      "GENERATING COMPLETE VECTOR\n",
      "D SHAPE (4774, 17442)\n",
      "MATRIX SHAPE (17442, 20771)\n",
      "(17442,)\n"
     ]
    },
    {
     "name": "stderr",
     "output_type": "stream",
     "text": [
      "DGIDB full vector calculation: 100%|██████████| 17442/17442 [02:52<00:00, 100.95it/s]\n"
     ]
    },
    {
     "name": "stdout",
     "output_type": "stream",
     "text": [
      "Generating graph G from H and hyperedge weights...\n",
      "COMPUTING P FIRST\n",
      "(17442, 20771)\n",
      "(17442, 20771)\n",
      "(17442, 17442)\n",
      "Preparing adjacency matrix and features...\n",
      "Initializing model...\n",
      "Setting up optimizer and learning rate scheduler...\n"
     ]
    },
    {
     "name": "stderr",
     "output_type": "stream",
     "text": [
      "Training Epochs: 100%|██████████| 500/500 [01:33<00:00,  5.36it/s]\n"
     ]
    },
    {
     "name": "stdout",
     "output_type": "stream",
     "text": [
      "✅ Finished training — AUROC: 0.6485, AUPRC: 0.9614\n",
      "📊 Appending results to evaluation dataframe...\n",
      "\n",
      "📂 Fold 5/5 — splitting train/test sets...\n",
      "🚀 Starting training and evaluation...\n",
      "Starting train_test function...\n",
      "Selecting training labels...\n",
      "Finding positive training genes...\n",
      "Number of positive genes in training set: 9708\n",
      "Computing sum over selected rows in incidence matrix...\n",
      "Selecting hyperedges with at least 3 positive gene hits...\n",
      "Selected 20734 hyperedges\n",
      "(20734,)\n",
      "Computing normalized hyperedge weights...\n",
      "Constructing incidence matrix H...\n",
      "(17442, 20734)\n",
      "Computing DV vector and applying regularization to isolated nodes...\n",
      "GENERATING COMPLETE VECTOR\n",
      "D SHAPE (4774, 17442)\n",
      "MATRIX SHAPE (17442, 20734)\n",
      "(17442,)\n"
     ]
    },
    {
     "name": "stderr",
     "output_type": "stream",
     "text": [
      "DGIDB full vector calculation: 100%|██████████| 17442/17442 [02:43<00:00, 106.95it/s]\n"
     ]
    },
    {
     "name": "stdout",
     "output_type": "stream",
     "text": [
      "Generating graph G from H and hyperedge weights...\n",
      "COMPUTING P FIRST\n",
      "(17442, 20734)\n",
      "(17442, 20734)\n",
      "(17442, 17442)\n",
      "Preparing adjacency matrix and features...\n",
      "Initializing model...\n",
      "Setting up optimizer and learning rate scheduler...\n"
     ]
    },
    {
     "name": "stderr",
     "output_type": "stream",
     "text": [
      "Training Epochs: 100%|██████████| 500/500 [01:32<00:00,  5.40it/s]\n"
     ]
    },
    {
     "name": "stdout",
     "output_type": "stream",
     "text": [
      "✅ Finished training — AUROC: 0.6556, AUPRC: 0.9608\n",
      "📊 Appending results to evaluation dataframe...\n",
      "\n",
      "===== Outer Loop Iteration 5/5 =====\n",
      "🔄 Loading data...\n",
      "🧮 Reshaping data for StratifiedKFold...\n",
      "\n",
      "📂 Fold 1/5 — splitting train/test sets...\n",
      "🚀 Starting training and evaluation...\n",
      "Starting train_test function...\n",
      "Selecting training labels...\n",
      "Finding positive training genes...\n",
      "Number of positive genes in training set: 9708\n",
      "Computing sum over selected rows in incidence matrix...\n",
      "Selecting hyperedges with at least 3 positive gene hits...\n",
      "Selected 20768 hyperedges\n",
      "(20768,)\n",
      "Computing normalized hyperedge weights...\n",
      "Constructing incidence matrix H...\n",
      "(17442, 20768)\n",
      "Computing DV vector and applying regularization to isolated nodes...\n",
      "GENERATING COMPLETE VECTOR\n",
      "D SHAPE (4774, 17442)\n",
      "MATRIX SHAPE (17442, 20768)\n",
      "(17442,)\n"
     ]
    },
    {
     "name": "stderr",
     "output_type": "stream",
     "text": [
      "DGIDB full vector calculation: 100%|██████████| 17442/17442 [04:52<00:00, 59.67it/s] \n"
     ]
    },
    {
     "name": "stdout",
     "output_type": "stream",
     "text": [
      "Generating graph G from H and hyperedge weights...\n",
      "COMPUTING P FIRST\n",
      "(17442, 20768)\n",
      "(17442, 20768)\n",
      "(17442, 17442)\n",
      "Preparing adjacency matrix and features...\n",
      "Initializing model...\n",
      "Setting up optimizer and learning rate scheduler...\n"
     ]
    },
    {
     "name": "stderr",
     "output_type": "stream",
     "text": [
      "Training Epochs: 100%|██████████| 500/500 [01:33<00:00,  5.32it/s]\n"
     ]
    },
    {
     "name": "stdout",
     "output_type": "stream",
     "text": [
      "✅ Finished training — AUROC: 0.6581, AUPRC: 0.9612\n",
      "📊 Appending results to evaluation dataframe...\n",
      "\n",
      "📂 Fold 2/5 — splitting train/test sets...\n",
      "🚀 Starting training and evaluation...\n",
      "Starting train_test function...\n",
      "Selecting training labels...\n",
      "Finding positive training genes...\n",
      "Number of positive genes in training set: 9708\n",
      "Computing sum over selected rows in incidence matrix...\n",
      "Selecting hyperedges with at least 3 positive gene hits...\n",
      "Selected 20767 hyperedges\n",
      "(20767,)\n",
      "Computing normalized hyperedge weights...\n",
      "Constructing incidence matrix H...\n",
      "(17442, 20767)\n",
      "Computing DV vector and applying regularization to isolated nodes...\n",
      "GENERATING COMPLETE VECTOR\n",
      "D SHAPE (4774, 17442)\n",
      "MATRIX SHAPE (17442, 20767)\n",
      "(17442,)\n"
     ]
    },
    {
     "name": "stderr",
     "output_type": "stream",
     "text": [
      "DGIDB full vector calculation: 100%|██████████| 17442/17442 [04:28<00:00, 64.87it/s] \n"
     ]
    },
    {
     "name": "stdout",
     "output_type": "stream",
     "text": [
      "Generating graph G from H and hyperedge weights...\n",
      "COMPUTING P FIRST\n",
      "(17442, 20767)\n",
      "(17442, 20767)\n",
      "(17442, 17442)\n",
      "Preparing adjacency matrix and features...\n",
      "Initializing model...\n",
      "Setting up optimizer and learning rate scheduler...\n"
     ]
    },
    {
     "name": "stderr",
     "output_type": "stream",
     "text": [
      "Training Epochs: 100%|██████████| 500/500 [01:35<00:00,  5.21it/s]\n"
     ]
    },
    {
     "name": "stdout",
     "output_type": "stream",
     "text": [
      "✅ Finished training — AUROC: 0.6487, AUPRC: 0.9594\n",
      "📊 Appending results to evaluation dataframe...\n",
      "\n",
      "📂 Fold 3/5 — splitting train/test sets...\n",
      "🚀 Starting training and evaluation...\n",
      "Starting train_test function...\n",
      "Selecting training labels...\n",
      "Finding positive training genes...\n",
      "Number of positive genes in training set: 9708\n",
      "Computing sum over selected rows in incidence matrix...\n",
      "Selecting hyperedges with at least 3 positive gene hits...\n",
      "Selected 20699 hyperedges\n",
      "(20699,)\n",
      "Computing normalized hyperedge weights...\n",
      "Constructing incidence matrix H...\n",
      "(17442, 20699)\n",
      "Computing DV vector and applying regularization to isolated nodes...\n",
      "GENERATING COMPLETE VECTOR\n",
      "D SHAPE (4774, 17442)\n",
      "MATRIX SHAPE (17442, 20699)\n",
      "(17442,)\n"
     ]
    },
    {
     "name": "stderr",
     "output_type": "stream",
     "text": [
      "DGIDB full vector calculation: 100%|██████████| 17442/17442 [02:33<00:00, 113.35it/s]\n"
     ]
    },
    {
     "name": "stdout",
     "output_type": "stream",
     "text": [
      "Generating graph G from H and hyperedge weights...\n",
      "COMPUTING P FIRST\n",
      "(17442, 20699)\n",
      "(17442, 20699)\n",
      "(17442, 17442)\n",
      "Preparing adjacency matrix and features...\n",
      "Initializing model...\n",
      "Setting up optimizer and learning rate scheduler...\n"
     ]
    },
    {
     "name": "stderr",
     "output_type": "stream",
     "text": [
      "Training Epochs: 100%|██████████| 500/500 [01:25<00:00,  5.85it/s]\n"
     ]
    },
    {
     "name": "stdout",
     "output_type": "stream",
     "text": [
      "✅ Finished training — AUROC: 0.6502, AUPRC: 0.9603\n",
      "📊 Appending results to evaluation dataframe...\n",
      "\n",
      "📂 Fold 4/5 — splitting train/test sets...\n",
      "🚀 Starting training and evaluation...\n",
      "Starting train_test function...\n",
      "Selecting training labels...\n",
      "Finding positive training genes...\n",
      "Number of positive genes in training set: 9708\n",
      "Computing sum over selected rows in incidence matrix...\n",
      "Selecting hyperedges with at least 3 positive gene hits...\n",
      "Selected 20724 hyperedges\n",
      "(20724,)\n",
      "Computing normalized hyperedge weights...\n",
      "Constructing incidence matrix H...\n",
      "(17442, 20724)\n",
      "Computing DV vector and applying regularization to isolated nodes...\n",
      "GENERATING COMPLETE VECTOR\n",
      "D SHAPE (4774, 17442)\n",
      "MATRIX SHAPE (17442, 20724)\n",
      "(17442,)\n"
     ]
    },
    {
     "name": "stderr",
     "output_type": "stream",
     "text": [
      "DGIDB full vector calculation: 100%|██████████| 17442/17442 [02:02<00:00, 142.85it/s]\n"
     ]
    },
    {
     "name": "stdout",
     "output_type": "stream",
     "text": [
      "Generating graph G from H and hyperedge weights...\n",
      "COMPUTING P FIRST\n",
      "(17442, 20724)\n",
      "(17442, 20724)\n",
      "(17442, 17442)\n",
      "Preparing adjacency matrix and features...\n",
      "Initializing model...\n",
      "Setting up optimizer and learning rate scheduler...\n"
     ]
    },
    {
     "name": "stderr",
     "output_type": "stream",
     "text": [
      "Training Epochs: 100%|██████████| 500/500 [01:25<00:00,  5.87it/s]\n"
     ]
    },
    {
     "name": "stdout",
     "output_type": "stream",
     "text": [
      "✅ Finished training — AUROC: 0.6591, AUPRC: 0.9625\n",
      "📊 Appending results to evaluation dataframe...\n",
      "\n",
      "📂 Fold 5/5 — splitting train/test sets...\n",
      "🚀 Starting training and evaluation...\n",
      "Starting train_test function...\n",
      "Selecting training labels...\n",
      "Finding positive training genes...\n",
      "Number of positive genes in training set: 9708\n",
      "Computing sum over selected rows in incidence matrix...\n",
      "Selecting hyperedges with at least 3 positive gene hits...\n",
      "Selected 20730 hyperedges\n",
      "(20730,)\n",
      "Computing normalized hyperedge weights...\n",
      "Constructing incidence matrix H...\n",
      "(17442, 20730)\n",
      "Computing DV vector and applying regularization to isolated nodes...\n",
      "GENERATING COMPLETE VECTOR\n",
      "D SHAPE (4774, 17442)\n",
      "MATRIX SHAPE (17442, 20730)\n",
      "(17442,)\n"
     ]
    },
    {
     "name": "stderr",
     "output_type": "stream",
     "text": [
      "DGIDB full vector calculation: 100%|██████████| 17442/17442 [01:59<00:00, 146.25it/s]\n"
     ]
    },
    {
     "name": "stdout",
     "output_type": "stream",
     "text": [
      "Generating graph G from H and hyperedge weights...\n",
      "COMPUTING P FIRST\n",
      "(17442, 20730)\n",
      "(17442, 20730)\n",
      "(17442, 17442)\n",
      "Preparing adjacency matrix and features...\n",
      "Initializing model...\n",
      "Setting up optimizer and learning rate scheduler...\n"
     ]
    },
    {
     "name": "stderr",
     "output_type": "stream",
     "text": [
      "Training Epochs: 100%|██████████| 500/500 [01:24<00:00,  5.88it/s]\n"
     ]
    },
    {
     "name": "stdout",
     "output_type": "stream",
     "text": [
      "✅ Finished training — AUROC: 0.6582, AUPRC: 0.9621\n",
      "📊 Appending results to evaluation dataframe...\n",
      "0.654542258868956\n",
      "0.9610890493317977\n"
     ]
    }
   ],
   "source": [
    "import pandas as pd\n",
    "import sys, os, random\n",
    "import numpy as np\n",
    "import scipy.sparse as sp\n",
    "import torch\n",
    "\n",
    "seed = 42\n",
    "random.seed(seed)\n",
    "np.random.seed(seed)\n",
    "torch.manual_seed(seed)\n",
    "torch.cuda.manual_seed(seed)\n",
    "torch.cuda.manual_seed_all(seed)\n",
    " \n",
    "\n",
    "if __name__ == \"__main__\":    \n",
    "    _, outputPath = sys.argv\n",
    "    lr = 5e-3\n",
    "    dropout = 0.2\n",
    "    weight_decay = 5e-6\n",
    "    epochs = 500\n",
    "    n_hid = 256\n",
    "    \n",
    "    positiveGenePath = r'./Data/BreastCancerOTGenes.txt'\n",
    "    negativeGenePath = r'./Data/BreastCancerFalsegenes.txt'\n",
    "    print(\"READING GENE LIST\")\n",
    "\n",
    "\n",
    "    geneList = pd.read_csv(r'./Data/geneList.csv', header=None)\n",
    "    geneList = list(geneList[0].values)\n",
    "    print(\"PROCESSING MATRIX\")\n",
    "    incidenceMatrix = processingIncidenceMatrix(geneList)\n",
    "    print(\"TRAINING\")\n",
    "\n",
    "    aurocList, auprcList, evaluationRes = trainPred(geneList, incidenceMatrix, positiveGenePath,\n",
    "                                          negativeGenePath, lr, epochs, dropout, n_hid, weight_decay) \n",
    "    predRes = evaluationRes.sum(1).sort_values(ascending = False) / 25\n",
    "    predRes.to_csv(\"UNIDIRCANCER_WITHRESIDUAL.tsv\",sep='\\t', header = False)\n",
    "    print(np.mean(aurocList)) # 0.936\n",
    "    print(np.mean(auprcList)) # 0.894\n"
   ]
  }
 ],
 "metadata": {
  "kernelspec": {
   "display_name": "dishypervenv",
   "language": "python",
   "name": "python3"
  },
  "language_info": {
   "codemirror_mode": {
    "name": "ipython",
    "version": 3
   },
   "file_extension": ".py",
   "mimetype": "text/x-python",
   "name": "python",
   "nbconvert_exporter": "python",
   "pygments_lexer": "ipython3",
   "version": "3.7.0"
  }
 },
 "nbformat": 4,
 "nbformat_minor": 5
}
