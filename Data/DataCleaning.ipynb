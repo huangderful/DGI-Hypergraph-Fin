{
 "cells": [
  {
   "cell_type": "markdown",
   "id": "4fb13f50",
   "metadata": {},
   "source": [
    "## Dataset Cleaning\n",
    "--- \n",
    "Gives stats and cleans datasets"
   ]
  },
  {
   "cell_type": "code",
   "execution_count": 2,
   "id": "fc9cd162",
   "metadata": {},
   "outputs": [],
   "source": [
    "import pandas as pd\n",
    "import json\n"
   ]
  },
  {
   "cell_type": "code",
   "execution_count": 4,
   "id": "8dbdd19d",
   "metadata": {},
   "outputs": [
    {
     "name": "stderr",
     "output_type": "stream",
     "text": [
      "c:\\Users\\richa\\Desktop\\CodingWorkspaces\\DGI-Hypergraph-Fin\\dgivenv\\lib\\site-packages\\IPython\\core\\interactiveshell.py:3258: DtypeWarning: Columns (2,4,6,8,9,10) have mixed types.Specify dtype option on import or set low_memory=False.\n",
      "  interactivity=interactivity, compiler=compiler, result=result)\n"
     ]
    }
   ],
   "source": [
    "DGIDB_PATH = \"./DGIDB/interactions.tsv\"\n",
    "DGIDB = pd.read_csv(DGIDB_PATH, sep=\"\\t\")\n",
    "\n",
    "HUMANNET_PATH = \"./HumanNet/HumanNet-GSP.tsv\"\n",
    "HUMANNET = pd.read_csv(HUMANNET_PATH, sep=\"\\t\")\n",
    "\n",
    "NCBI_PATH = \"./ncbi/gene2refseq.gz\"\n",
    "NCBI_INFO = pd.read_csv(NCBI_PATH, sep='\\t', compression='gzip')"
   ]
  },
  {
   "cell_type": "code",
   "execution_count": 5,
   "id": "f21b9da8",
   "metadata": {},
   "outputs": [
    {
     "name": "stdout",
     "output_type": "stream",
     "text": [
      "NCBI Gene ID for HTR2C: 3358\n"
     ]
    }
   ],
   "source": [
    "# Filter for Homo sapiens genes (tax_id = 9606)\n",
    "human_gene2refseq = NCBI_INFO[NCBI_INFO['#tax_id'] == 9606]\n",
    "\n",
    "# Create a mapping from gene claim names (Symbol) to NCBI gene IDs (GeneID)\n",
    "gene_claim_to_id = pd.Series(human_gene2refseq.GeneID.values, index=human_gene2refseq.Symbol).to_dict()\n",
    "def get_ncbi_gene_id(gene_claim_name):\n",
    "    return gene_claim_to_id.get(gene_claim_name, None)\n",
    "\n",
    "gene_claim_name = \"HTR2C\"\n",
    "ncbi_gene_id = get_ncbi_gene_id(gene_claim_name)\n",
    "print(f\"NCBI Gene ID for {gene_claim_name}: {ncbi_gene_id}\")\n",
    "id_to_gene_claim = {v: k for k, v in gene_claim_to_id.items()}"
   ]
  },
  {
   "cell_type": "code",
   "execution_count": 11,
   "id": "eae2d6f7",
   "metadata": {},
   "outputs": [
    {
     "name": "stdout",
     "output_type": "stream",
     "text": [
      "None\n"
     ]
    }
   ],
   "source": [
    "print(id_to_gene_claim.get(\"1565\"))"
   ]
  },
  {
   "cell_type": "code",
   "execution_count": 7,
   "id": "36699c65",
   "metadata": {},
   "outputs": [],
   "source": [
    "# Open the JSON file and load its content into a dictionary\n",
    "with open(\"../Gen_Hypergraph/output/DGIDB_BIPOLAR/gene_to_index.json\", \"r\") as file:\n",
    "    dgidb = json.load(file)"
   ]
  },
  {
   "cell_type": "code",
   "execution_count": 12,
   "id": "28587029",
   "metadata": {},
   "outputs": [],
   "source": [
    "converted_dgidb = {\n",
    "    id_to_gene_claim.get(int(ncbi_id), f\"UNKNOWN_{ncbi_id}\"): idx\n",
    "    for ncbi_id, idx in dgidb.items()\n",
    "}\n",
    "\n",
    "# Optionally save the new dictionary\n",
    "with open(\"gene_claim_to_index.json\", \"w\") as file:\n",
    "    json.dump(converted_dgidb, file, indent=2)"
   ]
  },
  {
   "cell_type": "code",
   "execution_count": null,
   "id": "c39d6281",
   "metadata": {},
   "outputs": [],
   "source": [
    "# Step 3: Map NCBI IDs to claim names\n",
    "humannet_claim = HUMANNET.copy()\n",
    "humannet_claim['Gene1'] = HUMANNET['Gene1'].map(id_to_gene_claim)\n",
    "humannet_claim['Gene2'] = HUMANNET['Gene2'].map(id_to_gene_claim)\n",
    "\n",
    "# Step 4: Drop rows where mapping failed\n",
    "humannet_claim.dropna(inplace=True)\n",
    "\n",
    "# Step 5: Save to new file\n",
    "humannet_claim.to_csv(\"humannet_claim.tsv\", sep=\"\\t\", index=False)"
   ]
  },
  {
   "cell_type": "code",
   "execution_count": null,
   "id": "c4f2ac92",
   "metadata": {},
   "outputs": [
    {
     "name": "stdout",
     "output_type": "stream",
     "text": [
      "Number of rows with None in 'ncbi_gene_id': 9755\n"
     ]
    },
    {
     "data": {
      "text/html": [
       "<div>\n",
       "<style scoped>\n",
       "    .dataframe tbody tr th:only-of-type {\n",
       "        vertical-align: middle;\n",
       "    }\n",
       "\n",
       "    .dataframe tbody tr th {\n",
       "        vertical-align: top;\n",
       "    }\n",
       "\n",
       "    .dataframe thead th {\n",
       "        text-align: right;\n",
       "    }\n",
       "</style>\n",
       "<table border=\"1\" class=\"dataframe\">\n",
       "  <thead>\n",
       "    <tr style=\"text-align: right;\">\n",
       "      <th></th>\n",
       "      <th>gene_claim_name</th>\n",
       "      <th>gene_concept_id</th>\n",
       "      <th>gene_name</th>\n",
       "      <th>interaction_source_db_name</th>\n",
       "      <th>interaction_source_db_version</th>\n",
       "      <th>interaction_type</th>\n",
       "      <th>interaction_score</th>\n",
       "      <th>drug_claim_name</th>\n",
       "      <th>drug_concept_id</th>\n",
       "      <th>drug_name</th>\n",
       "      <th>approved</th>\n",
       "      <th>immunotherapy</th>\n",
       "      <th>anti_neoplastic</th>\n",
       "      <th>ncbi_gene_id</th>\n",
       "    </tr>\n",
       "  </thead>\n",
       "  <tbody>\n",
       "    <tr>\n",
       "      <th>0</th>\n",
       "      <td>CYP2D6</td>\n",
       "      <td>hgnc:2625</td>\n",
       "      <td>CYP2D6</td>\n",
       "      <td>DTC</td>\n",
       "      <td>9/2/20</td>\n",
       "      <td>NaN</td>\n",
       "      <td>0.017709</td>\n",
       "      <td>RACLOPRIDE</td>\n",
       "      <td>ncit:C152139</td>\n",
       "      <td>RACLOPRIDE</td>\n",
       "      <td>False</td>\n",
       "      <td>False</td>\n",
       "      <td>False</td>\n",
       "      <td>1565</td>\n",
       "    </tr>\n",
       "    <tr>\n",
       "      <th>1</th>\n",
       "      <td>PPARG</td>\n",
       "      <td>hgnc:9236</td>\n",
       "      <td>PPARG</td>\n",
       "      <td>DTC</td>\n",
       "      <td>9/2/20</td>\n",
       "      <td>NaN</td>\n",
       "      <td>0.840123</td>\n",
       "      <td>KALOPANAX-SAPONIN F</td>\n",
       "      <td>chembl:CHEMBL1833984</td>\n",
       "      <td>CHEMBL:CHEMBL1833984</td>\n",
       "      <td>False</td>\n",
       "      <td>False</td>\n",
       "      <td>False</td>\n",
       "      <td>5468</td>\n",
       "    </tr>\n",
       "    <tr>\n",
       "      <th>2</th>\n",
       "      <td>ATAD5</td>\n",
       "      <td>hgnc:25752</td>\n",
       "      <td>ATAD5</td>\n",
       "      <td>DTC</td>\n",
       "      <td>9/2/20</td>\n",
       "      <td>NaN</td>\n",
       "      <td>0.177992</td>\n",
       "      <td>RO-5-3335</td>\n",
       "      <td>chembl:CHEMBL91609</td>\n",
       "      <td>CHEMBL:CHEMBL91609</td>\n",
       "      <td>False</td>\n",
       "      <td>False</td>\n",
       "      <td>False</td>\n",
       "      <td>79915</td>\n",
       "    </tr>\n",
       "    <tr>\n",
       "      <th>3</th>\n",
       "      <td>RGS4</td>\n",
       "      <td>hgnc:10000</td>\n",
       "      <td>RGS4</td>\n",
       "      <td>DTC</td>\n",
       "      <td>9/2/20</td>\n",
       "      <td>NaN</td>\n",
       "      <td>0.034319</td>\n",
       "      <td>3,4-DICHLOROISOCOUMARIN</td>\n",
       "      <td>drugbank:DB04459</td>\n",
       "      <td>3,4-DICHLOROISOCOUMARIN</td>\n",
       "      <td>False</td>\n",
       "      <td>False</td>\n",
       "      <td>False</td>\n",
       "      <td>5999</td>\n",
       "    </tr>\n",
       "    <tr>\n",
       "      <th>4</th>\n",
       "      <td>MAPK1</td>\n",
       "      <td>hgnc:6871</td>\n",
       "      <td>MAPK1</td>\n",
       "      <td>DTC</td>\n",
       "      <td>9/2/20</td>\n",
       "      <td>NaN</td>\n",
       "      <td>0.050007</td>\n",
       "      <td>WITHAFERIN A</td>\n",
       "      <td>iuphar.ligand:13097</td>\n",
       "      <td>WITHAFERIN A</td>\n",
       "      <td>False</td>\n",
       "      <td>False</td>\n",
       "      <td>False</td>\n",
       "      <td>5594</td>\n",
       "    </tr>\n",
       "    <tr>\n",
       "      <th>...</th>\n",
       "      <td>...</td>\n",
       "      <td>...</td>\n",
       "      <td>...</td>\n",
       "      <td>...</td>\n",
       "      <td>...</td>\n",
       "      <td>...</td>\n",
       "      <td>...</td>\n",
       "      <td>...</td>\n",
       "      <td>...</td>\n",
       "      <td>...</td>\n",
       "      <td>...</td>\n",
       "      <td>...</td>\n",
       "      <td>...</td>\n",
       "      <td>...</td>\n",
       "    </tr>\n",
       "    <tr>\n",
       "      <th>98234</th>\n",
       "      <td>TP53</td>\n",
       "      <td>hgnc:11998</td>\n",
       "      <td>TP53</td>\n",
       "      <td>JAX-CKB</td>\n",
       "      <td>10-Apr-24</td>\n",
       "      <td>NaN</td>\n",
       "      <td>0.014489</td>\n",
       "      <td>PD-0325901</td>\n",
       "      <td>ncit:C52195</td>\n",
       "      <td>MIRDAMETINIB</td>\n",
       "      <td>False</td>\n",
       "      <td>False</td>\n",
       "      <td>True</td>\n",
       "      <td>7157</td>\n",
       "    </tr>\n",
       "    <tr>\n",
       "      <th>98235</th>\n",
       "      <td>TP53</td>\n",
       "      <td>hgnc:11998</td>\n",
       "      <td>TP53</td>\n",
       "      <td>JAX-CKB</td>\n",
       "      <td>10-Apr-24</td>\n",
       "      <td>NaN</td>\n",
       "      <td>0.115911</td>\n",
       "      <td>ALRN-6924</td>\n",
       "      <td>ncit:C118669</td>\n",
       "      <td>SULANEMADLIN</td>\n",
       "      <td>False</td>\n",
       "      <td>False</td>\n",
       "      <td>False</td>\n",
       "      <td>7157</td>\n",
       "    </tr>\n",
       "    <tr>\n",
       "      <th>98236</th>\n",
       "      <td>TP53</td>\n",
       "      <td>hgnc:11998</td>\n",
       "      <td>TP53</td>\n",
       "      <td>JAX-CKB</td>\n",
       "      <td>10-Apr-24</td>\n",
       "      <td>NaN</td>\n",
       "      <td>0.025758</td>\n",
       "      <td>LY3009120</td>\n",
       "      <td>iuphar.ligand:8943</td>\n",
       "      <td>LY3009120</td>\n",
       "      <td>False</td>\n",
       "      <td>False</td>\n",
       "      <td>False</td>\n",
       "      <td>7157</td>\n",
       "    </tr>\n",
       "    <tr>\n",
       "      <th>98237</th>\n",
       "      <td>TP53</td>\n",
       "      <td>hgnc:11998</td>\n",
       "      <td>TP53</td>\n",
       "      <td>JAX-CKB</td>\n",
       "      <td>10-Apr-24</td>\n",
       "      <td>NaN</td>\n",
       "      <td>0.010537</td>\n",
       "      <td>Cabozantinib</td>\n",
       "      <td>rxcui:1363267</td>\n",
       "      <td>CABOZANTINIB S-MALATE</td>\n",
       "      <td>True</td>\n",
       "      <td>False</td>\n",
       "      <td>True</td>\n",
       "      <td>7157</td>\n",
       "    </tr>\n",
       "    <tr>\n",
       "      <th>98238</th>\n",
       "      <td>NCBIGENE:333</td>\n",
       "      <td>hgnc:597</td>\n",
       "      <td>APLP1</td>\n",
       "      <td>GuideToPharmacology</td>\n",
       "      <td>2024.1</td>\n",
       "      <td>agonist</td>\n",
       "      <td>5.834186</td>\n",
       "      <td>IUPHAR.LIGAND:10252</td>\n",
       "      <td>iuphar.ligand:10252</td>\n",
       "      <td>LV-2186</td>\n",
       "      <td>False</td>\n",
       "      <td>False</td>\n",
       "      <td>False</td>\n",
       "      <td>333</td>\n",
       "    </tr>\n",
       "  </tbody>\n",
       "</table>\n",
       "<p>88484 rows × 14 columns</p>\n",
       "</div>"
      ],
      "text/plain": [
       "      gene_claim_name gene_concept_id gene_name interaction_source_db_name  \\\n",
       "0              CYP2D6       hgnc:2625    CYP2D6                        DTC   \n",
       "1               PPARG       hgnc:9236     PPARG                        DTC   \n",
       "2               ATAD5      hgnc:25752     ATAD5                        DTC   \n",
       "3                RGS4      hgnc:10000      RGS4                        DTC   \n",
       "4               MAPK1       hgnc:6871     MAPK1                        DTC   \n",
       "...               ...             ...       ...                        ...   \n",
       "98234            TP53      hgnc:11998      TP53                    JAX-CKB   \n",
       "98235            TP53      hgnc:11998      TP53                    JAX-CKB   \n",
       "98236            TP53      hgnc:11998      TP53                    JAX-CKB   \n",
       "98237            TP53      hgnc:11998      TP53                    JAX-CKB   \n",
       "98238    NCBIGENE:333        hgnc:597     APLP1        GuideToPharmacology   \n",
       "\n",
       "      interaction_source_db_version interaction_type  interaction_score  \\\n",
       "0                            9/2/20              NaN           0.017709   \n",
       "1                            9/2/20              NaN           0.840123   \n",
       "2                            9/2/20              NaN           0.177992   \n",
       "3                            9/2/20              NaN           0.034319   \n",
       "4                            9/2/20              NaN           0.050007   \n",
       "...                             ...              ...                ...   \n",
       "98234                     10-Apr-24              NaN           0.014489   \n",
       "98235                     10-Apr-24              NaN           0.115911   \n",
       "98236                     10-Apr-24              NaN           0.025758   \n",
       "98237                     10-Apr-24              NaN           0.010537   \n",
       "98238                        2024.1          agonist           5.834186   \n",
       "\n",
       "               drug_claim_name       drug_concept_id                drug_name  \\\n",
       "0                   RACLOPRIDE          ncit:C152139               RACLOPRIDE   \n",
       "1          KALOPANAX-SAPONIN F  chembl:CHEMBL1833984     CHEMBL:CHEMBL1833984   \n",
       "2                    RO-5-3335    chembl:CHEMBL91609       CHEMBL:CHEMBL91609   \n",
       "3      3,4-DICHLOROISOCOUMARIN      drugbank:DB04459  3,4-DICHLOROISOCOUMARIN   \n",
       "4                 WITHAFERIN A   iuphar.ligand:13097             WITHAFERIN A   \n",
       "...                        ...                   ...                      ...   \n",
       "98234               PD-0325901           ncit:C52195             MIRDAMETINIB   \n",
       "98235                ALRN-6924          ncit:C118669             SULANEMADLIN   \n",
       "98236                LY3009120    iuphar.ligand:8943                LY3009120   \n",
       "98237             Cabozantinib         rxcui:1363267    CABOZANTINIB S-MALATE   \n",
       "98238      IUPHAR.LIGAND:10252   iuphar.ligand:10252                  LV-2186   \n",
       "\n",
       "      approved immunotherapy anti_neoplastic ncbi_gene_id  \n",
       "0        False         False           False         1565  \n",
       "1        False         False           False         5468  \n",
       "2        False         False           False        79915  \n",
       "3        False         False           False         5999  \n",
       "4        False         False           False         5594  \n",
       "...        ...           ...             ...          ...  \n",
       "98234    False         False            True         7157  \n",
       "98235    False         False           False         7157  \n",
       "98236    False         False           False         7157  \n",
       "98237     True         False            True         7157  \n",
       "98238    False         False           False          333  \n",
       "\n",
       "[88484 rows x 14 columns]"
      ]
     },
     "execution_count": 6,
     "metadata": {},
     "output_type": "execute_result"
    }
   ],
   "source": [
    "DGIDB['ncbi_gene_id'] = DGIDB['gene_name'].apply(get_ncbi_gene_id)\n",
    "DGIDB['ncbi_gene_id'] = DGIDB['ncbi_gene_id'].apply(lambda x: str(int(x)) if pd.notnull(x) else None)\n",
    "\n",
    "# Count rows where 'ncbi_gene_id' is None\n",
    "none_count = DGIDB['ncbi_gene_id'].isna().sum()\n",
    "# Print the count\n",
    "print(f\"Number of rows with None in 'ncbi_gene_id': {none_count}\")\n",
    "DGIDB = DGIDB.dropna(subset=['ncbi_gene_id'])\n",
    "DGIDB.to_csv(\"./DGIDB/DrugToGene.tsv\", sep=\"\\t\", index=False)\n",
    "DGIDB"
   ]
  },
  {
   "cell_type": "markdown",
   "id": "a64f532f",
   "metadata": {},
   "source": [
    "### MSigDB cleaning"
   ]
  },
  {
   "cell_type": "code",
   "execution_count": 4,
   "id": "68c4b99c",
   "metadata": {},
   "outputs": [],
   "source": [
    "MSIGDB_PATH = \"./MSigDB/c2.all.v2024.1.Hs.jsonl\"\n",
    "with open(MSIGDB_PATH, 'r') as file:\n",
    "    MSIGDB = json.load(file)"
   ]
  },
  {
   "cell_type": "code",
   "execution_count": null,
   "id": "6cd7314d",
   "metadata": {},
   "outputs": [
    {
     "ename": "NameError",
     "evalue": "name 'get_ncbi_gene_id' is not defined",
     "output_type": "error",
     "traceback": [
      "\u001b[1;31m---------------------------------------------------------------------------\u001b[0m",
      "\u001b[1;31mNameError\u001b[0m                                 Traceback (most recent call last)",
      "\u001b[1;32m~\\AppData\\Local\\Temp\\ipykernel_3716\\345321355.py\u001b[0m in \u001b[0;36m<module>\u001b[1;34m\u001b[0m\n\u001b[0;32m      1\u001b[0m \u001b[0mpathway_to_genes\u001b[0m \u001b[1;33m=\u001b[0m \u001b[1;33m{\u001b[0m\u001b[0mpathway\u001b[0m\u001b[1;33m:\u001b[0m \u001b[0mdata\u001b[0m\u001b[1;33m[\u001b[0m\u001b[1;34m\"geneSymbols\"\u001b[0m\u001b[1;33m]\u001b[0m \u001b[1;32mfor\u001b[0m \u001b[0mpathway\u001b[0m\u001b[1;33m,\u001b[0m \u001b[0mdata\u001b[0m \u001b[1;32min\u001b[0m \u001b[0mMSIGDB\u001b[0m\u001b[1;33m.\u001b[0m\u001b[0mitems\u001b[0m\u001b[1;33m(\u001b[0m\u001b[1;33m)\u001b[0m\u001b[1;33m}\u001b[0m\u001b[1;33m\u001b[0m\u001b[0m\n\u001b[0;32m      2\u001b[0m \u001b[0mMSIGDB_df\u001b[0m \u001b[1;33m=\u001b[0m \u001b[0mpd\u001b[0m\u001b[1;33m.\u001b[0m\u001b[0mDataFrame\u001b[0m\u001b[1;33m(\u001b[0m\u001b[0mlist\u001b[0m\u001b[1;33m(\u001b[0m\u001b[0mpathway_to_genes\u001b[0m\u001b[1;33m.\u001b[0m\u001b[0mitems\u001b[0m\u001b[1;33m(\u001b[0m\u001b[1;33m)\u001b[0m\u001b[1;33m)\u001b[0m\u001b[1;33m,\u001b[0m \u001b[0mcolumns\u001b[0m\u001b[1;33m=\u001b[0m\u001b[1;33m[\u001b[0m\u001b[1;34m'pathway'\u001b[0m\u001b[1;33m,\u001b[0m \u001b[1;34m'gene_names'\u001b[0m\u001b[1;33m]\u001b[0m\u001b[1;33m)\u001b[0m\u001b[1;33m\u001b[0m\u001b[0m\n\u001b[1;32m----> 3\u001b[1;33m \u001b[0mMSIGDB_df\u001b[0m\u001b[1;33m[\u001b[0m\u001b[1;34m'ncbi_gene_ids'\u001b[0m\u001b[1;33m]\u001b[0m \u001b[1;33m=\u001b[0m \u001b[0mMSIGDB_df\u001b[0m\u001b[1;33m[\u001b[0m\u001b[1;34m'gene_names'\u001b[0m\u001b[1;33m]\u001b[0m\u001b[1;33m.\u001b[0m\u001b[0mapply\u001b[0m\u001b[1;33m(\u001b[0m\u001b[1;32mlambda\u001b[0m \u001b[0mgenes\u001b[0m\u001b[1;33m:\u001b[0m \u001b[1;33m[\u001b[0m\u001b[0mget_ncbi_gene_id\u001b[0m\u001b[1;33m(\u001b[0m\u001b[0mgene\u001b[0m\u001b[1;33m)\u001b[0m \u001b[1;32mfor\u001b[0m \u001b[0mgene\u001b[0m \u001b[1;32min\u001b[0m \u001b[0mgenes\u001b[0m \u001b[1;32mif\u001b[0m \u001b[0mget_ncbi_gene_id\u001b[0m\u001b[1;33m(\u001b[0m\u001b[0mgene\u001b[0m\u001b[1;33m)\u001b[0m \u001b[1;32mis\u001b[0m \u001b[1;32mnot\u001b[0m \u001b[1;32mNone\u001b[0m\u001b[1;33m]\u001b[0m\u001b[1;33m)\u001b[0m\u001b[1;33m\u001b[0m\u001b[0m\n\u001b[0m\u001b[0;32m      4\u001b[0m \u001b[0mMSIGDB\u001b[0m\u001b[1;33m[\u001b[0m\u001b[1;34m\"ncbi_gene_ids\"\u001b[0m\u001b[1;33m]\u001b[0m \u001b[1;33m=\u001b[0m \u001b[0mMSIGDB\u001b[0m\u001b[1;33m[\u001b[0m\u001b[1;34m\"ncbi_gene_ids\"\u001b[0m\u001b[1;33m]\u001b[0m\u001b[1;33m.\u001b[0m\u001b[0mapply\u001b[0m\u001b[1;33m(\u001b[0m\u001b[1;32mlambda\u001b[0m \u001b[0mgenes\u001b[0m\u001b[1;33m:\u001b[0m \u001b[1;33m[\u001b[0m\u001b[0mstr\u001b[0m\u001b[1;33m(\u001b[0m\u001b[0mg\u001b[0m\u001b[1;33m)\u001b[0m \u001b[1;32mfor\u001b[0m \u001b[0mg\u001b[0m \u001b[1;32min\u001b[0m \u001b[0mgenes\u001b[0m\u001b[1;33m]\u001b[0m\u001b[1;33m)\u001b[0m\u001b[1;33m\u001b[0m\u001b[0m\n\u001b[0;32m      5\u001b[0m \u001b[1;33m\u001b[0m\u001b[0m\n",
      "\u001b[1;32mc:\\Users\\richa\\Desktop\\CodingWorkspaces\\DGI-Hypergraph-Fin\\dgivenv\\lib\\site-packages\\pandas\\core\\series.py\u001b[0m in \u001b[0;36mapply\u001b[1;34m(self, func, convert_dtype, args, **kwds)\u001b[0m\n\u001b[0;32m   4211\u001b[0m             \u001b[1;32melse\u001b[0m\u001b[1;33m:\u001b[0m\u001b[1;33m\u001b[0m\u001b[0m\n\u001b[0;32m   4212\u001b[0m                 \u001b[0mvalues\u001b[0m \u001b[1;33m=\u001b[0m \u001b[0mself\u001b[0m\u001b[1;33m.\u001b[0m\u001b[0mastype\u001b[0m\u001b[1;33m(\u001b[0m\u001b[0mobject\u001b[0m\u001b[1;33m)\u001b[0m\u001b[1;33m.\u001b[0m\u001b[0m_values\u001b[0m\u001b[1;33m\u001b[0m\u001b[0m\n\u001b[1;32m-> 4213\u001b[1;33m                 \u001b[0mmapped\u001b[0m \u001b[1;33m=\u001b[0m \u001b[0mlib\u001b[0m\u001b[1;33m.\u001b[0m\u001b[0mmap_infer\u001b[0m\u001b[1;33m(\u001b[0m\u001b[0mvalues\u001b[0m\u001b[1;33m,\u001b[0m \u001b[0mf\u001b[0m\u001b[1;33m,\u001b[0m \u001b[0mconvert\u001b[0m\u001b[1;33m=\u001b[0m\u001b[0mconvert_dtype\u001b[0m\u001b[1;33m)\u001b[0m\u001b[1;33m\u001b[0m\u001b[0m\n\u001b[0m\u001b[0;32m   4214\u001b[0m \u001b[1;33m\u001b[0m\u001b[0m\n\u001b[0;32m   4215\u001b[0m         \u001b[1;32mif\u001b[0m \u001b[0mlen\u001b[0m\u001b[1;33m(\u001b[0m\u001b[0mmapped\u001b[0m\u001b[1;33m)\u001b[0m \u001b[1;32mand\u001b[0m \u001b[0misinstance\u001b[0m\u001b[1;33m(\u001b[0m\u001b[0mmapped\u001b[0m\u001b[1;33m[\u001b[0m\u001b[1;36m0\u001b[0m\u001b[1;33m]\u001b[0m\u001b[1;33m,\u001b[0m \u001b[0mSeries\u001b[0m\u001b[1;33m)\u001b[0m\u001b[1;33m:\u001b[0m\u001b[1;33m\u001b[0m\u001b[0m\n",
      "\u001b[1;32mpandas\\_libs\\lib.pyx\u001b[0m in \u001b[0;36mpandas._libs.lib.map_infer\u001b[1;34m()\u001b[0m\n",
      "\u001b[1;32m~\\AppData\\Local\\Temp\\ipykernel_3716\\345321355.py\u001b[0m in \u001b[0;36m<lambda>\u001b[1;34m(genes)\u001b[0m\n\u001b[0;32m      1\u001b[0m \u001b[0mpathway_to_genes\u001b[0m \u001b[1;33m=\u001b[0m \u001b[1;33m{\u001b[0m\u001b[0mpathway\u001b[0m\u001b[1;33m:\u001b[0m \u001b[0mdata\u001b[0m\u001b[1;33m[\u001b[0m\u001b[1;34m\"geneSymbols\"\u001b[0m\u001b[1;33m]\u001b[0m \u001b[1;32mfor\u001b[0m \u001b[0mpathway\u001b[0m\u001b[1;33m,\u001b[0m \u001b[0mdata\u001b[0m \u001b[1;32min\u001b[0m \u001b[0mMSIGDB\u001b[0m\u001b[1;33m.\u001b[0m\u001b[0mitems\u001b[0m\u001b[1;33m(\u001b[0m\u001b[1;33m)\u001b[0m\u001b[1;33m}\u001b[0m\u001b[1;33m\u001b[0m\u001b[0m\n\u001b[0;32m      2\u001b[0m \u001b[0mMSIGDB_df\u001b[0m \u001b[1;33m=\u001b[0m \u001b[0mpd\u001b[0m\u001b[1;33m.\u001b[0m\u001b[0mDataFrame\u001b[0m\u001b[1;33m(\u001b[0m\u001b[0mlist\u001b[0m\u001b[1;33m(\u001b[0m\u001b[0mpathway_to_genes\u001b[0m\u001b[1;33m.\u001b[0m\u001b[0mitems\u001b[0m\u001b[1;33m(\u001b[0m\u001b[1;33m)\u001b[0m\u001b[1;33m)\u001b[0m\u001b[1;33m,\u001b[0m \u001b[0mcolumns\u001b[0m\u001b[1;33m=\u001b[0m\u001b[1;33m[\u001b[0m\u001b[1;34m'pathway'\u001b[0m\u001b[1;33m,\u001b[0m \u001b[1;34m'gene_names'\u001b[0m\u001b[1;33m]\u001b[0m\u001b[1;33m)\u001b[0m\u001b[1;33m\u001b[0m\u001b[0m\n\u001b[1;32m----> 3\u001b[1;33m \u001b[0mMSIGDB_df\u001b[0m\u001b[1;33m[\u001b[0m\u001b[1;34m'ncbi_gene_ids'\u001b[0m\u001b[1;33m]\u001b[0m \u001b[1;33m=\u001b[0m \u001b[0mMSIGDB_df\u001b[0m\u001b[1;33m[\u001b[0m\u001b[1;34m'gene_names'\u001b[0m\u001b[1;33m]\u001b[0m\u001b[1;33m.\u001b[0m\u001b[0mapply\u001b[0m\u001b[1;33m(\u001b[0m\u001b[1;32mlambda\u001b[0m \u001b[0mgenes\u001b[0m\u001b[1;33m:\u001b[0m \u001b[1;33m[\u001b[0m\u001b[0mget_ncbi_gene_id\u001b[0m\u001b[1;33m(\u001b[0m\u001b[0mgene\u001b[0m\u001b[1;33m)\u001b[0m \u001b[1;32mfor\u001b[0m \u001b[0mgene\u001b[0m \u001b[1;32min\u001b[0m \u001b[0mgenes\u001b[0m \u001b[1;32mif\u001b[0m \u001b[0mget_ncbi_gene_id\u001b[0m\u001b[1;33m(\u001b[0m\u001b[0mgene\u001b[0m\u001b[1;33m)\u001b[0m \u001b[1;32mis\u001b[0m \u001b[1;32mnot\u001b[0m \u001b[1;32mNone\u001b[0m\u001b[1;33m]\u001b[0m\u001b[1;33m)\u001b[0m\u001b[1;33m\u001b[0m\u001b[0m\n\u001b[0m\u001b[0;32m      4\u001b[0m \u001b[0mMSIGDB\u001b[0m\u001b[1;33m[\u001b[0m\u001b[1;34m\"ncbi_gene_ids\"\u001b[0m\u001b[1;33m]\u001b[0m \u001b[1;33m=\u001b[0m \u001b[0mMSIGDB\u001b[0m\u001b[1;33m[\u001b[0m\u001b[1;34m\"ncbi_gene_ids\"\u001b[0m\u001b[1;33m]\u001b[0m\u001b[1;33m.\u001b[0m\u001b[0mapply\u001b[0m\u001b[1;33m(\u001b[0m\u001b[1;32mlambda\u001b[0m \u001b[0mgenes\u001b[0m\u001b[1;33m:\u001b[0m \u001b[1;33m[\u001b[0m\u001b[0mstr\u001b[0m\u001b[1;33m(\u001b[0m\u001b[0mg\u001b[0m\u001b[1;33m)\u001b[0m \u001b[1;32mfor\u001b[0m \u001b[0mg\u001b[0m \u001b[1;32min\u001b[0m \u001b[0mgenes\u001b[0m\u001b[1;33m]\u001b[0m\u001b[1;33m)\u001b[0m\u001b[1;33m\u001b[0m\u001b[0m\n\u001b[0;32m      5\u001b[0m \u001b[1;33m\u001b[0m\u001b[0m\n",
      "\u001b[1;32m~\\AppData\\Local\\Temp\\ipykernel_3716\\345321355.py\u001b[0m in \u001b[0;36m<listcomp>\u001b[1;34m(.0)\u001b[0m\n\u001b[0;32m      1\u001b[0m \u001b[0mpathway_to_genes\u001b[0m \u001b[1;33m=\u001b[0m \u001b[1;33m{\u001b[0m\u001b[0mpathway\u001b[0m\u001b[1;33m:\u001b[0m \u001b[0mdata\u001b[0m\u001b[1;33m[\u001b[0m\u001b[1;34m\"geneSymbols\"\u001b[0m\u001b[1;33m]\u001b[0m \u001b[1;32mfor\u001b[0m \u001b[0mpathway\u001b[0m\u001b[1;33m,\u001b[0m \u001b[0mdata\u001b[0m \u001b[1;32min\u001b[0m \u001b[0mMSIGDB\u001b[0m\u001b[1;33m.\u001b[0m\u001b[0mitems\u001b[0m\u001b[1;33m(\u001b[0m\u001b[1;33m)\u001b[0m\u001b[1;33m}\u001b[0m\u001b[1;33m\u001b[0m\u001b[0m\n\u001b[0;32m      2\u001b[0m \u001b[0mMSIGDB_df\u001b[0m \u001b[1;33m=\u001b[0m \u001b[0mpd\u001b[0m\u001b[1;33m.\u001b[0m\u001b[0mDataFrame\u001b[0m\u001b[1;33m(\u001b[0m\u001b[0mlist\u001b[0m\u001b[1;33m(\u001b[0m\u001b[0mpathway_to_genes\u001b[0m\u001b[1;33m.\u001b[0m\u001b[0mitems\u001b[0m\u001b[1;33m(\u001b[0m\u001b[1;33m)\u001b[0m\u001b[1;33m)\u001b[0m\u001b[1;33m,\u001b[0m \u001b[0mcolumns\u001b[0m\u001b[1;33m=\u001b[0m\u001b[1;33m[\u001b[0m\u001b[1;34m'pathway'\u001b[0m\u001b[1;33m,\u001b[0m \u001b[1;34m'gene_names'\u001b[0m\u001b[1;33m]\u001b[0m\u001b[1;33m)\u001b[0m\u001b[1;33m\u001b[0m\u001b[0m\n\u001b[1;32m----> 3\u001b[1;33m \u001b[0mMSIGDB_df\u001b[0m\u001b[1;33m[\u001b[0m\u001b[1;34m'ncbi_gene_ids'\u001b[0m\u001b[1;33m]\u001b[0m \u001b[1;33m=\u001b[0m \u001b[0mMSIGDB_df\u001b[0m\u001b[1;33m[\u001b[0m\u001b[1;34m'gene_names'\u001b[0m\u001b[1;33m]\u001b[0m\u001b[1;33m.\u001b[0m\u001b[0mapply\u001b[0m\u001b[1;33m(\u001b[0m\u001b[1;32mlambda\u001b[0m \u001b[0mgenes\u001b[0m\u001b[1;33m:\u001b[0m \u001b[1;33m[\u001b[0m\u001b[0mget_ncbi_gene_id\u001b[0m\u001b[1;33m(\u001b[0m\u001b[0mgene\u001b[0m\u001b[1;33m)\u001b[0m \u001b[1;32mfor\u001b[0m \u001b[0mgene\u001b[0m \u001b[1;32min\u001b[0m \u001b[0mgenes\u001b[0m \u001b[1;32mif\u001b[0m \u001b[0mget_ncbi_gene_id\u001b[0m\u001b[1;33m(\u001b[0m\u001b[0mgene\u001b[0m\u001b[1;33m)\u001b[0m \u001b[1;32mis\u001b[0m \u001b[1;32mnot\u001b[0m \u001b[1;32mNone\u001b[0m\u001b[1;33m]\u001b[0m\u001b[1;33m)\u001b[0m\u001b[1;33m\u001b[0m\u001b[0m\n\u001b[0m\u001b[0;32m      4\u001b[0m \u001b[0mMSIGDB\u001b[0m\u001b[1;33m[\u001b[0m\u001b[1;34m\"ncbi_gene_ids\"\u001b[0m\u001b[1;33m]\u001b[0m \u001b[1;33m=\u001b[0m \u001b[0mMSIGDB\u001b[0m\u001b[1;33m[\u001b[0m\u001b[1;34m\"ncbi_gene_ids\"\u001b[0m\u001b[1;33m]\u001b[0m\u001b[1;33m.\u001b[0m\u001b[0mapply\u001b[0m\u001b[1;33m(\u001b[0m\u001b[1;32mlambda\u001b[0m \u001b[0mgenes\u001b[0m\u001b[1;33m:\u001b[0m \u001b[1;33m[\u001b[0m\u001b[0mstr\u001b[0m\u001b[1;33m(\u001b[0m\u001b[0mg\u001b[0m\u001b[1;33m)\u001b[0m \u001b[1;32mfor\u001b[0m \u001b[0mg\u001b[0m \u001b[1;32min\u001b[0m \u001b[0mgenes\u001b[0m\u001b[1;33m]\u001b[0m\u001b[1;33m)\u001b[0m\u001b[1;33m\u001b[0m\u001b[0m\n\u001b[0;32m      5\u001b[0m \u001b[1;33m\u001b[0m\u001b[0m\n",
      "\u001b[1;31mNameError\u001b[0m: name 'get_ncbi_gene_id' is not defined"
     ]
    }
   ],
   "source": [
    "pathway_to_genes = {pathway: data[\"geneSymbols\"] for pathway, data in MSIGDB.items()}\n",
    "MSIGDB_df = pd.DataFrame(list(pathway_to_genes.items()), columns=['pathway', 'gene_names'])\n",
    "MSIGDB_df['ncbi_gene_ids'] = MSIGDB_df['gene_names'].apply(lambda genes: [get_ncbi_gene_id(gene) for gene in genes if get_ncbi_gene_id(gene) is not None])\n",
    "MSIGDB_df.to_csv(\"./MSigDB/PathwayToGene.tsv\", sep=\"\\t\", index=False)\n"
   ]
  },
  {
   "cell_type": "code",
   "execution_count": 2,
   "id": "b6f3843e",
   "metadata": {},
   "outputs": [],
   "source": [
    "import pandas as pd\n",
    "MSIGDB_df = pd.read_csv(\"./MSigDB/PathwayToGene.tsv\", sep=\"\\t\")"
   ]
  },
  {
   "cell_type": "code",
   "execution_count": 4,
   "id": "4124b719",
   "metadata": {},
   "outputs": [],
   "source": [
    "import ast\n",
    "\n",
    "# Flatten the gene lists and extract unique gene names\n",
    "unique_genes = set()\n",
    "for gene_list in MSIGDB_df['gene_names']:\n",
    "    genes = ast.literal_eval(gene_list)  # Safely parse the string list\n",
    "    unique_genes.update(genes)\n",
    "\n",
    "# Sort the unique gene names\n",
    "sorted_genes = sorted(unique_genes)\n",
    "\n",
    "# Write to a text file\n",
    "with open(\"unique_genes.txt\", \"w\") as f:\n",
    "    for gene in sorted_genes:\n",
    "        f.write(f\"{gene}\\n\")"
   ]
  },
  {
   "cell_type": "markdown",
   "id": "693418e5",
   "metadata": {},
   "source": [
    "### DDDB Cleaning"
   ]
  },
  {
   "cell_type": "code",
   "execution_count": 2,
   "id": "27f741d2",
   "metadata": {},
   "outputs": [
    {
     "name": "stderr",
     "output_type": "stream",
     "text": [
      "c:\\Users\\richa\\Desktop\\CodingWorkspaces\\DGI-Hypergraph-Fin\\dgivenv\\lib\\site-packages\\IPython\\core\\interactiveshell.py:3258: DtypeWarning: Columns (91) have mixed types.Specify dtype option on import or set low_memory=False.\n",
      "  interactivity=interactivity, compiler=compiler, result=result)\n"
     ]
    }
   ],
   "source": [
    "import pandas as pd\n",
    "DDDB = pd.read_csv(\"../Data/DDDB/NIHMS851432-supplement-1.csv\")\n",
    "NDFRT = pd.read_csv(\"../Data/NDF-RT/NDF-RT.csv.gz\", compression='gzip')"
   ]
  },
  {
   "cell_type": "code",
   "execution_count": 3,
   "id": "06de7af0",
   "metadata": {},
   "outputs": [
    {
     "name": "stdout",
     "output_type": "stream",
     "text": [
      "Index(['Class ID', 'Preferred Label', 'Synonyms', 'Definitions', 'Obsolete',\n",
      "       'CUI', 'Semantic Types', 'Parents', 'CI_ChemClass', 'CI_MoA',\n",
      "       ...\n",
      "       'UMLS_CUI', 'UMLS_CUI.1', 'Units', 'Units.1',\n",
      "       'VA_National_Formulary_Name', 'VA_National_Formulary_Name.1',\n",
      "       'VANDF_Record', 'VANDF_Record.1', 'VUID', 'VUID.1'],\n",
      "      dtype='object', length=116)\n"
     ]
    }
   ],
   "source": [
    "print(NDFRT.columns)"
   ]
  },
  {
   "cell_type": "code",
   "execution_count": 4,
   "id": "4de6849b",
   "metadata": {},
   "outputs": [
    {
     "name": "stdout",
     "output_type": "stream",
     "text": [
      "donepezil\n"
     ]
    }
   ],
   "source": [
    "def get_ndfrt_name(ndfrt_code):\n",
    "    match_row = NDFRT[NDFRT['Class ID'].str.endswith(ndfrt_code)]\n",
    "    if not match_row.empty:\n",
    "        return match_row.iloc[0]['Preferred Label']\n",
    "    return \"Unknown Drug\"\n",
    "\n",
    "# Try again\n",
    "name = get_ndfrt_name(\"N0000004713\")\n",
    "print(name)\n"
   ]
  },
  {
   "cell_type": "code",
   "execution_count": 5,
   "id": "41b4e0ab",
   "metadata": {},
   "outputs": [
    {
     "name": "stdout",
     "output_type": "stream",
     "text": [
      "           NDF-RT     SNOMED ndfrt_preferred_label\n",
      "0     N0000004713   26929004             donepezil\n",
      "1     N0000004713   56267009             donepezil\n",
      "2     N0000004713   80098002             donepezil\n",
      "3     N0000004713  386806002             donepezil\n",
      "4     N0000004713  425390006             donepezil\n",
      "...           ...        ...                   ...\n",
      "3534  N0000146103   19905009          TRIMETHOPRIM\n",
      "3535  N0000146103  423561003          TRIMETHOPRIM\n",
      "3536  N0000146103  429271009          TRIMETHOPRIM\n",
      "3537  N0000146103  192701001          TRIMETHOPRIM\n",
      "3538  N0000148372  235049008            TACROLIMUS\n",
      "\n",
      "[3539 rows x 3 columns]\n"
     ]
    }
   ],
   "source": [
    "DDDB['ndfrt_preferred_label'] = DDDB['NDF-RT'].apply(get_ndfrt_name)\n",
    "print(DDDB)"
   ]
  },
  {
   "cell_type": "code",
   "execution_count": 6,
   "id": "8eb9e8e1",
   "metadata": {},
   "outputs": [
    {
     "name": "stdout",
     "output_type": "stream",
     "text": [
      "Number of None values in 'ndfrt_preferred_label': 0\n"
     ]
    }
   ],
   "source": [
    "num_nones = DDDB['ndfrt_preferred_label'].isna().sum()\n",
    "\n",
    "# Print the result\n",
    "print(f\"Number of None values in 'ndfrt_preferred_label': {num_nones}\")"
   ]
  },
  {
   "cell_type": "code",
   "execution_count": 7,
   "id": "f8e84b96",
   "metadata": {},
   "outputs": [],
   "source": [
    "SNOMED = pd.read_csv(\"./SNOMED/sct2_Description_Full-en_US1000124_20250301.tsv\", sep=\"\\t\")"
   ]
  },
  {
   "cell_type": "code",
   "execution_count": 8,
   "id": "3852f1ae",
   "metadata": {},
   "outputs": [
    {
     "name": "stdout",
     "output_type": "stream",
     "text": [
      "Bipolar disorder\n"
     ]
    }
   ],
   "source": [
    "def get_snomed_term(concept_id):\n",
    "    match_row = SNOMED[SNOMED['conceptId'].astype(str) == str(concept_id)]\n",
    "    if not match_row.empty:\n",
    "        return match_row.iloc[0]['term']\n",
    "    return \"Unknown Concept\"\n",
    "# Try again\n",
    "name = get_snomed_term(\"13746004\")\n",
    "print(name)"
   ]
  },
  {
   "cell_type": "code",
   "execution_count": 9,
   "id": "0b8687bc",
   "metadata": {},
   "outputs": [
    {
     "name": "stderr",
     "output_type": "stream",
     "text": [
      "100%|██████████| 3539/3539 [1:22:31<00:00,  1.40s/it]\n"
     ]
    },
    {
     "data": {
      "text/html": [
       "<div>\n",
       "<style scoped>\n",
       "    .dataframe tbody tr th:only-of-type {\n",
       "        vertical-align: middle;\n",
       "    }\n",
       "\n",
       "    .dataframe tbody tr th {\n",
       "        vertical-align: top;\n",
       "    }\n",
       "\n",
       "    .dataframe thead th {\n",
       "        text-align: right;\n",
       "    }\n",
       "</style>\n",
       "<table border=\"1\" class=\"dataframe\">\n",
       "  <thead>\n",
       "    <tr style=\"text-align: right;\">\n",
       "      <th></th>\n",
       "      <th>NDF-RT</th>\n",
       "      <th>SNOMED</th>\n",
       "      <th>ndfrt_preferred_label</th>\n",
       "      <th>snomed_disease</th>\n",
       "    </tr>\n",
       "  </thead>\n",
       "  <tbody>\n",
       "    <tr>\n",
       "      <th>0</th>\n",
       "      <td>N0000004713</td>\n",
       "      <td>26929004</td>\n",
       "      <td>donepezil</td>\n",
       "      <td>Alzheimer's disease</td>\n",
       "    </tr>\n",
       "    <tr>\n",
       "      <th>1</th>\n",
       "      <td>N0000004713</td>\n",
       "      <td>56267009</td>\n",
       "      <td>donepezil</td>\n",
       "      <td>Multi-infarct dementia</td>\n",
       "    </tr>\n",
       "    <tr>\n",
       "      <th>2</th>\n",
       "      <td>N0000004713</td>\n",
       "      <td>80098002</td>\n",
       "      <td>donepezil</td>\n",
       "      <td>Diffuse Lewy body disease</td>\n",
       "    </tr>\n",
       "    <tr>\n",
       "      <th>3</th>\n",
       "      <td>N0000004713</td>\n",
       "      <td>386806002</td>\n",
       "      <td>donepezil</td>\n",
       "      <td>Impaired cognition (finding)</td>\n",
       "    </tr>\n",
       "    <tr>\n",
       "      <th>4</th>\n",
       "      <td>N0000004713</td>\n",
       "      <td>425390006</td>\n",
       "      <td>donepezil</td>\n",
       "      <td>Dementia associated with Parkinson's Disease (...</td>\n",
       "    </tr>\n",
       "    <tr>\n",
       "      <th>...</th>\n",
       "      <td>...</td>\n",
       "      <td>...</td>\n",
       "      <td>...</td>\n",
       "      <td>...</td>\n",
       "    </tr>\n",
       "    <tr>\n",
       "      <th>3534</th>\n",
       "      <td>N0000146103</td>\n",
       "      <td>19905009</td>\n",
       "      <td>TRIMETHOPRIM</td>\n",
       "      <td>Chronic prostatitis</td>\n",
       "    </tr>\n",
       "    <tr>\n",
       "      <th>3535</th>\n",
       "      <td>N0000146103</td>\n",
       "      <td>423561003</td>\n",
       "      <td>TRIMETHOPRIM</td>\n",
       "      <td>Community-acquired methicillin resistant Staph...</td>\n",
       "    </tr>\n",
       "    <tr>\n",
       "      <th>3536</th>\n",
       "      <td>N0000146103</td>\n",
       "      <td>429271009</td>\n",
       "      <td>TRIMETHOPRIM</td>\n",
       "      <td>Ventilator-acquired pneumonia (disorder)</td>\n",
       "    </tr>\n",
       "    <tr>\n",
       "      <th>3537</th>\n",
       "      <td>N0000146103</td>\n",
       "      <td>192701001</td>\n",
       "      <td>TRIMETHOPRIM</td>\n",
       "      <td>Toxoplasma encephalitis</td>\n",
       "    </tr>\n",
       "    <tr>\n",
       "      <th>3538</th>\n",
       "      <td>N0000148372</td>\n",
       "      <td>235049008</td>\n",
       "      <td>TACROLIMUS</td>\n",
       "      <td>OLP - Oral lichen planus</td>\n",
       "    </tr>\n",
       "  </tbody>\n",
       "</table>\n",
       "<p>3539 rows × 4 columns</p>\n",
       "</div>"
      ],
      "text/plain": [
       "           NDF-RT     SNOMED ndfrt_preferred_label  \\\n",
       "0     N0000004713   26929004             donepezil   \n",
       "1     N0000004713   56267009             donepezil   \n",
       "2     N0000004713   80098002             donepezil   \n",
       "3     N0000004713  386806002             donepezil   \n",
       "4     N0000004713  425390006             donepezil   \n",
       "...           ...        ...                   ...   \n",
       "3534  N0000146103   19905009          TRIMETHOPRIM   \n",
       "3535  N0000146103  423561003          TRIMETHOPRIM   \n",
       "3536  N0000146103  429271009          TRIMETHOPRIM   \n",
       "3537  N0000146103  192701001          TRIMETHOPRIM   \n",
       "3538  N0000148372  235049008            TACROLIMUS   \n",
       "\n",
       "                                         snomed_disease  \n",
       "0                                   Alzheimer's disease  \n",
       "1                                Multi-infarct dementia  \n",
       "2                             Diffuse Lewy body disease  \n",
       "3                          Impaired cognition (finding)  \n",
       "4     Dementia associated with Parkinson's Disease (...  \n",
       "...                                                 ...  \n",
       "3534                                Chronic prostatitis  \n",
       "3535  Community-acquired methicillin resistant Staph...  \n",
       "3536           Ventilator-acquired pneumonia (disorder)  \n",
       "3537                            Toxoplasma encephalitis  \n",
       "3538                           OLP - Oral lichen planus  \n",
       "\n",
       "[3539 rows x 4 columns]"
      ]
     },
     "execution_count": 9,
     "metadata": {},
     "output_type": "execute_result"
    }
   ],
   "source": [
    "from tqdm import tqdm\n",
    "tqdm.pandas()\n",
    "\n",
    "DDDB['snomed_disease'] = DDDB['SNOMED'].progress_apply(get_snomed_term)\n",
    "DDDB"
   ]
  },
  {
   "cell_type": "code",
   "execution_count": 10,
   "id": "31a39403",
   "metadata": {},
   "outputs": [],
   "source": [
    "DDDB.to_csv(\"./DDDB/DrugToDisease.tsv\", sep=\"\\t\", index=False)"
   ]
  },
  {
   "cell_type": "code",
   "execution_count": 12,
   "id": "7c3fa768",
   "metadata": {},
   "outputs": [
    {
     "name": "stdout",
     "output_type": "stream",
     "text": [
      "1321\n"
     ]
    }
   ],
   "source": [
    "print(len(DDDB[\"snomed_disease\"].unique()))"
   ]
  },
  {
   "cell_type": "code",
   "execution_count": null,
   "id": "688d99d4",
   "metadata": {},
   "outputs": [],
   "source": [
    "# Group by both SNOMED code and disease name to preserve both\n",
    "grouped = DDDB.groupby([\"SNOMED\", \"snomed_disease\"])[\"ndfrt_preferred_label\"].apply(lambda x: x.dropna().unique())\n",
    "\n",
    "# Initialize a counter\n",
    "count = 0\n",
    "\n",
    "# Filter and print those with more than 8 unique drug labels\n",
    "for (snomed_code, disease_name), drugs in grouped.items():\n",
    "    if len(drugs) > 8:\n",
    "        count += 1\n",
    "        print(f\"SNOMED Code: {snomed_code}\")\n",
    "        print(f\"Disease Name: {disease_name}\")\n",
    "        print(f\"Number of Drugs: {len(drugs)}\")\n",
    "        print(\"Drugs:\", \", \".join(drugs))\n",
    "        print(\"-\" * 50)\n",
    "\n",
    "# Print the total count\n",
    "print(f\"Total SNOMED diseases with >8 unique drugs: {count}\")"
   ]
  },
  {
   "cell_type": "markdown",
   "id": "c874d47e",
   "metadata": {},
   "source": [
    "Sep"
   ]
  },
  {
   "cell_type": "code",
   "execution_count": 1,
   "id": "7664a049",
   "metadata": {},
   "outputs": [
    {
     "name": "stdout",
     "output_type": "stream",
     "text": [
      "Wrote 8637 genes to ../Data/GNN/BipolarFalseGenes.txt\n"
     ]
    }
   ],
   "source": [
    "def write_genes_not_in_exclude(all_genes_path, exclude_genes_path, output_path):\n",
    "    # Read all genes\n",
    "    with open(all_genes_path, \"r\") as f:\n",
    "        all_genes = set(line.strip() for line in f if line.strip())\n",
    "\n",
    "    # Read genes to exclude\n",
    "    with open(exclude_genes_path, \"r\") as f:\n",
    "        exclude_genes = set(line.strip() for line in f if line.strip())\n",
    "\n",
    "    # Compute difference\n",
    "    remaining_genes = sorted(all_genes - exclude_genes)\n",
    "\n",
    "    # Write to output\n",
    "    with open(output_path, \"w\") as f:\n",
    "        for gene in remaining_genes:\n",
    "            f.write(f\"{gene}\\n\")\n",
    "\n",
    "    print(f\"Wrote {len(remaining_genes)} genes to {output_path}\")\n",
    "\n",
    "\n",
    "write_genes_not_in_exclude(\n",
    "    \"../Data/low_conf_genes.txt\",\n",
    "    \"../Data/GNN/BipolarOTGenes.txt\",\n",
    "    \"../Data/GNN/BipolarFalseGenes.txt\"\n",
    ")"
   ]
  },
  {
   "cell_type": "code",
   "execution_count": 2,
   "id": "a9dea660",
   "metadata": {},
   "outputs": [],
   "source": [
    "import pandas as pd\n",
    "HUMANNET_PATH = \"./HumanNet/HumanNet-GSP.tsv\"\n",
    "HUMANNET = pd.read_csv(HUMANNET_PATH, sep=\"\\t\")"
   ]
  },
  {
   "cell_type": "code",
   "execution_count": 6,
   "id": "40086260",
   "metadata": {},
   "outputs": [
    {
     "name": "stdout",
     "output_type": "stream",
     "text": [
      "8779\n"
     ]
    }
   ],
   "source": [
    "unique_genes = set(HUMANNET[\"Gene1\"].unique()) | set(HUMANNET[\"Gene2\"].unique())\n",
    "num_unique_genes = len(unique_genes)\n",
    "print(num_unique_genes)"
   ]
  }
 ],
 "metadata": {
  "kernelspec": {
   "display_name": "dgivenv",
   "language": "python",
   "name": "python3"
  },
  "language_info": {
   "codemirror_mode": {
    "name": "ipython",
    "version": 3
   },
   "file_extension": ".py",
   "mimetype": "text/x-python",
   "name": "python",
   "nbconvert_exporter": "python",
   "pygments_lexer": "ipython3",
   "version": "3.7.0"
  }
 },
 "nbformat": 4,
 "nbformat_minor": 5
}
