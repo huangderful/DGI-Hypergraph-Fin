{
 "cells": [
  {
   "cell_type": "code",
   "execution_count": 11,
   "id": "0e100aad",
   "metadata": {},
   "outputs": [
    {
     "name": "stdout",
     "output_type": "stream",
     "text": [
      "Downloading part-00000-67ea6339-0087-4bca-bb51-0de521275806-c000.snappy.parquet...\n",
      "Downloading part-00001-67ea6339-0087-4bca-bb51-0de521275806-c000.snappy.parquet...\n",
      "Downloading part-00002-67ea6339-0087-4bca-bb51-0de521275806-c000.snappy.parquet...\n",
      "Downloading part-00003-67ea6339-0087-4bca-bb51-0de521275806-c000.snappy.parquet...\n",
      "Downloading part-00004-67ea6339-0087-4bca-bb51-0de521275806-c000.snappy.parquet...\n",
      "Downloading part-00005-67ea6339-0087-4bca-bb51-0de521275806-c000.snappy.parquet...\n",
      "Downloading part-00006-67ea6339-0087-4bca-bb51-0de521275806-c000.snappy.parquet...\n",
      "Downloading part-00007-67ea6339-0087-4bca-bb51-0de521275806-c000.snappy.parquet...\n",
      "Downloading part-00008-67ea6339-0087-4bca-bb51-0de521275806-c000.snappy.parquet...\n",
      "Downloading part-00009-67ea6339-0087-4bca-bb51-0de521275806-c000.snappy.parquet...\n",
      "Downloading part-00010-67ea6339-0087-4bca-bb51-0de521275806-c000.snappy.parquet...\n",
      "Downloading part-00011-67ea6339-0087-4bca-bb51-0de521275806-c000.snappy.parquet...\n",
      "Downloading part-00012-67ea6339-0087-4bca-bb51-0de521275806-c000.snappy.parquet...\n",
      "Downloading part-00013-67ea6339-0087-4bca-bb51-0de521275806-c000.snappy.parquet...\n",
      "Downloading part-00014-67ea6339-0087-4bca-bb51-0de521275806-c000.snappy.parquet...\n",
      "Downloading part-00015-67ea6339-0087-4bca-bb51-0de521275806-c000.snappy.parquet...\n",
      "Downloading part-00016-67ea6339-0087-4bca-bb51-0de521275806-c000.snappy.parquet...\n",
      "Downloading part-00017-67ea6339-0087-4bca-bb51-0de521275806-c000.snappy.parquet...\n",
      "Downloading part-00018-67ea6339-0087-4bca-bb51-0de521275806-c000.snappy.parquet...\n",
      "Downloading part-00019-67ea6339-0087-4bca-bb51-0de521275806-c000.snappy.parquet...\n",
      "Downloading part-00020-67ea6339-0087-4bca-bb51-0de521275806-c000.snappy.parquet...\n",
      "Downloading part-00021-67ea6339-0087-4bca-bb51-0de521275806-c000.snappy.parquet...\n",
      "Downloading part-00022-67ea6339-0087-4bca-bb51-0de521275806-c000.snappy.parquet...\n",
      "Downloading part-00023-67ea6339-0087-4bca-bb51-0de521275806-c000.snappy.parquet...\n",
      "Downloading part-00024-67ea6339-0087-4bca-bb51-0de521275806-c000.snappy.parquet...\n",
      "Downloading part-00025-67ea6339-0087-4bca-bb51-0de521275806-c000.snappy.parquet...\n",
      "Downloading part-00026-67ea6339-0087-4bca-bb51-0de521275806-c000.snappy.parquet...\n",
      "Downloading part-00027-67ea6339-0087-4bca-bb51-0de521275806-c000.snappy.parquet...\n",
      "Downloading part-00028-67ea6339-0087-4bca-bb51-0de521275806-c000.snappy.parquet...\n",
      "Downloading part-00029-67ea6339-0087-4bca-bb51-0de521275806-c000.snappy.parquet...\n",
      "Downloading part-00030-67ea6339-0087-4bca-bb51-0de521275806-c000.snappy.parquet...\n",
      "Downloading part-00031-67ea6339-0087-4bca-bb51-0de521275806-c000.snappy.parquet...\n",
      "Downloading part-00032-67ea6339-0087-4bca-bb51-0de521275806-c000.snappy.parquet...\n",
      "Downloading part-00033-67ea6339-0087-4bca-bb51-0de521275806-c000.snappy.parquet...\n",
      "Downloading part-00034-67ea6339-0087-4bca-bb51-0de521275806-c000.snappy.parquet...\n",
      "Downloading part-00035-67ea6339-0087-4bca-bb51-0de521275806-c000.snappy.parquet...\n",
      "Downloading part-00036-67ea6339-0087-4bca-bb51-0de521275806-c000.snappy.parquet...\n",
      "Downloading part-00037-67ea6339-0087-4bca-bb51-0de521275806-c000.snappy.parquet...\n",
      "Downloading part-00038-67ea6339-0087-4bca-bb51-0de521275806-c000.snappy.parquet...\n",
      "Downloading part-00039-67ea6339-0087-4bca-bb51-0de521275806-c000.snappy.parquet...\n",
      "Downloading part-00040-67ea6339-0087-4bca-bb51-0de521275806-c000.snappy.parquet...\n",
      "Downloading part-00041-67ea6339-0087-4bca-bb51-0de521275806-c000.snappy.parquet...\n",
      "Downloading part-00042-67ea6339-0087-4bca-bb51-0de521275806-c000.snappy.parquet...\n",
      "Downloading part-00043-67ea6339-0087-4bca-bb51-0de521275806-c000.snappy.parquet...\n",
      "Downloading part-00044-67ea6339-0087-4bca-bb51-0de521275806-c000.snappy.parquet...\n",
      "Downloading part-00045-67ea6339-0087-4bca-bb51-0de521275806-c000.snappy.parquet...\n",
      "Downloading part-00046-67ea6339-0087-4bca-bb51-0de521275806-c000.snappy.parquet...\n",
      "Downloading part-00047-67ea6339-0087-4bca-bb51-0de521275806-c000.snappy.parquet...\n",
      "Downloading part-00048-67ea6339-0087-4bca-bb51-0de521275806-c000.snappy.parquet...\n",
      "Downloading part-00049-67ea6339-0087-4bca-bb51-0de521275806-c000.snappy.parquet...\n",
      "Downloading part-00050-67ea6339-0087-4bca-bb51-0de521275806-c000.snappy.parquet...\n",
      "Downloading part-00051-67ea6339-0087-4bca-bb51-0de521275806-c000.snappy.parquet...\n",
      "Downloading part-00052-67ea6339-0087-4bca-bb51-0de521275806-c000.snappy.parquet...\n",
      "Downloading part-00053-67ea6339-0087-4bca-bb51-0de521275806-c000.snappy.parquet...\n",
      "Downloading part-00054-67ea6339-0087-4bca-bb51-0de521275806-c000.snappy.parquet...\n",
      "Downloading part-00055-67ea6339-0087-4bca-bb51-0de521275806-c000.snappy.parquet...\n",
      "Downloading part-00056-67ea6339-0087-4bca-bb51-0de521275806-c000.snappy.parquet...\n",
      "Downloading part-00057-67ea6339-0087-4bca-bb51-0de521275806-c000.snappy.parquet...\n",
      "Downloading part-00058-67ea6339-0087-4bca-bb51-0de521275806-c000.snappy.parquet...\n",
      "Downloading part-00059-67ea6339-0087-4bca-bb51-0de521275806-c000.snappy.parquet...\n",
      "Downloading part-00060-67ea6339-0087-4bca-bb51-0de521275806-c000.snappy.parquet...\n",
      "Downloading part-00061-67ea6339-0087-4bca-bb51-0de521275806-c000.snappy.parquet...\n",
      "Downloading part-00062-67ea6339-0087-4bca-bb51-0de521275806-c000.snappy.parquet...\n",
      "Downloading part-00063-67ea6339-0087-4bca-bb51-0de521275806-c000.snappy.parquet...\n",
      "Downloading part-00064-67ea6339-0087-4bca-bb51-0de521275806-c000.snappy.parquet...\n",
      "Downloading part-00065-67ea6339-0087-4bca-bb51-0de521275806-c000.snappy.parquet...\n",
      "Downloading part-00066-67ea6339-0087-4bca-bb51-0de521275806-c000.snappy.parquet...\n",
      "Downloading part-00067-67ea6339-0087-4bca-bb51-0de521275806-c000.snappy.parquet...\n",
      "Downloading part-00068-67ea6339-0087-4bca-bb51-0de521275806-c000.snappy.parquet...\n",
      "Downloading part-00069-67ea6339-0087-4bca-bb51-0de521275806-c000.snappy.parquet...\n",
      "Downloading part-00070-67ea6339-0087-4bca-bb51-0de521275806-c000.snappy.parquet...\n",
      "Downloading part-00071-67ea6339-0087-4bca-bb51-0de521275806-c000.snappy.parquet...\n",
      "Downloading part-00072-67ea6339-0087-4bca-bb51-0de521275806-c000.snappy.parquet...\n",
      "Downloading part-00073-67ea6339-0087-4bca-bb51-0de521275806-c000.snappy.parquet...\n",
      "Downloading part-00074-67ea6339-0087-4bca-bb51-0de521275806-c000.snappy.parquet...\n",
      "Downloading part-00075-67ea6339-0087-4bca-bb51-0de521275806-c000.snappy.parquet...\n",
      "Downloading part-00076-67ea6339-0087-4bca-bb51-0de521275806-c000.snappy.parquet...\n",
      "Downloading part-00077-67ea6339-0087-4bca-bb51-0de521275806-c000.snappy.parquet...\n",
      "Downloading part-00078-67ea6339-0087-4bca-bb51-0de521275806-c000.snappy.parquet...\n",
      "Downloading part-00079-67ea6339-0087-4bca-bb51-0de521275806-c000.snappy.parquet...\n",
      "Downloading part-00080-67ea6339-0087-4bca-bb51-0de521275806-c000.snappy.parquet...\n",
      "Downloading part-00081-67ea6339-0087-4bca-bb51-0de521275806-c000.snappy.parquet...\n",
      "Downloading part-00082-67ea6339-0087-4bca-bb51-0de521275806-c000.snappy.parquet...\n",
      "Downloading part-00083-67ea6339-0087-4bca-bb51-0de521275806-c000.snappy.parquet...\n",
      "Downloading part-00084-67ea6339-0087-4bca-bb51-0de521275806-c000.snappy.parquet...\n",
      "Downloading part-00085-67ea6339-0087-4bca-bb51-0de521275806-c000.snappy.parquet...\n",
      "Downloading part-00086-67ea6339-0087-4bca-bb51-0de521275806-c000.snappy.parquet...\n",
      "Downloading part-00087-67ea6339-0087-4bca-bb51-0de521275806-c000.snappy.parquet...\n",
      "Downloading part-00088-67ea6339-0087-4bca-bb51-0de521275806-c000.snappy.parquet...\n",
      "Downloading part-00089-67ea6339-0087-4bca-bb51-0de521275806-c000.snappy.parquet...\n",
      "Downloading part-00090-67ea6339-0087-4bca-bb51-0de521275806-c000.snappy.parquet...\n",
      "Downloading part-00091-67ea6339-0087-4bca-bb51-0de521275806-c000.snappy.parquet...\n",
      "Downloading part-00092-67ea6339-0087-4bca-bb51-0de521275806-c000.snappy.parquet...\n",
      "Downloading part-00093-67ea6339-0087-4bca-bb51-0de521275806-c000.snappy.parquet...\n",
      "Downloading part-00094-67ea6339-0087-4bca-bb51-0de521275806-c000.snappy.parquet...\n",
      "Downloading part-00095-67ea6339-0087-4bca-bb51-0de521275806-c000.snappy.parquet...\n",
      "Downloading part-00096-67ea6339-0087-4bca-bb51-0de521275806-c000.snappy.parquet...\n",
      "Downloading part-00097-67ea6339-0087-4bca-bb51-0de521275806-c000.snappy.parquet...\n",
      "Downloading part-00098-67ea6339-0087-4bca-bb51-0de521275806-c000.snappy.parquet...\n",
      "Downloading part-00099-67ea6339-0087-4bca-bb51-0de521275806-c000.snappy.parquet...\n",
      "Downloading part-00100-67ea6339-0087-4bca-bb51-0de521275806-c000.snappy.parquet...\n",
      "Downloading part-00101-67ea6339-0087-4bca-bb51-0de521275806-c000.snappy.parquet...\n",
      "Downloading part-00102-67ea6339-0087-4bca-bb51-0de521275806-c000.snappy.parquet...\n",
      "Downloading part-00103-67ea6339-0087-4bca-bb51-0de521275806-c000.snappy.parquet...\n",
      "Downloading part-00104-67ea6339-0087-4bca-bb51-0de521275806-c000.snappy.parquet...\n",
      "Downloading part-00105-67ea6339-0087-4bca-bb51-0de521275806-c000.snappy.parquet...\n",
      "Downloading part-00106-67ea6339-0087-4bca-bb51-0de521275806-c000.snappy.parquet...\n",
      "Downloading part-00107-67ea6339-0087-4bca-bb51-0de521275806-c000.snappy.parquet...\n",
      "Downloading part-00108-67ea6339-0087-4bca-bb51-0de521275806-c000.snappy.parquet...\n",
      "Downloading part-00109-67ea6339-0087-4bca-bb51-0de521275806-c000.snappy.parquet...\n",
      "Downloading part-00110-67ea6339-0087-4bca-bb51-0de521275806-c000.snappy.parquet...\n",
      "Downloading part-00111-67ea6339-0087-4bca-bb51-0de521275806-c000.snappy.parquet...\n",
      "Downloading part-00112-67ea6339-0087-4bca-bb51-0de521275806-c000.snappy.parquet...\n",
      "Downloading part-00113-67ea6339-0087-4bca-bb51-0de521275806-c000.snappy.parquet...\n",
      "Downloading part-00114-67ea6339-0087-4bca-bb51-0de521275806-c000.snappy.parquet...\n",
      "Downloading part-00115-67ea6339-0087-4bca-bb51-0de521275806-c000.snappy.parquet...\n",
      "Downloading part-00116-67ea6339-0087-4bca-bb51-0de521275806-c000.snappy.parquet...\n",
      "Downloading part-00117-67ea6339-0087-4bca-bb51-0de521275806-c000.snappy.parquet...\n",
      "Downloading part-00118-67ea6339-0087-4bca-bb51-0de521275806-c000.snappy.parquet...\n",
      "Downloading part-00119-67ea6339-0087-4bca-bb51-0de521275806-c000.snappy.parquet...\n",
      "Downloading part-00120-67ea6339-0087-4bca-bb51-0de521275806-c000.snappy.parquet...\n",
      "Downloading part-00121-67ea6339-0087-4bca-bb51-0de521275806-c000.snappy.parquet...\n",
      "Downloading part-00122-67ea6339-0087-4bca-bb51-0de521275806-c000.snappy.parquet...\n",
      "Downloading part-00123-67ea6339-0087-4bca-bb51-0de521275806-c000.snappy.parquet...\n",
      "Downloading part-00124-67ea6339-0087-4bca-bb51-0de521275806-c000.snappy.parquet...\n",
      "Downloading part-00125-67ea6339-0087-4bca-bb51-0de521275806-c000.snappy.parquet...\n",
      "Downloading part-00126-67ea6339-0087-4bca-bb51-0de521275806-c000.snappy.parquet...\n",
      "Downloading part-00127-67ea6339-0087-4bca-bb51-0de521275806-c000.snappy.parquet...\n",
      "Downloading part-00128-67ea6339-0087-4bca-bb51-0de521275806-c000.snappy.parquet...\n",
      "Downloading part-00129-67ea6339-0087-4bca-bb51-0de521275806-c000.snappy.parquet...\n",
      "Downloading part-00130-67ea6339-0087-4bca-bb51-0de521275806-c000.snappy.parquet...\n",
      "Downloading part-00131-67ea6339-0087-4bca-bb51-0de521275806-c000.snappy.parquet...\n",
      "Downloading part-00132-67ea6339-0087-4bca-bb51-0de521275806-c000.snappy.parquet...\n",
      "Downloading part-00133-67ea6339-0087-4bca-bb51-0de521275806-c000.snappy.parquet...\n",
      "Downloading part-00134-67ea6339-0087-4bca-bb51-0de521275806-c000.snappy.parquet...\n",
      "Downloading part-00135-67ea6339-0087-4bca-bb51-0de521275806-c000.snappy.parquet...\n",
      "Downloading part-00136-67ea6339-0087-4bca-bb51-0de521275806-c000.snappy.parquet...\n",
      "Downloading part-00137-67ea6339-0087-4bca-bb51-0de521275806-c000.snappy.parquet...\n",
      "Downloading part-00138-67ea6339-0087-4bca-bb51-0de521275806-c000.snappy.parquet...\n",
      "Downloading part-00139-67ea6339-0087-4bca-bb51-0de521275806-c000.snappy.parquet...\n",
      "Downloading part-00140-67ea6339-0087-4bca-bb51-0de521275806-c000.snappy.parquet...\n",
      "Downloading part-00141-67ea6339-0087-4bca-bb51-0de521275806-c000.snappy.parquet...\n",
      "Downloading part-00142-67ea6339-0087-4bca-bb51-0de521275806-c000.snappy.parquet...\n",
      "Downloading part-00143-67ea6339-0087-4bca-bb51-0de521275806-c000.snappy.parquet...\n",
      "Downloading part-00144-67ea6339-0087-4bca-bb51-0de521275806-c000.snappy.parquet...\n",
      "Downloading part-00145-67ea6339-0087-4bca-bb51-0de521275806-c000.snappy.parquet...\n",
      "Downloading part-00146-67ea6339-0087-4bca-bb51-0de521275806-c000.snappy.parquet...\n",
      "Downloading part-00147-67ea6339-0087-4bca-bb51-0de521275806-c000.snappy.parquet...\n",
      "Downloading part-00148-67ea6339-0087-4bca-bb51-0de521275806-c000.snappy.parquet...\n",
      "Downloading part-00149-67ea6339-0087-4bca-bb51-0de521275806-c000.snappy.parquet...\n",
      "Downloading part-00150-67ea6339-0087-4bca-bb51-0de521275806-c000.snappy.parquet...\n",
      "Downloading part-00151-67ea6339-0087-4bca-bb51-0de521275806-c000.snappy.parquet...\n",
      "Downloading part-00152-67ea6339-0087-4bca-bb51-0de521275806-c000.snappy.parquet...\n",
      "Downloading part-00153-67ea6339-0087-4bca-bb51-0de521275806-c000.snappy.parquet...\n",
      "Downloading part-00154-67ea6339-0087-4bca-bb51-0de521275806-c000.snappy.parquet...\n",
      "Downloading part-00155-67ea6339-0087-4bca-bb51-0de521275806-c000.snappy.parquet...\n",
      "Downloading part-00156-67ea6339-0087-4bca-bb51-0de521275806-c000.snappy.parquet...\n",
      "Downloading part-00157-67ea6339-0087-4bca-bb51-0de521275806-c000.snappy.parquet...\n",
      "Downloading part-00158-67ea6339-0087-4bca-bb51-0de521275806-c000.snappy.parquet...\n",
      "Downloading part-00159-67ea6339-0087-4bca-bb51-0de521275806-c000.snappy.parquet...\n",
      "Downloading part-00160-67ea6339-0087-4bca-bb51-0de521275806-c000.snappy.parquet...\n",
      "Downloading part-00161-67ea6339-0087-4bca-bb51-0de521275806-c000.snappy.parquet...\n",
      "Downloading part-00162-67ea6339-0087-4bca-bb51-0de521275806-c000.snappy.parquet...\n",
      "Downloading part-00163-67ea6339-0087-4bca-bb51-0de521275806-c000.snappy.parquet...\n",
      "Downloading part-00164-67ea6339-0087-4bca-bb51-0de521275806-c000.snappy.parquet...\n",
      "Downloading part-00165-67ea6339-0087-4bca-bb51-0de521275806-c000.snappy.parquet...\n",
      "Downloading part-00166-67ea6339-0087-4bca-bb51-0de521275806-c000.snappy.parquet...\n",
      "Downloading part-00167-67ea6339-0087-4bca-bb51-0de521275806-c000.snappy.parquet...\n",
      "Downloading part-00168-67ea6339-0087-4bca-bb51-0de521275806-c000.snappy.parquet...\n",
      "Downloading part-00169-67ea6339-0087-4bca-bb51-0de521275806-c000.snappy.parquet...\n",
      "Downloading part-00170-67ea6339-0087-4bca-bb51-0de521275806-c000.snappy.parquet...\n",
      "Downloading part-00171-67ea6339-0087-4bca-bb51-0de521275806-c000.snappy.parquet...\n",
      "Downloading part-00172-67ea6339-0087-4bca-bb51-0de521275806-c000.snappy.parquet...\n",
      "Downloading part-00173-67ea6339-0087-4bca-bb51-0de521275806-c000.snappy.parquet...\n",
      "Downloading part-00174-67ea6339-0087-4bca-bb51-0de521275806-c000.snappy.parquet...\n",
      "Downloading part-00175-67ea6339-0087-4bca-bb51-0de521275806-c000.snappy.parquet...\n",
      "Downloading part-00176-67ea6339-0087-4bca-bb51-0de521275806-c000.snappy.parquet...\n",
      "Downloading part-00177-67ea6339-0087-4bca-bb51-0de521275806-c000.snappy.parquet...\n",
      "Downloading part-00178-67ea6339-0087-4bca-bb51-0de521275806-c000.snappy.parquet...\n",
      "Downloading part-00179-67ea6339-0087-4bca-bb51-0de521275806-c000.snappy.parquet...\n",
      "Downloading part-00180-67ea6339-0087-4bca-bb51-0de521275806-c000.snappy.parquet...\n",
      "Downloading part-00181-67ea6339-0087-4bca-bb51-0de521275806-c000.snappy.parquet...\n",
      "Downloading part-00182-67ea6339-0087-4bca-bb51-0de521275806-c000.snappy.parquet...\n",
      "Downloading part-00183-67ea6339-0087-4bca-bb51-0de521275806-c000.snappy.parquet...\n",
      "Downloading part-00184-67ea6339-0087-4bca-bb51-0de521275806-c000.snappy.parquet...\n",
      "Downloading part-00185-67ea6339-0087-4bca-bb51-0de521275806-c000.snappy.parquet...\n",
      "Downloading part-00186-67ea6339-0087-4bca-bb51-0de521275806-c000.snappy.parquet...\n",
      "Downloading part-00187-67ea6339-0087-4bca-bb51-0de521275806-c000.snappy.parquet...\n",
      "Downloading part-00188-67ea6339-0087-4bca-bb51-0de521275806-c000.snappy.parquet...\n",
      "Downloading part-00189-67ea6339-0087-4bca-bb51-0de521275806-c000.snappy.parquet...\n",
      "Downloading part-00190-67ea6339-0087-4bca-bb51-0de521275806-c000.snappy.parquet...\n",
      "Downloading part-00191-67ea6339-0087-4bca-bb51-0de521275806-c000.snappy.parquet...\n",
      "Downloading part-00192-67ea6339-0087-4bca-bb51-0de521275806-c000.snappy.parquet...\n",
      "Downloading part-00193-67ea6339-0087-4bca-bb51-0de521275806-c000.snappy.parquet...\n",
      "Downloading part-00194-67ea6339-0087-4bca-bb51-0de521275806-c000.snappy.parquet...\n",
      "Downloading part-00195-67ea6339-0087-4bca-bb51-0de521275806-c000.snappy.parquet...\n",
      "Downloading part-00196-67ea6339-0087-4bca-bb51-0de521275806-c000.snappy.parquet...\n",
      "Downloading part-00197-67ea6339-0087-4bca-bb51-0de521275806-c000.snappy.parquet...\n",
      "Downloading part-00198-67ea6339-0087-4bca-bb51-0de521275806-c000.snappy.parquet...\n",
      "Downloading part-00199-67ea6339-0087-4bca-bb51-0de521275806-c000.snappy.parquet...\n"
     ]
    }
   ],
   "source": [
    "\n",
    "import os\n",
    "import urllib.request\n",
    "from bs4 import BeautifulSoup\n",
    "\n",
    "# FTP URL\n",
    "url = \"http://ftp.ebi.ac.uk/pub/databases/opentargets/platform/25.03/output/association_overall_direct/\"\n",
    "save_dir = \"association_by_datasource_direct\"\n",
    "os.makedirs(save_dir, exist_ok=True)\n",
    "\n",
    "# Parse HTML for .parquet links\n",
    "with urllib.request.urlopen(url) as response:\n",
    "    soup = BeautifulSoup(response.read(), \"html.parser\")\n",
    "\n",
    "# Download each .parquet file\n",
    "for link in soup.find_all(\"a\"):\n",
    "    href = link.get(\"href\")\n",
    "    if href.endswith(\".parquet\"):\n",
    "        full_url = url + href\n",
    "        save_path = os.path.join(save_dir, href)\n",
    "        print(f\"Downloading {href}...\")\n",
    "        urllib.request.urlretrieve(full_url, save_path)\n"
   ]
  },
  {
   "cell_type": "markdown",
   "id": "d7b98204",
   "metadata": {},
   "source": [
    "### GRAPH THING => \n",
    "### Create a graph of nodes = genes \n",
    "### edges = the euclidean distance of the gene's disease vector"
   ]
  },
  {
   "cell_type": "code",
   "execution_count": 1,
   "id": "a9493ed6",
   "metadata": {},
   "outputs": [
    {
     "name": "stdout",
     "output_type": "stream",
     "text": [
      "      diseaseId         targetId     score  evidenceCount\n",
      "0  DOID_0050890  ENSG00000001084  0.031799              4\n",
      "1  DOID_0050890  ENSG00000004142  0.002217              1\n",
      "2  DOID_0050890  ENSG00000004478  0.002217              1\n",
      "3  DOID_0050890  ENSG00000004948  0.002957              1\n",
      "4  DOID_0050890  ENSG00000005381  0.002217              1\n",
      "3628026\n"
     ]
    }
   ],
   "source": [
    "import os\n",
    "import pandas as pd\n",
    "\n",
    "# Set the path to your openTargets folder\n",
    "folder_path = \"./openTargets\"\n",
    "\n",
    "# List all files in the folder\n",
    "parquet_files = [f for f in os.listdir(folder_path) if f.endswith('.parquet')]\n",
    "\n",
    "# Initialize an empty list to hold individual DataFrames\n",
    "df_list = []\n",
    "\n",
    "# Read each Parquet file and append the resulting DataFrame to the list\n",
    "for parquet_file in parquet_files:\n",
    "    file_path = os.path.join(folder_path, parquet_file)\n",
    "    df = pd.read_parquet(file_path)  # Read the Parquet file\n",
    "    df_list.append(df)\n",
    "\n",
    "# Concatenate all DataFrames into one\n",
    "openTargets_df = pd.concat(df_list, ignore_index=True)\n",
    "\n",
    "# Now combined_df contains all the data from the Parquet files\n",
    "print(openTargets_df.head())  # Preview the first few rows\n",
    "print(len(openTargets_df))"
   ]
  },
  {
   "cell_type": "code",
   "execution_count": 2,
   "id": "b8d061fe",
   "metadata": {},
   "outputs": [
    {
     "name": "stdout",
     "output_type": "stream",
     "text": [
      "synucleinopathy\n"
     ]
    }
   ],
   "source": [
    "import pronto\n",
    "\n",
    "# Load the ontology\n",
    "ontology = pronto.Ontology(\"http://purl.obolibrary.org/obo/doid.obo\")\n",
    "\n",
    "# Example: map DOIDs to names\n",
    "doid_to_name = {term.id: term.name for term in ontology.terms() if term.id.startswith(\"DOID\")}\n",
    "print(doid_to_name[\"DOID:0050890\"]) "
   ]
  },
  {
   "cell_type": "code",
   "execution_count": 3,
   "id": "2389affd",
   "metadata": {},
   "outputs": [
    {
     "name": "stderr",
     "output_type": "stream",
     "text": [
      "C:\\Users\\richa\\AppData\\Local\\Temp\\ipykernel_25020\\2550174201.py:2: DtypeWarning: Columns (0) have mixed types. Specify dtype option on import or set low_memory=False.\n",
      "  df = pd.read_csv(\"./Ensembl/Homo_sapiens.GRCh38.113.gtf.gz\", sep='\\t', comment='#', header=None)\n"
     ]
    }
   ],
   "source": [
    "import pandas as pd\n",
    "df = pd.read_csv(\"./Ensembl/Homo_sapiens.GRCh38.113.gtf.gz\", sep='\\t', comment='#', header=None)"
   ]
  },
  {
   "cell_type": "code",
   "execution_count": 4,
   "id": "183e434e",
   "metadata": {},
   "outputs": [
    {
     "name": "stderr",
     "output_type": "stream",
     "text": [
      "Extracting gene info: 100%|██████████| 4114450/4114450 [02:32<00:00, 26916.80it/s]\n"
     ]
    },
    {
     "name": "stdout",
     "output_type": "stream",
     "text": [
      "             gene_id gene_name\n",
      "0    ENSG00000142611    PRDM16\n",
      "220  ENSG00000284616      None\n",
      "226  ENSG00000157911     PEX10\n",
      "346  ENSG00000260972      None\n",
      "349  ENSG00000224340  RPL21P21\n"
     ]
    }
   ],
   "source": [
    "import pandas as pd\n",
    "from tqdm import tqdm\n",
    "\n",
    "# Assuming df is already loaded\n",
    "# Define a function to extract the gene_id and gene_name from the attribute column\n",
    "def extract_gene_info(attributes):\n",
    "    # Split by semicolon and strip whitespace\n",
    "    attributes = attributes.split(';')\n",
    "    \n",
    "    # Initialize the gene_id and gene_name as None\n",
    "    gene_id = None\n",
    "    gene_name = None\n",
    "    \n",
    "    # Loop through the key-value pairs and extract gene_id and gene_name\n",
    "    for attribute in attributes:\n",
    "        if 'gene_id' in attribute:\n",
    "            gene_id = attribute.split('\"')[1]  # Extract value between quotes\n",
    "        elif 'gene_name' in attribute:\n",
    "            gene_name = attribute.split('\"')[1]  # Extract value between quotes\n",
    "    \n",
    "    return pd.Series([gene_id, gene_name])\n",
    "\n",
    "# Use tqdm to apply the function with a progress bar\n",
    "tqdm.pandas(desc=\"Extracting gene info\")\n",
    "\n",
    "# Apply the function to the 'attribute' column with tqdm progress bar\n",
    "gene_info_df = df[8].progress_apply(extract_gene_info)\n",
    "\n",
    "# Set column names\n",
    "gene_info_df.columns = ['gene_id', 'gene_name']\n",
    "\n",
    "# Drop duplicates based on the 'gene_id' and 'gene_name' pair\n",
    "gene_info_df = gene_info_df.drop_duplicates()\n",
    "\n",
    "# Display the new DataFrame\n",
    "print(gene_info_df.head())\n"
   ]
  },
  {
   "cell_type": "code",
   "execution_count": 8,
   "id": "d26ec6d3",
   "metadata": {},
   "outputs": [],
   "source": [
    "import pandas as pd\n",
    "\n",
    "# Load MONDO nodes\n",
    "mondo_df = pd.read_csv(\"./mondo/mondo_nodes.tsv\", sep=\"\\t\")\n",
    "\n",
    "# Drop rows without xrefs\n",
    "mondo_df = mondo_df.dropna(subset=[\"xref\"])\n",
    "\n",
    "xref_to_name = {}\n",
    "\n",
    "# Iterate over rows to extract all xrefs and map them to MONDO name\n",
    "for _, row in mondo_df.iterrows():\n",
    "    name = row['name']\n",
    "    xrefs = row['xref'].split('|')\n",
    "    for xref in xrefs:\n",
    "        xref_to_name[xref] = name\n",
    "\n",
    "# OPTIONAL: include MONDO IDs too\n",
    "for _, row in mondo_df.iterrows():\n",
    "    mondo_id = row['id']\n",
    "    name = row['name']\n",
    "    xref_to_name[mondo_id] = name\n",
    "\n",
    "# Now you can use it like this\n",
    "openTargets_df['diseaseCommonName'] = openTargets_df['diseaseId'].str.replace(\"_\", \":\", regex=False).map(xref_to_name)\n"
   ]
  },
  {
   "cell_type": "code",
   "execution_count": 9,
   "id": "ecbdcb28",
   "metadata": {},
   "outputs": [],
   "source": [
    "gene_id_to_name = dict(zip(gene_info_df['gene_id'], gene_info_df['gene_name']))\n",
    "\n",
    "# Step 2: Vectorized operations (no swifter needed anymore!)\n",
    "openTargets_df['geneCommonName'] = openTargets_df['targetId'].map(gene_id_to_name)\n"
   ]
  },
  {
   "cell_type": "code",
   "execution_count": 10,
   "id": "c55836f9",
   "metadata": {},
   "outputs": [
    {
     "name": "stdout",
     "output_type": "stream",
     "text": [
      "      diseaseId         targetId     score  evidenceCount diseaseCommonName  \\\n",
      "0  DOID_0050890  ENSG00000001084  0.031799              4   synucleinopathy   \n",
      "1  DOID_0050890  ENSG00000004142  0.002217              1   synucleinopathy   \n",
      "2  DOID_0050890  ENSG00000004478  0.002217              1   synucleinopathy   \n",
      "3  DOID_0050890  ENSG00000004948  0.002957              1   synucleinopathy   \n",
      "4  DOID_0050890  ENSG00000005381  0.002217              1   synucleinopathy   \n",
      "\n",
      "  geneCommonName  \n",
      "0           GCLC  \n",
      "1        POLDIP2  \n",
      "2          FKBP4  \n",
      "3          CALCR  \n",
      "4            MPO  \n",
      "3628026\n",
      "['GCLC' 'POLDIP2' 'FKBP4' ... 'ADAM24P' 'MIR6893' 'LINC00970']\n",
      "(25553,)\n",
      "['synucleinopathy' 'trypanosomiasis' 'giardiasis' ...\n",
      " 'albinism-hearing loss syndrome' 'PEHO-like syndrome'\n",
      " 'obsolete primary parathyroid hyperplasia']\n",
      "(11853,)\n",
      "         diseaseId         targetId     score  evidenceCount  \\\n",
      "15902  EFO_0000180  ENSG00000000460  0.003696              1   \n",
      "15903  EFO_0000180  ENSG00000000938  0.073916              1   \n",
      "15904  EFO_0000180  ENSG00000001084  0.003696              1   \n",
      "15905  EFO_0000180  ENSG00000001631  0.005061              4   \n",
      "15906  EFO_0000180  ENSG00000002016  0.004414              3   \n",
      "\n",
      "      diseaseCommonName geneCommonName  \n",
      "15902               NaN          FIRRM  \n",
      "15903               NaN            FGR  \n",
      "15904               NaN           GCLC  \n",
      "15905               NaN          KRIT1  \n",
      "15906               NaN          RAD52  \n",
      "Number of missing disease names: 774157\n",
      "1900044\n"
     ]
    }
   ],
   "source": [
    "print(openTargets_df.head())\n",
    "print(len(openTargets_df))\n",
    "print(openTargets_df[\"geneCommonName\"].unique())\n",
    "print(openTargets_df[\"geneCommonName\"].unique().shape)\n",
    "print(openTargets_df[\"diseaseCommonName\"].unique())\n",
    "print(openTargets_df[\"diseaseCommonName\"].unique().shape)\n",
    "missing_disease_rows = openTargets_df[openTargets_df['diseaseCommonName'].isna()]\n",
    "print(missing_disease_rows.head())\n",
    "print(\"Number of missing disease names:\", missing_disease_rows.shape[0])\n",
    "print(openTargets_df['diseaseId'].str.startswith(\"EFO_\").sum())\n"
   ]
  },
  {
   "cell_type": "code",
   "execution_count": 12,
   "id": "506713d8",
   "metadata": {},
   "outputs": [
    {
     "data": {
      "text/plain": [
       "2842003"
      ]
     },
     "execution_count": 12,
     "metadata": {},
     "output_type": "execute_result"
    }
   ],
   "source": [
    "openTargets_df = openTargets_df.dropna(subset=[\"diseaseCommonName\", \"geneCommonName\"])\n",
    "len(openTargets_df)"
   ]
  },
  {
   "cell_type": "code",
   "execution_count": 13,
   "id": "ccbf3642",
   "metadata": {},
   "outputs": [
    {
     "name": "stdout",
     "output_type": "stream",
     "text": [
      "Index(['10q22.3q23.3 microduplication syndrome',\n",
      "       '12q14 microdeletion syndrome', '14q11.2 microduplication syndrome',\n",
      "       '14q12 microdeletion syndrome', '14q24.1q24.3 microdeletion syndrome',\n",
      "       '15q overgrowth syndrome', '15q11q13 microduplication syndrome',\n",
      "       '15q14 microdeletion syndrome', '16p13.11 microdeletion syndrome',\n",
      "       '16p13.11 microduplication syndrome',\n",
      "       ...\n",
      "       'xeroderma pigmentosum-Cockayne syndrome complex',\n",
      "       'xerosis and growth failure with immune and pulmonary dysfunction syndrome',\n",
      "       'yellow nail syndrome', 'yolk sac tumor',\n",
      "       'young-onset Parkinson disease', 'zebra body myopathy',\n",
      "       'zinc deficiency, transient neonatal', 'zygodactyly type 1',\n",
      "       'zygodactyly type 2', 'zygodactyly type 3'],\n",
      "      dtype='object', name='diseaseCommonName', length=11852)\n"
     ]
    }
   ],
   "source": [
    "df_score_as_value = openTargets_df.pivot_table(\n",
    "    index='geneCommonName',\n",
    "    columns='diseaseCommonName',\n",
    "    values='score',\n",
    "    aggfunc='first'  # or 'mean'/'max' if multiple scores exist for same (gene, disease)\n",
    ")\n",
    "print(df_score_as_value.columns)"
   ]
  },
  {
   "cell_type": "code",
   "execution_count": 2,
   "id": "17bb541d",
   "metadata": {},
   "outputs": [
    {
     "ename": "NameError",
     "evalue": "name 'df_score_as_value' is not defined",
     "output_type": "error",
     "traceback": [
      "\u001b[1;31m---------------------------------------------------------------------------\u001b[0m",
      "\u001b[1;31mNameError\u001b[0m                                 Traceback (most recent call last)",
      "Cell \u001b[1;32mIn[2], line 1\u001b[0m\n\u001b[1;32m----> 1\u001b[0m \u001b[43mdf_score_as_value\u001b[49m\u001b[38;5;241m.\u001b[39mto_csv(\u001b[38;5;124m\"\u001b[39m\u001b[38;5;124m./df_score_as_value.tsv\u001b[39m\u001b[38;5;124m\"\u001b[39m, sep\u001b[38;5;241m=\u001b[39m\u001b[38;5;124m\"\u001b[39m\u001b[38;5;130;01m\\t\u001b[39;00m\u001b[38;5;124m\"\u001b[39m)\n",
      "\u001b[1;31mNameError\u001b[0m: name 'df_score_as_value' is not defined"
     ]
    }
   ],
   "source": [
    "df_score_as_value.to_csv(\"./df_score_as_value.tsv\", sep=\"\\t\")"
   ]
  },
  {
   "cell_type": "code",
   "execution_count": null,
   "id": "57e6a288",
   "metadata": {},
   "outputs": [
    {
     "name": "stdout",
     "output_type": "stream",
     "text": [
      "🔹 Loading dataframe...\n",
      "🔹 Extracting genes and score matrix...\n",
      "✅ Extracted 25307 genes and score matrix of shape (25307, 11851)\n",
      "🔹 Computing pairwise Cosine distances...\n",
      "✅ Distance matrix computed.\n",
      "🔹 Building graph with nodes...\n",
      "✅ Nodes added to graph.\n",
      "🔹 Preparing edge list...\n"
     ]
    },
    {
     "name": "stderr",
     "output_type": "stream",
     "text": [
      "Adding edges:  77%|███████▋  | 245902743/320209471 [54:14<1:04:53, 19082.79it/s]"
     ]
    }
   ],
   "source": [
    "import pandas as pd\n",
    "import numpy as np\n",
    "import networkx as nx\n",
    "from scipy.spatial.distance import pdist, squareform\n",
    "from tqdm import tqdm\n",
    "\n",
    "print(\"🔹 Loading dataframe...\")\n",
    "df = pd.read_csv(\"./df_score_as_value.tsv\", sep=\"\\t\", index_col=0)\n",
    "\n",
    "print(\"🔹 Extracting genes and score matrix...\")\n",
    "genes = df.iloc[:, 0].to_numpy()\n",
    "score_matrix = df.iloc[:, 1:].fillna(0).to_numpy()\n",
    "\n",
    "print(f\"✅ Extracted {len(genes)} genes and score matrix of shape {score_matrix.shape}\")\n",
    "\n",
    "print(\"🔹 Computing pairwise Cosine distances...\")\n",
    "distances = pdist(score_matrix, metric='cosine')\n",
    "distance_matrix = squareform(distances)\n",
    "\n",
    "print(\"✅ Distance matrix computed.\")\n",
    "np.save(\"distance_matrix.npy\", distance_matrix)\n",
    "\n",
    "print(\"🔹 Building graph with nodes...\")\n",
    "G = nx.Graph()\n",
    "G.add_nodes_from(genes)\n",
    "print(\"✅ Nodes added to graph.\")\n",
    "\n",
    "print(\"🔹 Preparing edge list...\")\n",
    "i_upper, j_upper = np.triu_indices(len(genes), k=1)\n",
    "\n",
    "edges = []\n",
    "for i, j in tqdm(zip(i_upper, j_upper), total=len(i_upper), desc=\"Adding edges\"):\n",
    "    edges.append((genes[i], genes[j], {'weight': distance_matrix[i, j]}))\n",
    "\n",
    "print(f\"✅ Prepared {len(edges)} edges.\")\n",
    "\n",
    "print(\"🔹 Adding edges to the graph...\")\n",
    "G.add_edges_from(edges)\n",
    "print(\"✅ Graph construction complete.\")\n",
    "\n",
    "print(f\"📊 Final graph has {G.number_of_nodes()} nodes and {G.number_of_edges()} edges.\")\n"
   ]
  },
  {
   "cell_type": "code",
   "execution_count": 1,
   "id": "a83b2b81",
   "metadata": {},
   "outputs": [
    {
     "name": "stdout",
     "output_type": "stream",
     "text": [
      "🔹 Loading dataframe...\n"
     ]
    }
   ],
   "source": [
    "import pandas as pd\n",
    "import numpy as np\n",
    "import networkx as nx\n",
    "from scipy.spatial.distance import pdist, squareform\n",
    "from tqdm import tqdm\n",
    "\n",
    "print(\"🔹 Loading dataframe...\")\n",
    "df = pd.read_csv(\"./df_score_as_value.tsv\", sep=\"\\t\", index_col=0)"
   ]
  },
  {
   "cell_type": "code",
   "execution_count": 2,
   "id": "b95d73cd",
   "metadata": {},
   "outputs": [
    {
     "name": "stdout",
     "output_type": "stream",
     "text": [
      "geneCommonName\n",
      "7SK              NaN\n",
      "A1BG        0.003696\n",
      "A1BG-AS1         NaN\n",
      "A1CF             NaN\n",
      "A2M         0.003696\n",
      "              ...   \n",
      "ZYG11A           NaN\n",
      "ZYG11B           NaN\n",
      "ZYX              NaN\n",
      "ZZEF1            NaN\n",
      "ZZZ3        0.070237\n",
      "Name: bipolar disorder, Length: 25307, dtype: float64\n"
     ]
    }
   ],
   "source": [
    "print(df[\"bipolar disorder\"])"
   ]
  },
  {
   "cell_type": "code",
   "execution_count": 3,
   "id": "c78f6b06",
   "metadata": {},
   "outputs": [
    {
     "name": "stdout",
     "output_type": "stream",
     "text": [
      "🔹 Extracting genes and score matrix...\n",
      "['7SK' 'A1BG' 'A1BG-AS1' ... 'ZYX' 'ZZEF1' 'ZZZ3']\n",
      "[[0. 0. 0. ... 0. 0. 0.]\n",
      " [0. 0. 0. ... 0. 0. 0.]\n",
      " [0. 0. 0. ... 0. 0. 0.]\n",
      " ...\n",
      " [0. 0. 0. ... 0. 0. 0.]\n",
      " [0. 0. 0. ... 0. 0. 0.]\n",
      " [0. 0. 0. ... 0. 0. 0.]]\n"
     ]
    }
   ],
   "source": [
    "print(\"🔹 Extracting genes and score matrix...\")\n",
    "genes = df.index.to_numpy()\n",
    "print(genes)\n",
    "score_matrix = df.iloc[:, 1:].fillna(0).to_numpy()\n",
    "print(score_matrix)"
   ]
  },
  {
   "cell_type": "code",
   "execution_count": 4,
   "id": "befa3910",
   "metadata": {},
   "outputs": [
    {
     "name": "stdout",
     "output_type": "stream",
     "text": [
      "🔹 Computing pairwise Cosine distances...\n",
      "🔹 Building graph with nodes...\n",
      "✅ Nodes added to graph.\n",
      "['7SK', 'A1BG', 'A1BG-AS1', 'A1CF', 'A2M', 'A2M-AS1', 'A2ML1', 'A2MP1', 'A3GALT2', 'A4GALT']\n"
     ]
    }
   ],
   "source": [
    "\n",
    "print(\"🔹 Computing pairwise Cosine distances...\")\n",
    "# distances = pdist(score_matrix, metric='cosine')\n",
    "# sim_matrix = squareform(distances)\n",
    "sim_matrix = np.load(\"distance_matrix.npy\")\n",
    "print(\"🔹 Building graph with nodes...\")\n",
    "G = nx.Graph()\n",
    "G.add_nodes_from(genes)\n",
    "print(\"✅ Nodes added to graph.\")\n",
    "print(list(G.nodes)[:10])"
   ]
  },
  {
   "cell_type": "code",
   "execution_count": 5,
   "id": "687c6b46",
   "metadata": {},
   "outputs": [
    {
     "name": "stdout",
     "output_type": "stream",
     "text": [
      "🔹 Selecting top-K similar genes per gene...\n"
     ]
    },
    {
     "name": "stderr",
     "output_type": "stream",
     "text": [
      "100%|██████████| 25307/25307 [00:14<00:00, 1733.48it/s]\n"
     ]
    },
    {
     "name": "stdout",
     "output_type": "stream",
     "text": [
      "1265350\n",
      "🔹 Constructing graph...\n",
      "✅ Graph construction complete.\n",
      "📊 Final graph has 25307 nodes and 1262444 edges.\n"
     ]
    }
   ],
   "source": [
    "# Keep top-K per row\n",
    "K = 50  # Adjust as needed\n",
    "edges = []\n",
    "print(\"🔹 Selecting top-K similar genes per gene...\")\n",
    "for i in tqdm(range(sim_matrix.shape[0])):\n",
    "    top_k_idx = np.argpartition(sim_matrix[i], -K)[-K:]\n",
    "    for j in top_k_idx:\n",
    "        if i != j:\n",
    "            weight = sim_matrix[i, j]\n",
    "            edges.append((genes[i], genes[j], {'weight': weight}))\n",
    "print(len(edges))\n",
    "# Build the graph\n",
    "print(\"🔹 Constructing graph...\")\n",
    "G = nx.Graph()\n",
    "G.add_nodes_from(genes)\n",
    "G.add_edges_from(edges)\n",
    "\n",
    "print(\"✅ Graph construction complete.\")\n",
    "print(f\"📊 Final graph has {G.number_of_nodes()} nodes and {G.number_of_edges()} edges.\")"
   ]
  },
  {
   "cell_type": "code",
   "execution_count": 6,
   "id": "5db0322f",
   "metadata": {},
   "outputs": [],
   "source": [
    "nx.write_weighted_edgelist(G, \"50_gene_distance_graph.edgelist\")"
   ]
  },
  {
   "cell_type": "code",
   "execution_count": 7,
   "id": "d6a972c8",
   "metadata": {},
   "outputs": [
    {
     "name": "stdout",
     "output_type": "stream",
     "text": [
      "Graph with 25307 nodes and 1262444 edges\n",
      "Sample nodes: ['7SK', 'A1BG', 'A1BG-AS1', 'A1CF', 'A2M', 'A2M-AS1', 'A2ML1', 'A2MP1', 'A3GALT2', 'A4GALT']\n",
      "Number of NaN nodes: 0\n"
     ]
    }
   ],
   "source": [
    "print(G)\n",
    "print(\"Sample nodes:\", list(G.nodes)[:10])\n",
    "print(\"Number of NaN nodes:\", sum(1 for n in G.nodes if str(n) == 'nan' or (isinstance(n, float) and math.isnan(n))))\n"
   ]
  },
  {
   "cell_type": "code",
   "execution_count": 26,
   "id": "8e5bee70",
   "metadata": {},
   "outputs": [
    {
     "name": "stdout",
     "output_type": "stream",
     "text": [
      "Community 9 top nodes: ['7SK', 'OR52P1', 'OR4C45', 'PACRG-AS1', 'OR52P2P']\n",
      "Community 1 top nodes: ['SPDYE15', 'SPDYE21', 'SPDYE14', 'SPDYE7P', 'SPDYE13']\n",
      "Community 2 top nodes: ['LINC02727', 'LINC02645', 'LINC02689', 'LINC02705', 'LINC02488']\n",
      "Community 3 top nodes: ['LINC02359', 'LINC02284', 'LINC02295', 'LINC02294', 'LINC02404']\n",
      "Community 4 top nodes: ['LINC01809', 'LINC01805', 'LINC01821', 'LINC01778', 'LINC01803']\n",
      "Community 5 top nodes: ['LINC01476', 'LINC01492', 'LINC01400', 'LINC01465', 'LINC01491']\n",
      "Community 6 top nodes: ['TMEM42', 'TMEM256-PLSCR3', 'KLF7-IT1', 'TBCEL-TECTA', 'TFAP2E-AS1']\n",
      "Community 7 top nodes: ['PDE2A-AS1', 'PDE4DIPP6', 'PGBD4', 'PDCD6IP-DT', 'PAPPA-AS2']\n",
      "Community 8 top nodes: ['PMCHL2', 'PNMA6E', 'PMS2P11', 'PP2D1', 'POLR2LP1']\n",
      "Community 10 top nodes: ['LACTB2-AS1', 'KRT87P', 'KRTAP7-1', 'KRTAP9-3', 'KRT8P45']\n",
      "Community 11 top nodes: ['MEIS1-AS3', 'MATN1-AS1', 'MARCKSL1P1', 'LINC00895', 'STPG2']\n",
      "Community 12 top nodes: ['MYRF-AS1', 'MTATP6P16', 'MTCO2P16', 'MTND3P16', 'MTCO3P16']\n",
      "Community 38 top nodes: ['MIR1236', 'PPP1R26-AS1', 'MIR1244-2', 'MIR1255B1', 'PPT2-EGFL8']\n",
      "Community 20 top nodes: ['MIR2861', 'MIR3936', 'MIR2681', 'MIR2392', 'MIR3614']\n",
      "Community 15 top nodes: ['OBSCN-AS1', 'OR11K1P', 'OASL2P', 'OR10G6', 'NXF5']\n",
      "Community 16 top nodes: ['MIR548F4', 'MIR548M', 'MIR548F1', 'MIR544B', 'MIR6081']\n",
      "Community 17 top nodes: ['LMO7-AS1', 'LINC03082', 'LINC03102', 'LINC03077', 'LINC03058']\n",
      "Community 18 top nodes: ['KDM2B-DT', 'KDM5DP1', 'KCTD13-DT', 'KHDC1-AS1', 'TMEM263-DT']\n",
      "Community 19 top nodes: ['LINC00395', 'LINC00308', 'LINC00440', 'LINC00208', 'LINC00678']\n",
      "Community 36 top nodes: ['MIR4642', 'MIR4695', 'MIR4795', 'MIR4499', 'MIR4770']\n",
      "Community 21 top nodes: ['SLC7A2-IT1', 'LRRC3B-AS1', 'SLC7A5P2', 'LYNX1-SLURP2', 'LSP1P3']\n",
      "Community 22 top nodes: ['PWWP4', 'PRKX-AS1', 'PSG11-AS1', 'PTPRT-DT', 'PTPRD-DT']\n",
      "Community 23 top nodes: ['NPLP1', 'NOS2P3', 'NECTIN3-AS1', 'NEMP2-DT', 'NFYAP1']\n",
      "Community 24 top nodes: ['RTEL1-TNFRSF6B', 'RPL21P9', 'RPS15AP29', 'RPL10P9', 'RPS7P11']\n",
      "Community 25 top nodes: ['LINC01903', 'LINC01914', 'LINC02045', 'LINC02040', 'LINC01854']\n",
      "Community 26 top nodes: ['TCF12-DT', 'TARS1-DT', 'TNFRSF14-AS1', 'TM4SF18-AS1', 'SSU72L6']\n",
      "Community 27 top nodes: ['LINC01340', 'LINC01168', 'LINC00970', 'LINC01202', 'LINC01028']\n",
      "Community 28 top nodes: ['LINC02778', 'LINC02812', 'LHX5-AS1', 'LHFPL1', 'LHX8-AS1']\n",
      "Community 29 top nodes: ['MIR6753', 'MIR6734', 'MIR6890', 'MIR6752', 'MIR6501']\n",
      "Community 31 top nodes: ['RNF126P1', 'RBMY1E', 'REL-DT', 'RBMY1J', 'RNU1-93P']\n",
      "Community 32 top nodes: ['TMEM184C-DT', 'TMEM167B-DT', 'TMEM18-DT', 'TANK-AS1', 'HSPB2-C11orf52']\n",
      "Community 33 top nodes: ['LINC02136', 'LINC02211', 'LINC02271', 'LINC02279', 'LINC02266']\n",
      "Community 34 top nodes: ['JMJD7-PLA2G4B', 'TMEM14DP', 'TMEM30A-DT', 'TMEM249', 'TEX13D']\n",
      "Community 41 top nodes: ['IQCA1-AS1', 'STAG3L2', 'TMEM30CP', 'TEX36', 'SRRM2-AS1']\n",
      "Community 37 top nodes: ['CCDC201']\n",
      "Community 39 top nodes: ['TMEM217B', 'CRYZL2P-SEC16B', 'CTAGE6', 'SSX4B', 'CTAGE8']\n",
      "Community 40 top nodes: ['ZZZ3', 'DENND3-AS1', 'DEPDC1-AS1', 'CBX1P3', 'HSD17B1P1']\n",
      "Community 42 top nodes: ['SNORD116-1', 'SNORD86', 'SNORD64', 'SNORA35', 'SNORD56']\n",
      "Community 43 top nodes: ['SCYGR2', 'SCYGR3', 'SCYGR5', 'SAMD12-AS1', 'SAMSN1-AS1']\n",
      "Community 44 top nodes: ['TMSB4XP6', 'FAM86HP', 'TMSB15C', 'FAM86B2', 'FAM237A']\n",
      "Community 45 top nodes: ['LINC02893', 'LINC02928', 'LINC02936', 'LINC02925', 'LINC02857']\n",
      "Community 46 top nodes: ['TMEM276', 'THRB-AS1', 'TCF4-AS1', 'TM4SF1-AS1', 'SRRD']\n",
      "Community 0 top nodes: ['TMEM95', 'TMEM11-DT', 'SORL1-AS1', 'DYRK3-AS1', 'C12orf71']\n",
      "Community 35 top nodes: ['SMIM42', 'SMCR2', 'SMIM34', 'SNAP25-AS1', 'SMG7-AS1']\n",
      "Community 13 top nodes: ['TRAJ49', 'TRAPPC12-AS1', 'TRAJ28', 'TRBV12-3', 'TRAJ7']\n",
      "Community 14 top nodes: ['TRIM39-RPP21', 'TRIM59-IFT80', 'TRIM43B', 'TROAP-AS1', 'TRIM52-AS1']\n",
      "Community 30 top nodes: ['BTF3P7', 'TTTY9A', 'TTC23L', 'BRD7P2', 'TTTY1B']\n"
     ]
    }
   ],
   "source": [
    "import community as community_louvain  # python-louvain\n",
    "import networkx as nx\n",
    "G = nx.read_edgelist(\"./50_gene_distance_graph.edgelist\", data=((\"weight\", float),))\n",
    "# Run Louvain community detection\n",
    "partition = community_louvain.best_partition(G, weight='weight', resolution=2.0)  # returns: {gene: community_id}\n",
    "\n",
    "\n",
    "#  Calculate centrality for nodes\n",
    "degree_centrality = nx.degree_centrality(G)\n",
    "\n",
    "# Group nodes by community\n",
    "communities = {}\n",
    "for node, comm_id in partition.items():\n",
    "    if comm_id not in communities:\n",
    "        communities[comm_id] = []\n",
    "    communities[comm_id].append(node)\n",
    "\n",
    "# For each community, sort by degree centrality (you can use other centrality measures)\n",
    "for comm_id, nodes in communities.items():\n",
    "    central_nodes = sorted(nodes, key=lambda x: degree_centrality[x], reverse=True)\n",
    "    print(f\"Community {comm_id} top nodes: {central_nodes[:5]}\")  # Top 5 nodes\n",
    "# # Invert the partition to get community → list of genes\n",
    "# from collections import defaultdict\n",
    "\n",
    "# communities = defaultdict(list)\n",
    "# for gene, community_id in partition.items():\n",
    "#     communities[community_id].append(gene)\n",
    "\n",
    "# # Sort by community ID and print\n",
    "# sorted_communities = dict(sorted(communities.items()))\n",
    "\n",
    "# for cid, members in sorted_communities.items():\n",
    "#     print(f\"Community {cid}: {members}\")\n",
    "    \n",
    "# with open(\"communities_resolution2.0.txt\", \"w\") as f:\n",
    "#     for cid, members in sorted_communities.items():\n",
    "#         f.write(f\"Community {cid}: {', '.join(members)}\\n\")\n"
   ]
  },
  {
   "cell_type": "code",
   "execution_count": 25,
   "id": "ffda1ebb",
   "metadata": {},
   "outputs": [
    {
     "ename": "KeyboardInterrupt",
     "evalue": "",
     "output_type": "error",
     "traceback": [
      "\u001b[1;31m---------------------------------------------------------------------------\u001b[0m",
      "\u001b[1;31mKeyboardInterrupt\u001b[0m                         Traceback (most recent call last)",
      "Cell \u001b[1;32mIn[25], line 2\u001b[0m\n\u001b[0;32m      1\u001b[0m \u001b[38;5;66;03m# Calculate betweenness centrality considering edge weights\u001b[39;00m\n\u001b[1;32m----> 2\u001b[0m betweenness_centrality \u001b[38;5;241m=\u001b[39m \u001b[43mnx\u001b[49m\u001b[38;5;241;43m.\u001b[39;49m\u001b[43mbetweenness_centrality\u001b[49m\u001b[43m(\u001b[49m\u001b[43mG\u001b[49m\u001b[43m,\u001b[49m\u001b[43m \u001b[49m\u001b[43mweight\u001b[49m\u001b[38;5;241;43m=\u001b[39;49m\u001b[38;5;124;43m'\u001b[39;49m\u001b[38;5;124;43mweight\u001b[39;49m\u001b[38;5;124;43m'\u001b[39;49m\u001b[43m)\u001b[49m\n\u001b[0;32m      4\u001b[0m \u001b[38;5;66;03m# Group nodes by community\u001b[39;00m\n\u001b[0;32m      5\u001b[0m \u001b[38;5;28;01mfor\u001b[39;00m comm_id, nodes \u001b[38;5;129;01min\u001b[39;00m communities\u001b[38;5;241m.\u001b[39mitems():\n",
      "File \u001b[1;32m<class 'networkx.utils.decorators.argmap'> compilation 10:4\u001b[0m, in \u001b[0;36margmap_betweenness_centrality_6\u001b[1;34m(G, k, normalized, weight, endpoints, seed, backend, **backend_kwargs)\u001b[0m\n\u001b[0;32m      2\u001b[0m \u001b[38;5;28;01mimport\u001b[39;00m\u001b[38;5;250m \u001b[39m\u001b[38;5;21;01mcollections\u001b[39;00m\n\u001b[0;32m      3\u001b[0m \u001b[38;5;28;01mimport\u001b[39;00m\u001b[38;5;250m \u001b[39m\u001b[38;5;21;01mgzip\u001b[39;00m\n\u001b[1;32m----> 4\u001b[0m \u001b[38;5;28;01mimport\u001b[39;00m\u001b[38;5;250m \u001b[39m\u001b[38;5;21;01minspect\u001b[39;00m\n\u001b[0;32m      5\u001b[0m \u001b[38;5;28;01mimport\u001b[39;00m\u001b[38;5;250m \u001b[39m\u001b[38;5;21;01mitertools\u001b[39;00m\n\u001b[0;32m      6\u001b[0m \u001b[38;5;28;01mimport\u001b[39;00m\u001b[38;5;250m \u001b[39m\u001b[38;5;21;01mre\u001b[39;00m\n",
      "File \u001b[1;32mc:\\Users\\richa\\Desktop\\CodingWorkspaces\\DGI-Hypergraph-Fin\\torchdgivenv\\lib\\site-packages\\networkx\\utils\\backends.py:967\u001b[0m, in \u001b[0;36m_dispatchable.__call__\u001b[1;34m(self, backend, *args, **kwargs)\u001b[0m\n\u001b[0;32m    965\u001b[0m     \u001b[38;5;28;01mif\u001b[39;00m backend \u001b[38;5;129;01mis\u001b[39;00m \u001b[38;5;129;01mnot\u001b[39;00m \u001b[38;5;28;01mNone\u001b[39;00m \u001b[38;5;129;01mand\u001b[39;00m backend \u001b[38;5;241m!=\u001b[39m \u001b[38;5;124m\"\u001b[39m\u001b[38;5;124mnetworkx\u001b[39m\u001b[38;5;124m\"\u001b[39m:\n\u001b[0;32m    966\u001b[0m         \u001b[38;5;28;01mraise\u001b[39;00m \u001b[38;5;167;01mImportError\u001b[39;00m(\u001b[38;5;124mf\u001b[39m\u001b[38;5;124m\"\u001b[39m\u001b[38;5;124m'\u001b[39m\u001b[38;5;132;01m{\u001b[39;00mbackend\u001b[38;5;132;01m}\u001b[39;00m\u001b[38;5;124m'\u001b[39m\u001b[38;5;124m backend is not installed\u001b[39m\u001b[38;5;124m\"\u001b[39m)\n\u001b[1;32m--> 967\u001b[0m     \u001b[38;5;28;01mreturn\u001b[39;00m \u001b[38;5;28mself\u001b[39m\u001b[38;5;241m.\u001b[39morig_func(\u001b[38;5;241m*\u001b[39margs, \u001b[38;5;241m*\u001b[39m\u001b[38;5;241m*\u001b[39mkwargs)\n\u001b[0;32m    969\u001b[0m \u001b[38;5;66;03m# Use `backend_name` in this function instead of `backend`.\u001b[39;00m\n\u001b[0;32m    970\u001b[0m \u001b[38;5;66;03m# This is purely for aesthetics and to make it easier to search for this\u001b[39;00m\n\u001b[0;32m    971\u001b[0m \u001b[38;5;66;03m# variable since \"backend\" is used in many comments and log/error messages.\u001b[39;00m\n\u001b[0;32m    972\u001b[0m backend_name \u001b[38;5;241m=\u001b[39m backend\n",
      "File \u001b[1;32mc:\\Users\\richa\\Desktop\\CodingWorkspaces\\DGI-Hypergraph-Fin\\torchdgivenv\\lib\\site-packages\\networkx\\algorithms\\centrality\\betweenness.py:139\u001b[0m, in \u001b[0;36mbetweenness_centrality\u001b[1;34m(G, k, normalized, weight, endpoints, seed)\u001b[0m\n\u001b[0;32m    137\u001b[0m     S, P, sigma, _ \u001b[38;5;241m=\u001b[39m _single_source_shortest_path_basic(G, s)\n\u001b[0;32m    138\u001b[0m \u001b[38;5;28;01melse\u001b[39;00m:  \u001b[38;5;66;03m# use Dijkstra's algorithm\u001b[39;00m\n\u001b[1;32m--> 139\u001b[0m     S, P, sigma, _ \u001b[38;5;241m=\u001b[39m \u001b[43m_single_source_dijkstra_path_basic\u001b[49m\u001b[43m(\u001b[49m\u001b[43mG\u001b[49m\u001b[43m,\u001b[49m\u001b[43m \u001b[49m\u001b[43ms\u001b[49m\u001b[43m,\u001b[49m\u001b[43m \u001b[49m\u001b[43mweight\u001b[49m\u001b[43m)\u001b[49m\n\u001b[0;32m    140\u001b[0m \u001b[38;5;66;03m# accumulation\u001b[39;00m\n\u001b[0;32m    141\u001b[0m \u001b[38;5;28;01mif\u001b[39;00m endpoints:\n",
      "File \u001b[1;32mc:\\Users\\richa\\Desktop\\CodingWorkspaces\\DGI-Hypergraph-Fin\\torchdgivenv\\lib\\site-packages\\networkx\\algorithms\\centrality\\betweenness.py:304\u001b[0m, in \u001b[0;36m_single_source_dijkstra_path_basic\u001b[1;34m(G, s, weight)\u001b[0m\n\u001b[0;32m    302\u001b[0m S\u001b[38;5;241m.\u001b[39mappend(v)\n\u001b[0;32m    303\u001b[0m D[v] \u001b[38;5;241m=\u001b[39m dist\n\u001b[1;32m--> 304\u001b[0m \u001b[38;5;28;01mfor\u001b[39;00m w, edgedata \u001b[38;5;129;01min\u001b[39;00m G[v]\u001b[38;5;241m.\u001b[39mitems():\n\u001b[0;32m    305\u001b[0m     vw_dist \u001b[38;5;241m=\u001b[39m dist \u001b[38;5;241m+\u001b[39m weight(v, w, edgedata)\n\u001b[0;32m    306\u001b[0m     \u001b[38;5;28;01mif\u001b[39;00m w \u001b[38;5;129;01mnot\u001b[39;00m \u001b[38;5;129;01min\u001b[39;00m D \u001b[38;5;129;01mand\u001b[39;00m (w \u001b[38;5;129;01mnot\u001b[39;00m \u001b[38;5;129;01min\u001b[39;00m seen \u001b[38;5;129;01mor\u001b[39;00m vw_dist \u001b[38;5;241m<\u001b[39m seen[w]):\n",
      "File \u001b[1;32m~\\AppData\\Local\\Programs\\Python\\Python310\\lib\\_collections_abc.py:911\u001b[0m, in \u001b[0;36mItemsView.__iter__\u001b[1;34m(self)\u001b[0m\n\u001b[0;32m    909\u001b[0m \u001b[38;5;28;01mdef\u001b[39;00m\u001b[38;5;250m \u001b[39m\u001b[38;5;21m__iter__\u001b[39m(\u001b[38;5;28mself\u001b[39m):\n\u001b[0;32m    910\u001b[0m     \u001b[38;5;28;01mfor\u001b[39;00m key \u001b[38;5;129;01min\u001b[39;00m \u001b[38;5;28mself\u001b[39m\u001b[38;5;241m.\u001b[39m_mapping:\n\u001b[1;32m--> 911\u001b[0m         \u001b[38;5;28;01myield\u001b[39;00m (key, \u001b[38;5;28mself\u001b[39m\u001b[38;5;241m.\u001b[39m_mapping[key])\n",
      "\u001b[1;31mKeyboardInterrupt\u001b[0m: "
     ]
    }
   ],
   "source": [
    "# Calculate betweenness centrality considering edge weights\n",
    "betweenness_centrality = nx.betweenness_centrality(G, weight='weight')\n",
    "\n",
    "# Group nodes by community\n",
    "for comm_id, nodes in communities.items():\n",
    "    central_nodes = sorted(nodes, key=lambda x: betweenness_centrality[x], reverse=True)\n",
    "    print(f\"Community {comm_id} top nodes by betweenness: {central_nodes[:5]}\")  # Top 5 nodes\n"
   ]
  },
  {
   "cell_type": "markdown",
   "id": "e6ff6940",
   "metadata": {},
   "source": [
    "## Other goal = given a disease, normalize their scores aka have their score = score / total genes then see how our genes compare"
   ]
  }
 ],
 "metadata": {
  "kernelspec": {
   "display_name": "torchdgivenv",
   "language": "python",
   "name": "python3"
  },
  "language_info": {
   "codemirror_mode": {
    "name": "ipython",
    "version": 3
   },
   "file_extension": ".py",
   "mimetype": "text/x-python",
   "name": "python",
   "nbconvert_exporter": "python",
   "pygments_lexer": "ipython3",
   "version": "3.10.11"
  }
 },
 "nbformat": 4,
 "nbformat_minor": 5
}
